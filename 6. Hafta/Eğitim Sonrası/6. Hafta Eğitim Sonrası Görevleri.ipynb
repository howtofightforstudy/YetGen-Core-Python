{
 "cells": [
  {
   "cell_type": "markdown",
   "metadata": {
    "id": "unoTPlV_tJOm"
   },
   "source": [
    "# Problem 1 \n",
    "Bir sayının çift olup olmadığını sorgulayan bir fonksiyon yazın. Bu fonksiyon, eğer sayı çift ise bu değeri dönsün. Ancak sayı tek sayı ise fonksiyon raise ile ValueError hatası oluştursun. Daha sonra, içinde çift ve tek sayılar bulunduran bir liste tanımlayın ve liste üzerinde gezinerek ekrana sadece çift sayıları bastırın."
   ]
  },
  {
   "cell_type": "code",
   "execution_count": null,
   "metadata": {
    "id": "7oyBSeXptJOp"
   },
   "outputs": [
    {
     "name": "stdout",
     "output_type": "stream",
     "text": [
      "2\n",
      "4\n",
      "6\n",
      "8\n",
      "10\n"
     ]
    }
   ],
   "source": [
    "def ciftMi(sayilar):\n",
    "    if sayi % 2 == 0:\n",
    "        return sayi\n",
    "    else:\n",
    "        raise ValueError(\"Sayı tek, hata oluştu!\")\n",
    "\n",
    "sayilar = [2, 3, 4, 5, 6, 7, 8, 9, 10]\n",
    "\n",
    "for sayi in sayilar:\n",
    "    try:\n",
    "        sonuc = ciftMi(sayi)\n",
    "        print(sonuc)  \n",
    "    except ValueError as e:\n",
    "        continue"
   ]
  },
  {
   "cell_type": "markdown",
   "metadata": {
    "id": "CdfzJ2A9tJOq"
   },
   "source": [
    "# Problem 2\n",
    "\n",
    "2 YetGen lideri ders sırasında canları sıkılınca oyun oynamak isterler. Ancak hangi oyunu oynayacaklarına karar veremezler ve son olarak kendi oyunlarını yazmaya karar verirler.\n",
    "Liderlerimizin kodlamak istediği oyun kuralları şöyledir:\n",
    "- Oyunda random olarak 0 ile 100 arasında bir sayı tutulur.\n",
    "- Kullanıcıdan bilgisayarın tuttuğu sayıyı tahmin etmesi için bir sayı girmesini istenir.\n",
    "- Eğer kullanıcının girdiği sayı bulunması gereken sayıdan küçükse  tahmininizi yükseltin, büyükse tahmininizi düşürün şeklinde bir çıktı verilir.\n",
    "- Oyunun gerçeğe yakın olması için bilgisayarın çalışmasını simgelemek için 1 saniye bekleme süresi tanınır.\n",
    "- Kullanıcı 5 hakkı vardır. 5 hakkı da kullanıp sayıyı bulamazsa oyunu kaybeder."
   ]
  },
  {
   "cell_type": "code",
   "execution_count": 1,
   "metadata": {
    "id": "A1VEETgCtJOr"
   },
   "outputs": [
    {
     "name": "stdout",
     "output_type": "stream",
     "text": [
      "Oyuna hoş geldiniz! Bilgisayarın tuttuğu sayıyı tahmin etmeye çalışın.\n",
      "0 ile 100 arasında bir sayı tuttuğumuzu söyleyebilirim. 5 tahmin hakkınız var.\n",
      "Tahmininiz büyük. Tahmininizi düşürün.\n",
      "Tahmininiz büyük. Tahmininizi düşürün.\n",
      "Tahmininiz küçük. Tahmininizi yükseltin.\n",
      "Tahmininiz büyük. Tahmininizi düşürün.\n",
      "Tahmininiz büyük. Tahmininizi düşürün.\n",
      "\n",
      "Oyunun süresi bitti! Bilgisayarın tuttuğu sayı: 34 idi. Bir dahaki sefere daha dikkatli olun!\n"
     ]
    }
   ],
   "source": [
    "import random\n",
    "import time\n",
    "\n",
    "def oyun():\n",
    "    sayi = random.randint(0, 100)\n",
    "    hak = 5  \n",
    "\n",
    "    print(\"Oyuna hoş geldiniz! Bilgisayarın tuttuğu sayıyı tahmin etmeye çalışın.\")\n",
    "    print(f\"0 ile 100 arasında bir sayı tuttuğumuzu söyleyebilirim. 5 tahmin hakkınız var.\")\n",
    "    \n",
    "    while hak > 0:\n",
    "        try:\n",
    "            tahmin = int(input(f\"\\nKalan tahmin hakkınız: {hak}. Bir sayı girin: \"))\n",
    "            \n",
    "            if tahmin == sayi:\n",
    "                print(\"Tebrikler! Sayıyı doğru tahmin ettiniz!\")\n",
    "                break\n",
    "            \n",
    "            elif tahmin < sayi:\n",
    "                print(\"Tahmininiz küçük. Tahmininizi yükseltin.\")\n",
    "            \n",
    "            elif tahmin > sayi:\n",
    "                print(\"Tahmininiz büyük. Tahmininizi düşürün.\")\n",
    "            \n",
    "            hak -= 1  \n",
    "\n",
    "        except ValueError:\n",
    "            print(\"Lütfen geçerli bir sayı girin.\")\n",
    "\n",
    "    if hak == 0:\n",
    "        print(f\"\\nOyunun süresi bitti! Bilgisayarın tuttuğu sayı: {sayi} idi. Bir dahaki sefere daha dikkatli olun!\")\n",
    "\n",
    "oyun()\n"
   ]
  }
 ],
 "metadata": {
  "colab": {
   "provenance": []
  },
  "kernelspec": {
   "display_name": "Python 3",
   "language": "python",
   "name": "python3"
  },
  "language_info": {
   "codemirror_mode": {
    "name": "ipython",
    "version": 3
   },
   "file_extension": ".py",
   "mimetype": "text/x-python",
   "name": "python",
   "nbconvert_exporter": "python",
   "pygments_lexer": "ipython3",
   "version": "3.13.2"
  },
  "orig_nbformat": 4,
  "vscode": {
   "interpreter": {
    "hash": "5026d2d6e7aaaaba093def813beadff083d8733e4a511af01735cbabd156995d"
   }
  }
 },
 "nbformat": 4,
 "nbformat_minor": 0
}
