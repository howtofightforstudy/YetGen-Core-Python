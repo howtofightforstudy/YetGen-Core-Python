{
 "cells": [
  {
   "cell_type": "markdown",
   "metadata": {
    "id": "uiCS34ejv4VG"
   },
   "source": [
    "# Problem 1\n",
    "Vehicle sınıfından miras alan bir Bus sınıfı oluşturun. Bus.seating_capacity()'nin kapasite bağımsız değişkenine varsayılan olarak 50 değerini verin.\n",
    "\n",
    "```\n",
    "Output:\n",
    "> The seating capacity of a bus is 50 passengers\n",
    "```\n"
   ]
  },
  {
   "cell_type": "code",
   "execution_count": null,
   "metadata": {
    "id": "keGKzILev4VE"
   },
   "outputs": [
    {
     "name": "stdout",
     "output_type": "stream",
     "text": [
      "Bu aracın oturma kapasitesi 50 kişidir.\n",
      "Bu aracın oturma kapasitesi 30 kişidir.\n"
     ]
    }
   ],
   "source": [
    "class Vehicle:\n",
    "    def seating_capacity(self, kapasite):\n",
    "        return f\"Bu aracın oturma kapasitesi {kapasite} kişidir.\"\n",
    "\n",
    "class Bus(Vehicle):\n",
    "    def seating_capacity(self, kapasite = 50):\n",
    "        return super().seating_capacity(kapasite)\n",
    "\n",
    "bus = Bus()\n",
    "print(bus.seating_capacity())       \n",
    "print(bus.seating_capacity(30))     "
   ]
  },
  {
   "cell_type": "markdown",
   "metadata": {
    "id": "TzTHWO2zv4VB"
   },
   "source": [
    "# Problem 2\n",
    "\n",
    "\n",
    "School_bus'ın aynı zamanda Vehicle sınıfının bir örneği olup olmadığını belirleyiniz."
   ]
  },
  {
   "cell_type": "code",
   "execution_count": null,
   "metadata": {
    "id": "bTc9IfRfv4VG"
   },
   "outputs": [
    {
     "name": "stdout",
     "output_type": "stream",
     "text": [
      "True\n",
      "True\n"
     ]
    }
   ],
   "source": [
    "class Vehicle:\n",
    "    def seating_capacity(self, kapasite):\n",
    "        return f\"Bu aracın oturma kapasitesi {kapasite} kişidir.\"\n",
    "\n",
    "class Bus(Vehicle):\n",
    "    def seating_capacity(self, kapasite = 50):\n",
    "        return super().seating_capacity(kapasite)\n",
    "    \n",
    "# school_bus, Bus nesnesinden bilgi aldığı için, Bus nesnesi de Vehicle sınıfına bağlı olduğu için ikisinin de alt sınıfıdır.\n",
    "school_bus = Bus()\n",
    "\n",
    "print(isinstance(school_bus, Bus))      \n",
    "print(isinstance(school_bus, Vehicle))  "
   ]
  }
 ],
 "metadata": {
  "colab": {
   "provenance": []
  },
  "kernelspec": {
   "display_name": "Python 3",
   "language": "python",
   "name": "python3"
  },
  "language_info": {
   "codemirror_mode": {
    "name": "ipython",
    "version": 3
   },
   "file_extension": ".py",
   "mimetype": "text/x-python",
   "name": "python",
   "nbconvert_exporter": "python",
   "pygments_lexer": "ipython3",
   "version": "3.13.2"
  },
  "orig_nbformat": 4,
  "vscode": {
   "interpreter": {
    "hash": "5026d2d6e7aaaaba093def813beadff083d8733e4a511af01735cbabd156995d"
   }
  }
 },
 "nbformat": 4,
 "nbformat_minor": 0
}
