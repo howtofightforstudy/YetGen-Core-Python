{
 "cells": [
  {
   "cell_type": "code",
   "execution_count": 8,
   "id": "189a15da",
   "metadata": {},
   "outputs": [
    {
     "name": "stdout",
     "output_type": "stream",
     "text": [
      "\n",
      "        Çalışan bilgisi:\n",
      "            İsim: Berkcan\n",
      "            Soyisim: Işık\n",
      "            Numara: 12345\n",
      "            Maaş: 10000\n",
      "            Bildiği diller: ['Python', 'JavaScript', 'Flutter']\n",
      "        \n",
      "Zam yapılıyor\n",
      "\n",
      "        Çalışan bilgisi:\n",
      "            İsim: Berkcan\n",
      "            Soyisim: Işık\n",
      "            Numara: 12345\n",
      "            Maaş: 13500\n",
      "            Bildiği diller: ['Python', 'JavaScript', 'Flutter']\n",
      "        \n",
      "Dil eklendi\n",
      "\n",
      "        Çalışan bilgisi:\n",
      "            İsim: Berkcan\n",
      "            Soyisim: Işık\n",
      "            Numara: 12345\n",
      "            Maaş: 13500\n",
      "            Bildiği diller: ['Python', 'JavaScript', 'Flutter', 'React']\n",
      "        \n"
     ]
    }
   ],
   "source": [
    "class Yazilimci:\n",
    "    def __init__(self, isim, soyisim, numara, maas, diller):\n",
    "        self.isim = isim\n",
    "        self.soyisim = soyisim\n",
    "        self.numara = numara\n",
    "        self.maas = maas\n",
    "        self.diller = diller\n",
    "\n",
    "    def bilgiler_goster(self):\n",
    "        print(f\"\"\"\n",
    "        Çalışan bilgisi:\n",
    "            İsim: {self.isim}\n",
    "            Soyisim: {self.soyisim}\n",
    "            Numara: {self.numara}\n",
    "            Maaş: {self.maas}\n",
    "            Bildiği diller: {self.diller}\n",
    "        \"\"\")\n",
    "\n",
    "    def dil_ekle(self, yeni_dil):\n",
    "        print(\"Dil eklendi\")\n",
    "        self.diller.append(yeni_dil)\n",
    "\n",
    "    def maas_yukselt(self, zam):\n",
    "        print(\"Zam yapılıyor\")\n",
    "        self.maas += zam \n",
    "\n",
    "# Sınıf dışı kullanım\n",
    "yazilimci = Yazilimci(\"Berkcan\", \"Işık\", \"12345\", 10000, [\"Python\", \"JavaScript\", \"Flutter\"])\n",
    "yazilimci.bilgiler_goster()\n",
    "yazilimci.maas_yukselt(3500)\n",
    "yazilimci.bilgiler_goster()\n",
    "yazilimci.dil_ekle(\"React\")\n",
    "yazilimci.bilgiler_goster()\n"
   ]
  },
  {
   "cell_type": "code",
   "execution_count": 6,
   "id": "b89e028a",
   "metadata": {},
   "outputs": [
    {
     "name": "stdout",
     "output_type": "stream",
     "text": [
      "Person nesnesi üretildi\n",
      "Berkcan Gümüşışık 23\n",
      "Person nesnesi üretildi\n",
      "Student nesnesi çalıştı\n",
      "YetGen Jump 20 1001\n",
      "1001 ders çalışıyor.\n",
      "Person nesnesi üretildi\n",
      "Teacher nesnesi çalıştı\n",
      "Berkcan isimli öğretmen Bilgisayar Mühendisliği dersine girmektedir.\n"
     ]
    }
   ],
   "source": [
    "class Person:\n",
    "    def __init__(self, name, surname, age):\n",
    "        self.name = name\n",
    "        self.surname = surname\n",
    "        self.age = age\n",
    "        print(\"Person nesnesi üretildi\")\n",
    "    def intro(self):\n",
    "        print(self.name, self.surname, self.age)\n",
    "\n",
    "class Student(Person): \n",
    "    def __init__(self, name, surname, age, number):\n",
    "        super().__init__(name, surname, age)\n",
    "        self.number = number\n",
    "        print(\"Student nesnesi çalıştı\")\n",
    "    def intro(self):\n",
    "        print(self.name, self.surname, self.age, self.number)\n",
    "    def study(self):\n",
    "        print(f\"{self.number} ders çalışıyor.\")\n",
    "\n",
    "class Teacher(Person):\n",
    "    def __init__(self, name, surname, age, branch):\n",
    "        super().__init__(name, surname, age)\n",
    "        self.branch = branch\n",
    "        print(\"Teacher nesnesi çalıştı\")\n",
    "\n",
    "    def teacher(self):\n",
    "        print(f\"{self.name} isimli öğretmen {self.branch} dersine girmektedir.\")\n",
    "\n",
    "p1 = Person(\"Berkcan\",\"Gümüşışık\",23)\n",
    "p1.intro()\n",
    "\n",
    "s1 = Student(\"YetGen\",\"Jump\",20,1001)\n",
    "s1.intro()\n",
    "s1.study()\n",
    "\n",
    "t1 = Teacher(\"Berkcan\",\"Işık\", 23, \"Bilgisayar Mühendisliği\")\n",
    "t1.teacher()"
   ]
  }
 ],
 "metadata": {
  "kernelspec": {
   "display_name": "Python 3",
   "language": "python",
   "name": "python3"
  },
  "language_info": {
   "codemirror_mode": {
    "name": "ipython",
    "version": 3
   },
   "file_extension": ".py",
   "mimetype": "text/x-python",
   "name": "python",
   "nbconvert_exporter": "python",
   "pygments_lexer": "ipython3",
   "version": "3.13.2"
  }
 },
 "nbformat": 4,
 "nbformat_minor": 5
}
