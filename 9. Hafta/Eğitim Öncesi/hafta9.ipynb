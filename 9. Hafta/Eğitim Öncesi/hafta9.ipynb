{
 "cells": [
  {
   "cell_type": "code",
   "execution_count": 8,
   "id": "189a15da",
   "metadata": {},
   "outputs": [
    {
     "name": "stdout",
     "output_type": "stream",
     "text": [
      "\n",
      "        Çalışan bilgisi:\n",
      "            İsim: Berkcan\n",
      "            Soyisim: Işık\n",
      "            Numara: 12345\n",
      "            Maaş: 10000\n",
      "            Bildiği diller: ['Python', 'JavaScript', 'Flutter']\n",
      "        \n",
      "Zam yapılıyor\n",
      "\n",
      "        Çalışan bilgisi:\n",
      "            İsim: Berkcan\n",
      "            Soyisim: Işık\n",
      "            Numara: 12345\n",
      "            Maaş: 13500\n",
      "            Bildiği diller: ['Python', 'JavaScript', 'Flutter']\n",
      "        \n",
      "Dil eklendi\n",
      "\n",
      "        Çalışan bilgisi:\n",
      "            İsim: Berkcan\n",
      "            Soyisim: Işık\n",
      "            Numara: 12345\n",
      "            Maaş: 13500\n",
      "            Bildiği diller: ['Python', 'JavaScript', 'Flutter', 'React']\n",
      "        \n"
     ]
    }
   ],
   "source": [
    "class Yazilimci:\n",
    "    def __init__(self, isim, soyisim, numara, maas, diller):\n",
    "        self.isim = isim\n",
    "        self.soyisim = soyisim\n",
    "        self.numara = numara\n",
    "        self.maas = maas\n",
    "        self.diller = diller\n",
    "\n",
    "    def bilgiler_goster(self):\n",
    "        print(f\"\"\"\n",
    "        Çalışan bilgisi:\n",
    "            İsim: {self.isim}\n",
    "            Soyisim: {self.soyisim}\n",
    "            Numara: {self.numara}\n",
    "            Maaş: {self.maas}\n",
    "            Bildiği diller: {self.diller}\n",
    "        \"\"\")\n",
    "\n",
    "    def dil_ekle(self, yeni_dil):\n",
    "        print(\"Dil eklendi\")\n",
    "        self.diller.append(yeni_dil)\n",
    "\n",
    "    def maas_yukselt(self, zam):\n",
    "        print(\"Zam yapılıyor\")\n",
    "        self.maas += zam \n",
    "\n",
    "# Sınıf dışı kullanım\n",
    "yazilimci = Yazilimci(\"Berkcan\", \"Işık\", \"12345\", 10000, [\"Python\", \"JavaScript\", \"Flutter\"])\n",
    "yazilimci.bilgiler_goster()\n",
    "yazilimci.maas_yukselt(3500)\n",
    "yazilimci.bilgiler_goster()\n",
    "yazilimci.dil_ekle(\"React\")\n",
    "yazilimci.bilgiler_goster()\n"
   ]
  }
 ],
 "metadata": {
  "kernelspec": {
   "display_name": "Python 3",
   "language": "python",
   "name": "python3"
  },
  "language_info": {
   "codemirror_mode": {
    "name": "ipython",
    "version": 3
   },
   "file_extension": ".py",
   "mimetype": "text/x-python",
   "name": "python",
   "nbconvert_exporter": "python",
   "pygments_lexer": "ipython3",
   "version": "3.13.2"
  }
 },
 "nbformat": 4,
 "nbformat_minor": 5
}
