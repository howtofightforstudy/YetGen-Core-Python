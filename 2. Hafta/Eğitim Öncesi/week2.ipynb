{
 "cells": [
  {
   "cell_type": "code",
   "execution_count": 86,
   "metadata": {},
   "outputs": [
    {
     "name": "stdout",
     "output_type": "stream",
     "text": [
      "Hello World\n"
     ]
    }
   ],
   "source": [
    "print(\"Hello World\")"
   ]
  },
  {
   "cell_type": "code",
   "execution_count": 87,
   "metadata": {},
   "outputs": [
    {
     "name": "stdout",
     "output_type": "stream",
     "text": [
      "Hello World\n"
     ]
    }
   ],
   "source": [
    "print('Hello World')"
   ]
  },
  {
   "cell_type": "code",
   "execution_count": 88,
   "metadata": {},
   "outputs": [
    {
     "name": "stdout",
     "output_type": "stream",
     "text": [
      "Hello World\n"
     ]
    }
   ],
   "source": [
    "print(\"\"\"Hello World\"\"\")"
   ]
  },
  {
   "cell_type": "code",
   "execution_count": 89,
   "metadata": {},
   "outputs": [
    {
     "data": {
      "text/plain": [
       "'Hello Python'"
      ]
     },
     "execution_count": 89,
     "metadata": {},
     "output_type": "execute_result"
    }
   ],
   "source": [
    "\"Hello Python\""
   ]
  },
  {
   "cell_type": "code",
   "execution_count": 90,
   "metadata": {},
   "outputs": [
    {
     "name": "stdout",
     "output_type": "stream",
     "text": [
      "Python Öğreniyorum\n",
      "YetGen ile Python'a ilk adımımı attım\n"
     ]
    }
   ],
   "source": [
    "print(\"Python Öğreniyorum\")\n",
    "print(\"YetGen ile Python'a ilk adımımı attım\")"
   ]
  },
  {
   "cell_type": "code",
   "execution_count": 91,
   "metadata": {},
   "outputs": [
    {
     "data": {
      "text/plain": [
       "\"YetGen ile Python'a ilk adımımı attım\""
      ]
     },
     "execution_count": 91,
     "metadata": {},
     "output_type": "execute_result"
    }
   ],
   "source": [
    "\"Python Öğreniyorum\"\n",
    "\"YetGen ile Python'a ilk adımımı attım\"\n",
    "#print aksine bu şekilde yazarsak sadece en son yazdırdığımız çıktı olarak verilir"
   ]
  },
  {
   "cell_type": "code",
   "execution_count": 92,
   "metadata": {},
   "outputs": [
    {
     "name": "stdout",
     "output_type": "stream",
     "text": [
      "Hello , World\n"
     ]
    }
   ],
   "source": [
    "print(\"Hello \", \" World\", sep=\",\")\n",
    "#ikisini ayrı ayrı yazmamız lazım yoksa sep parametresi algılamaz"
   ]
  },
  {
   "cell_type": "markdown",
   "metadata": {},
   "source": []
  },
  {
   "cell_type": "code",
   "execution_count": 93,
   "metadata": {},
   "outputs": [
    {
     "name": "stdout",
     "output_type": "stream",
     "text": [
      "Python Öğreniyorum\n"
     ]
    }
   ],
   "source": [
    "print(\"Python\", \"Öğreniyorum\", sep=\" \")"
   ]
  },
  {
   "cell_type": "code",
   "execution_count": 94,
   "metadata": {},
   "outputs": [
    {
     "name": "stdout",
     "output_type": "stream",
     "text": [
      "İstanbul/Ankara/İzmir\n"
     ]
    }
   ],
   "source": [
    "print(\"İstanbul\",\"Ankara\",\"İzmir\", sep=\"/\")"
   ]
  },
  {
   "cell_type": "code",
   "execution_count": 95,
   "metadata": {},
   "outputs": [
    {
     "name": "stdout",
     "output_type": "stream",
     "text": [
      "YetGen Dikeyine Hoş Geldiniz."
     ]
    }
   ],
   "source": [
    " print(\"YetGen Dikeyine Hoş Geldiniz\", end=\".\")"
   ]
  },
  {
   "cell_type": "code",
   "execution_count": 96,
   "metadata": {},
   "outputs": [
    {
     "name": "stdout",
     "output_type": "stream",
     "text": [
      "Python'a ilk adımı attım"
     ]
    }
   ],
   "source": [
    "print(\"Python'a ilk adımı attım\", end=\"\")"
   ]
  },
  {
   "cell_type": "code",
   "execution_count": 97,
   "metadata": {},
   "outputs": [
    {
     "data": {
      "text/plain": [
       "'bu şekilde yazımı kabul etmiyor \\nkesme işareti kullanacaksak yazımızı çift tırnak içinde yazmalıyız'"
      ]
     },
     "execution_count": 97,
     "metadata": {},
     "output_type": "execute_result"
    }
   ],
   "source": [
    "#print('Python'a hoş geldiniz')\n",
    "'''bu şekilde yazımı kabul etmiyor \n",
    "kesme işareti kullanacaksak yazımızı çift tırnak içinde yazmalıyız'''"
   ]
  },
  {
   "cell_type": "code",
   "execution_count": 98,
   "metadata": {},
   "outputs": [],
   "source": [
    "#print \"Hello\"\n",
    "  # çıktılarımızı parantez içinde kullanmalıyız"
   ]
  },
  {
   "cell_type": "markdown",
   "metadata": {},
   "source": []
  },
  {
   "cell_type": "code",
   "execution_count": 99,
   "metadata": {},
   "outputs": [
    {
     "name": "stdout",
     "output_type": "stream",
     "text": [
      "YetGen\n",
      "YetGen\n",
      "Yetgen\n",
      "YetGen core\n"
     ]
    }
   ],
   "source": [
    "print(\"YetGen\")\n",
    "print(\"YetGen\")\n",
    "print(\"Yetgen\")\n",
    "#yanına core eklemek istersek tek tek eklemek zorunda kalırız\n",
    "\n",
    "#bunun yerine bir dğeişken oluşturup ekleyelim\n",
    "yetgen= \"YetGen\"\n",
    "print(yetgen+\" core\")"
   ]
  },
  {
   "cell_type": "code",
   "execution_count": null,
   "metadata": {},
   "outputs": [],
   "source": []
  }
 ],
 "metadata": {
  "kernelspec": {
   "display_name": "Python 3",
   "language": "python",
   "name": "python3"
  },
  "language_info": {
   "codemirror_mode": {
    "name": "ipython",
    "version": 3
   },
   "file_extension": ".py",
   "mimetype": "text/x-python",
   "name": "python",
   "nbconvert_exporter": "python",
   "pygments_lexer": "ipython3",
   "version": "3.13.2"
  }
 },
 "nbformat": 4,
 "nbformat_minor": 2
}
