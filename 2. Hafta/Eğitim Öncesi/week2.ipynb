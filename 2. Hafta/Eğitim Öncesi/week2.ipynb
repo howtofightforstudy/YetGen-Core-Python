{
 "cells": [
  {
   "cell_type": "code",
   "execution_count": 354,
   "metadata": {},
   "outputs": [
    {
     "name": "stdout",
     "output_type": "stream",
     "text": [
      "Hello World\n"
     ]
    }
   ],
   "source": [
    "print(\"Hello World\")"
   ]
  },
  {
   "cell_type": "code",
   "execution_count": 355,
   "metadata": {},
   "outputs": [
    {
     "name": "stdout",
     "output_type": "stream",
     "text": [
      "Hello World\n"
     ]
    }
   ],
   "source": [
    "print('Hello World')"
   ]
  },
  {
   "cell_type": "code",
   "execution_count": 356,
   "metadata": {},
   "outputs": [
    {
     "name": "stdout",
     "output_type": "stream",
     "text": [
      "Hello World\n"
     ]
    }
   ],
   "source": [
    "print(\"\"\"Hello World\"\"\")"
   ]
  },
  {
   "cell_type": "code",
   "execution_count": 357,
   "metadata": {},
   "outputs": [
    {
     "data": {
      "text/plain": [
       "'Hello Python'"
      ]
     },
     "execution_count": 357,
     "metadata": {},
     "output_type": "execute_result"
    }
   ],
   "source": [
    "\"Hello Python\""
   ]
  },
  {
   "cell_type": "code",
   "execution_count": 358,
   "metadata": {},
   "outputs": [
    {
     "name": "stdout",
     "output_type": "stream",
     "text": [
      "Python Öğreniyorum\n",
      "YetGen ile Python'a ilk adımımı attım\n"
     ]
    }
   ],
   "source": [
    "print(\"Python Öğreniyorum\")\n",
    "print(\"YetGen ile Python'a ilk adımımı attım\")"
   ]
  },
  {
   "cell_type": "code",
   "execution_count": 359,
   "metadata": {},
   "outputs": [
    {
     "data": {
      "text/plain": [
       "\"YetGen ile Python'a ilk adımımı attım\""
      ]
     },
     "execution_count": 359,
     "metadata": {},
     "output_type": "execute_result"
    }
   ],
   "source": [
    "\"Python Öğreniyorum\"\n",
    "\"YetGen ile Python'a ilk adımımı attım\"\n",
    "#print aksine bu şekilde yazarsak sadece en son yazdırdığımız çıktı olarak verilir"
   ]
  },
  {
   "cell_type": "code",
   "execution_count": 360,
   "metadata": {},
   "outputs": [
    {
     "name": "stdout",
     "output_type": "stream",
     "text": [
      "Hello , World\n"
     ]
    }
   ],
   "source": [
    "print(\"Hello \", \" World\", sep=\",\")\n",
    "#ikisini ayrı ayrı yazmamız lazım yoksa sep parametresi algılamaz"
   ]
  },
  {
   "cell_type": "markdown",
   "metadata": {},
   "source": []
  },
  {
   "cell_type": "code",
   "execution_count": 361,
   "metadata": {},
   "outputs": [
    {
     "name": "stdout",
     "output_type": "stream",
     "text": [
      "Python Öğreniyorum\n"
     ]
    }
   ],
   "source": [
    "print(\"Python\", \"Öğreniyorum\", sep=\" \")"
   ]
  },
  {
   "cell_type": "code",
   "execution_count": 362,
   "metadata": {},
   "outputs": [
    {
     "name": "stdout",
     "output_type": "stream",
     "text": [
      "İstanbul/Ankara/İzmir\n"
     ]
    }
   ],
   "source": [
    "print(\"İstanbul\",\"Ankara\",\"İzmir\", sep=\"/\")"
   ]
  },
  {
   "cell_type": "code",
   "execution_count": 363,
   "metadata": {},
   "outputs": [
    {
     "name": "stdout",
     "output_type": "stream",
     "text": [
      "YetGen Dikeyine Hoş Geldiniz."
     ]
    }
   ],
   "source": [
    " print(\"YetGen Dikeyine Hoş Geldiniz\", end=\".\")"
   ]
  },
  {
   "cell_type": "code",
   "execution_count": 364,
   "metadata": {},
   "outputs": [
    {
     "name": "stdout",
     "output_type": "stream",
     "text": [
      "Python'a ilk adımı attım"
     ]
    }
   ],
   "source": [
    "print(\"Python'a ilk adımı attım\", end=\"\")"
   ]
  },
  {
   "cell_type": "code",
   "execution_count": 365,
   "metadata": {},
   "outputs": [
    {
     "data": {
      "text/plain": [
       "'bu şekilde yazımı kabul etmiyor \\nkesme işareti kullanacaksak yazımızı çift tırnak içinde yazmalıyız'"
      ]
     },
     "execution_count": 365,
     "metadata": {},
     "output_type": "execute_result"
    }
   ],
   "source": [
    "#print('Python'a hoş geldiniz')\n",
    "'''bu şekilde yazımı kabul etmiyor \n",
    "kesme işareti kullanacaksak yazımızı çift tırnak içinde yazmalıyız'''"
   ]
  },
  {
   "cell_type": "code",
   "execution_count": 366,
   "metadata": {},
   "outputs": [],
   "source": [
    "#print \"Hello\"\n",
    "  # çıktılarımızı parantez içinde kullanmalıyız"
   ]
  },
  {
   "cell_type": "markdown",
   "metadata": {},
   "source": []
  },
  {
   "cell_type": "code",
   "execution_count": 367,
   "metadata": {},
   "outputs": [
    {
     "name": "stdout",
     "output_type": "stream",
     "text": [
      "YetGen\n",
      "YetGen\n",
      "Yetgen\n",
      "YetGen core\n"
     ]
    }
   ],
   "source": [
    "print(\"YetGen\")\n",
    "print(\"YetGen\")\n",
    "print(\"Yetgen\")\n",
    "#yanına core eklemek istersek tek tek eklemek zorunda kalırız\n",
    "\n",
    "#bunun yerine bir dğeişken oluşturup ekleyelim\n",
    "yetgen= \"YetGen\"\n",
    "print(yetgen+\" core\")\n",
    "\n",
    "#çıktı alırken ayrıca core yazmak yerine değişkenin içine core yazabiliriz"
   ]
  },
  {
   "cell_type": "code",
   "execution_count": 368,
   "metadata": {},
   "outputs": [
    {
     "name": "stdout",
     "output_type": "stream",
     "text": [
      "Berkcan\n"
     ]
    }
   ],
   "source": [
    "#1berkcan = \"Berkcan\"\n",
    "#print(1berkcan)\n",
    "#bu şekilde kullanımı hatalıdır\n",
    "\n",
    "berkcan1 = \"Berkcan\"\n",
    "print(berkcan1)"
   ]
  },
  {
   "cell_type": "code",
   "execution_count": 369,
   "metadata": {},
   "outputs": [
    {
     "name": "stdout",
     "output_type": "stream",
     "text": [
      "5\n"
     ]
    }
   ],
   "source": [
    "sayi= 5\n",
    "print(sayi)\n",
    "#Türkçe karakter kullanma"
   ]
  },
  {
   "cell_type": "code",
   "execution_count": 370,
   "metadata": {},
   "outputs": [
    {
     "ename": "SyntaxError",
     "evalue": "invalid syntax (2143205389.py, line 3)",
     "output_type": "error",
     "traceback": [
      "\u001b[1;36m  Cell \u001b[1;32mIn[370], line 3\u001b[1;36m\u001b[0m\n\u001b[1;33m    isim soyisim = \"Eslem Güser\" #Hatalı Kullanım\u001b[0m\n\u001b[1;37m         ^\u001b[0m\n\u001b[1;31mSyntaxError\u001b[0m\u001b[1;31m:\u001b[0m invalid syntax\n"
     ]
    }
   ],
   "source": [
    "isimSoyisim = \"Berkcan Gümüşışık\" #Doğru Kullanım (camelCase)\n",
    "isim_soyisim = \"Ahmet Ekici\" # Doğru Kullanım (snake_case)\n",
    "isim soyisim = \"Eslem Güser\" #Hatalı Kullanım\n",
    "print(isimSoyisim)\n",
    "print(isim_soyisim)\n",
    "print(isim soyisim)\n",
    "#en son yazdığımız değişken için hata verir, değişken adında boşluk kullanamayız\n",
    "#ayrıca python hata aldığında, hatyı gösterir ve doğru olan çıktıları bile yazdırmaz, sadece hatalı olan çıktıyı gösterir"
   ]
  },
  {
   "cell_type": "code",
   "execution_count": null,
   "metadata": {},
   "outputs": [
    {
     "name": "stdout",
     "output_type": "stream",
     "text": [
      "A\n",
      "B\n"
     ]
    }
   ],
   "source": [
    "isim = \"A\"\n",
    "Isim = \"B\"\n",
    "print(isim)\n",
    "print(Isim)\n",
    "\n",
    "#aynı isme sahip ama kullanımları farklı değişkenler oluşturabiliriz"
   ]
  },
  {
   "cell_type": "code",
   "execution_count": null,
   "metadata": {},
   "outputs": [
    {
     "name": "stdout",
     "output_type": "stream",
     "text": [
      "<class 'str'>\n",
      "<class 'int'>\n",
      "<class 'str'>\n"
     ]
    }
   ],
   "source": [
    "print(type(\"Berkcan\"))\n",
    "print(type(1950))\n",
    "print(type(\"true\"))"
   ]
  },
  {
   "cell_type": "code",
   "execution_count": null,
   "metadata": {},
   "outputs": [
    {
     "data": {
      "text/plain": [
       "str"
      ]
     },
     "execution_count": 353,
     "metadata": {},
     "output_type": "execute_result"
    }
   ],
   "source": [
    "type(1372)\n",
    "type(\"123\")\n",
    "#bu şekilde kullanırsak en son ne yazdırdıysak onun çıktısını alırız"
   ]
  },
  {
   "cell_type": "code",
   "execution_count": 371,
   "metadata": {},
   "outputs": [
    {
     "name": "stdout",
     "output_type": "stream",
     "text": [
      "10\n",
      "<class 'int'>\n"
     ]
    }
   ],
   "source": [
    "print(10)\n",
    "print(type(10))"
   ]
  },
  {
   "cell_type": "code",
   "execution_count": 372,
   "metadata": {},
   "outputs": [
    {
     "name": "stdout",
     "output_type": "stream",
     "text": [
      "-43.6\n",
      "<class 'float'>\n"
     ]
    }
   ],
   "source": [
    "print(-43.6)\n",
    "print(type(-43.6))"
   ]
  },
  {
   "cell_type": "code",
   "execution_count": 373,
   "metadata": {},
   "outputs": [
    {
     "name": "stdout",
     "output_type": "stream",
     "text": [
      "3.14\n",
      "<class 'float'>\n"
     ]
    }
   ],
   "source": [
    "pi= 3.14\n",
    "print(pi)\n",
    "print(type(pi))"
   ]
  },
  {
   "cell_type": "code",
   "execution_count": 375,
   "metadata": {},
   "outputs": [
    {
     "name": "stdout",
     "output_type": "stream",
     "text": [
      "7\n",
      "1\n",
      "12\n",
      "1.3333333333333333\n",
      "64\n",
      "1\n",
      "1\n"
     ]
    }
   ],
   "source": [
    "a = 4\n",
    "b= 3\n",
    "\n",
    "print(a + b)\n",
    "print(a - b)\n",
    "print(a * b)\n",
    "print(a / b)\n",
    "print(a ** b)\n",
    "print(a % b)\n",
    "print(a // b)"
   ]
  },
  {
   "cell_type": "code",
   "execution_count": null,
   "metadata": {},
   "outputs": [],
   "source": [
    "degisken = \"Merhaba Python\"\n",
    "print(degisken)\n"
   ]
  }
 ],
 "metadata": {
  "kernelspec": {
   "display_name": "Python 3",
   "language": "python",
   "name": "python3"
  },
  "language_info": {
   "codemirror_mode": {
    "name": "ipython",
    "version": 3
   },
   "file_extension": ".py",
   "mimetype": "text/x-python",
   "name": "python",
   "nbconvert_exporter": "python",
   "pygments_lexer": "ipython3",
   "version": "3.13.2"
  }
 },
 "nbformat": 4,
 "nbformat_minor": 2
}
