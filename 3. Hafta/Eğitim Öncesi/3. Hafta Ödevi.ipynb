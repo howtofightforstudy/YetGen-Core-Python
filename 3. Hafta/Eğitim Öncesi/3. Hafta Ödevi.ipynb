{
  "cells": [
    {
      "cell_type": "markdown",
      "metadata": {
        "id": "tsD4YVAe_Te2"
      },
      "source": [
        "# Problem 1\n",
        "Bir sayının 7'ye bölünebilir olup olmadığını kontrol etmek \n",
        "için bir program yazın.\n",
        "\n",
        "İpucu: Mod operatörünü (%) kullanabilirsiniz."
      ]
    },
    {
      "cell_type": "code",
      "execution_count": 8,
      "metadata": {
        "id": "NGjvNwKx_Te7"
      },
      "outputs": [
        {
          "name": "stdout",
          "output_type": "stream",
          "text": [
            "14 sayısı 7'ye tam bölünür\n"
          ]
        }
      ],
      "source": [
        "deger = int(input(\"Lütfen bir sayı giriniz: \"))\n",
        "if deger % 7 == 0:\n",
        "    print(f\"{deger} sayısı 7'ye tam bölünür\")\n",
        "else:\n",
        "    print(f\"{deger} sayısı 7'ye tam bölünemez\")"
      ]
    },
    {
      "cell_type": "markdown",
      "metadata": {
        "id": "Kg3qiBAI_Te8"
      },
      "source": [
        "# Problem 2\n",
        "Kullanıcıdan vize ve final notu isteyin. Girilen vize notunun %40’ı ve \n",
        "girilen finalnotunun ise %60’ı alınarak yıl sonu not ortalaması hesaplanacaktır. \n",
        "\n",
        "Bu not ortalaması eğer 85 ve üzeri ise AA, \n",
        "\n",
        "75 ve 85 arasında ise BA, \n",
        "\n",
        "70 ve 75 arasında ise BB, \n",
        "\n",
        "65 ve 70 arasında ise CB,\n",
        "\n",
        "60 ve 65 arasında ise CC,\n",
        "\n",
        "55 ve 60 arasında ise DC,\n",
        "\n",
        "50 ve 55 arasında ise DD olarak hesaplanacaktır. \n",
        "\n",
        "Bu öğrencinin yıl sonu toplam notu 50’nin altında ise FF ile dersten kalacaktır. \n",
        "\n",
        "Ayrıca öğrencinin final notu 50’nin altında ise direkt FF ile kalacaktır."
      ]
    },
    {
      "cell_type": "code",
      "execution_count": 55,
      "metadata": {
        "id": "MXTtCxI1_Te8"
      },
      "outputs": [
        {
          "name": "stdout",
          "output_type": "stream",
          "text": [
            "38.8 ile FF aldınız ve dersten kaldınız\n"
          ]
        }
      ],
      "source": [
        "vizeNotu = int(input(\"Vize notunu giriniz: \"))\n",
        "finalNotu = int(input(\"Final notunu giriniz: \"))\n",
        "if finalNotu <= 50:\n",
        "    print(f\"final notunuz {finalNotu} olduğu için kaldınız\")\n",
        "    exit() \n",
        "elif finalNotu > 50:\n",
        "    yilSonuOrtalama = round((vizeNotu*0.4 + finalNotu*0.6), 1)\n",
        "    if yilSonuOrtalama >= 85:\n",
        "        print(f\"{yilSonuOrtalama} ile AA aldınız\")\n",
        "    elif yilSonuOrtalama >= 75:\n",
        "        print(f\"{yilSonuOrtalama} ile BA aldınız\")    \n",
        "    elif yilSonuOrtalama >= 70:\n",
        "        print(f\"{yilSonuOrtalama} ile BB aldınız\")\n",
        "    elif yilSonuOrtalama >= 65:\n",
        "        print(f\"{yilSonuOrtalama} ile CB aldınız\")\n",
        "    elif yilSonuOrtalama >= 60:\n",
        "        print(f\"{yilSonuOrtalama} ile CC aldınız\")\n",
        "    elif yilSonuOrtalama >= 55:\n",
        "        print(f\"{yilSonuOrtalama} ile DC aldınız\")\n",
        "    elif yilSonuOrtalama >= 50:\n",
        "        print(f\"{yilSonuOrtalama} ile DD aldınız\")\n",
        "    elif yilSonuOrtalama < 50:\n",
        "        print(f\"{yilSonuOrtalama} ile FF aldınız ve dersten kaldınız\")\n"
      ]
    },
    {
      "cell_type": "markdown",
      "metadata": {
        "id": "tAoRYCTC_Te8"
      },
      "source": [
        "# Problem 3\n",
        "İki YetGenli Zirve'de karşılaşıyorlar. Birbirlerini tanımak için sorular soruyorlar. Birbirlerine yaşlarını soruyorlar. Akıllarına bir Python programı yazıp, yaşlarını ve isimlerini giriyorlar. Büyük olanın yaşını ekrana yazdıran programı yazıyorlar. Sende bu iki YetGenli'ye destek olmak ister misin?\n",
        "\n",
        "```\n",
        "Birinci YetGenlinin ismi: Ahmet\n",
        "Birinci YetGenlinin yaşı : 20\n",
        "İkinci YetGenlinin ismi: Mehmet\n",
        "İkinci YetGenlinin yaşı : 25\n",
        "Mehmet'in yaşı daha büyük ve yaşı 25'tir.\n",
        "```"
      ]
    },
    {
      "cell_type": "code",
      "execution_count": 66,
      "metadata": {
        "id": "bPjE8W0i_Te8"
      },
      "outputs": [
        {
          "name": "stdout",
          "output_type": "stream",
          "text": [
            "Mehmet'in yaşı daha büyük ve yaşı 25'dir\n"
          ]
        }
      ],
      "source": [
        "isim1 = input(\"Birinci YetGenli lütfen isminizi giriniz: \")\n",
        "yas1 = int(input(\"Birinci YetGenli lütfen yaşınızı giriniz: \"))\n",
        "isim2 = input(\"İkinci YetGenli lütfen isminizi giriniz: \")\n",
        "yas2 = int(input(\"İkinci YetGenli lütfen yaşınızı giriniz: \"))\n",
        "if yas1>yas2:\n",
        "    print(f\"{isim1}'in yaşı daha büyük ve yaşı {yas1}'dir\")\n",
        "elif yas1==yas2:\n",
        "    print(f\"Yaşları eşittir ve {yas1}'dir\")\n",
        "else:\n",
        "    print(f\"{isim2}'in yaşı daha büyük ve yaşı {yas2}'dir\")"
      ]
    },
    {
      "cell_type": "markdown",
      "metadata": {
        "id": "zBVv8Tyg_Te9"
      },
      "source": [
        "# Problem 4\n",
        "Pandemi döneminde AVM'lerde ateş ölçümü yapılıyor. AVM'ye giren kişinin ateş ölçümü 37.5 derecenin altında ise girişe izin veriliyor. 37.5 derecenin üstünde ise girişe izin verilmiyor. AVM'ye girişe izin verilip verilmediğini ekrana yazdıran bir program yazın.\n",
        "\n",
        "Program sonunda şöyle bir çıktı elde etmelisiniz:\n",
        "\n",
        "```\n",
        "Ateşiniz 37.5 derece. AVM'ye girebilirsin! Maske takmayı unutma!\n",
        "Ateşiniz 37.6 derece. AVM'ye giremezsin! Hemen evine dön!\n",
        "```"
      ]
    },
    {
      "cell_type": "code",
      "execution_count": 107,
      "metadata": {
        "id": "TSAXs8et_Te9"
      },
      "outputs": [
        {
          "name": "stdout",
          "output_type": "stream",
          "text": [
            "Ateşiniz 37.6 derece. AVM'ye giremezsiniz! Hemen evine dön!\n"
          ]
        }
      ],
      "source": [
        "ates= float(input(\"Ölçülen ateşi giriniz: \"))\n",
        "if ates <= 37.5:\n",
        "    print(f\"Ateşiniz {ates} derece. AVM'ye girebilirsiniz! Maske takmayı unutma!\")\n",
        "elif ates > 37.5:\n",
        "    print(f\"Ateşiniz {ates} derece. AVM'ye giremezsiniz! Hemen evine dön!\")"
      ]
    },
    {
      "cell_type": "markdown",
      "metadata": {
        "id": "6AEkZrDt_Te9"
      },
      "source": [
        "# Problem 5\n",
        "YetGen bir spor kulübüyle sponsorluk anlaşması yapıyor. Kulüp, sponsorluk anlaşmasına göre her YetGen liderinin beden kitle indeksini hesaplamak istiyor. Spor kulübü, beden kitle indeksini hesaplamak için YetGen Jump Python liderlerinden Berkcan ve Ahmet'i arıyor. Berkcan ve Ahmet, kulübe yardımcı olmak için bir Python programı yazıyorlar. Sende bu iki YetGen liderine destek olmak ister misin?\n",
        "\n",
        "Kullanıcıdan alınan boy ve kilo değerlerine göre beden kitle indeksini hesaplayın ve şu kurallara göre ekrana şu yazıları yazdırın.\n",
        "\n",
        "\n",
        "Beden Kitle İndeksi, kişinin ağırlığının (kg olarak) boyunun karesine (m olarak) bölünmesiyle hesaplanır.\n",
        "\n",
        "\n",
        "```\n",
        " BKİ 18.5'un altındaysa -------> Zayıf\n",
        "\n",
        " BKİ 18.5 ile 25 arasındaysa ------> Normal\n",
        "\n",
        " BKİ 25 ile 30 arasındaysa --------> Fazla Kilolu\n",
        "\n",
        " BKİ 30'un üstündeyse -------------> Obez\n",
        "```\n",
        "\n"
      ]
    },
    {
      "cell_type": "code",
      "execution_count": null,
      "metadata": {
        "id": "t-XPI_u0_Te-"
      },
      "outputs": [
        {
          "name": "stdout",
          "output_type": "stream",
          "text": [
            "Beden Kitle İndeksiniz 34.293552812071326, Obezsiniz\n"
          ]
        }
      ],
      "source": [
        "kilo = float(input(\"Kilonuzu (kg) giriniz: \"))\n",
        "boy = float(input(\"Boyunuzu (m) giriniz: \")) #ondalıklı girilmeli\n",
        "hesap = kilo/(boy**2)\n",
        "if hesap <= 18.5:\n",
        "    print(f\"Beden Kitle İndeksiniz {hesap}, Zayıfsınız\")\n",
        "elif hesap <= 25:\n",
        "    print(f\"Beden Kitle İndeksiniz {hesap}, Normalsiniz\")\n",
        "elif hesap <= 30:\n",
        "    print(f\"Beden Kitle İndeksiniz {hesap}, Fazla Kilolusunuz\")\n",
        "else:\n",
        "    print(f\"Beden Kitle İndeksiniz {hesap}, Obezsiniz\")"
      ]
    },
    {
      "cell_type": "markdown",
      "metadata": {
        "id": "oFsvQyaO_Te-"
      },
      "source": [
        "# Problem 6\n",
        "Kullanıcıdan isim, yaş ve eğitim bilgilerini isteyip ehliyet alabilme  durumunu kontrol ediniz. \n",
        "\n",
        "Ehliyet alma koşulu en az 18 yaşında ve eğitim durumu lise ya da üniversite olmalıdır. "
      ]
    },
    {
      "cell_type": "code",
      "execution_count": 139,
      "metadata": {
        "id": "Tu2mcgco_Te-"
      },
      "outputs": [
        {
          "name": "stdout",
          "output_type": "stream",
          "text": [
            "eda, yaşınız 14 ve eğitim durumunuz lise. Maalesef ehliyet almaya hak kazanamadınız\n"
          ]
        }
      ],
      "source": [
        "isim = input(\"Lütfen isminizi giriniz: \")\n",
        "yas = int(input(\"Lütfen yaşınızı giriniz: \"))\n",
        "egitim = input(\"Lütfen eğitim durumunuzu giriniz: \")\n",
        "\n",
        "if yas >= 18 and (egitim == \"lise\" or egitim == \"üniversite\"):\n",
        "    print(f\"{isim}, ehliyet almaya hak kazandınız\")\n",
        "else:\n",
        "    print(f\"{isim}, yaşınız {yas} ve eğitim durumunuz {egitim}. Maalesef ehliyet almaya hak kazanamadınız\")"
      ]
    },
    {
      "cell_type": "markdown",
      "metadata": {
        "id": "eUkxVSAE_Te_"
      },
      "source": [
        "# Problem 7\n",
        "Bir yılın artık yıl olup olmadığını kontrol etmek için bir program yazın. \n",
        "Artık yıl kuralı:\n",
        "\n",
        "a) Eğer yılın son iki basamağı (00) ile bitmiyor ve yalnızca 4'e tam bölünüyorsa artık yıldır. Ya da, \n",
        "\n",
        "b) Eğer yıl 400'e tam bölünüyorsa artık yıldır.\n",
        "\n",
        "**Örneğin**\n",
        "```\n",
        "2017 artık yıl değildir.\n",
        "1900 artık yıl değildir\n",
        "2012 artık yıldır.\n",
        "2000 artık yıldır.\n",
        "```"
      ]
    },
    {
      "cell_type": "code",
      "execution_count": 153,
      "metadata": {
        "id": "4uWh8qUL_Te_"
      },
      "outputs": [
        {
          "name": "stdout",
          "output_type": "stream",
          "text": [
            "2000 yılı artık yıldır\n"
          ]
        }
      ],
      "source": [
        "yil = int(input(\"Yılı giriniz: \"))\n",
        "if (yil % 100 != 0 and yil % 4 == 0) or (yil % 400 == 0):\n",
        "#if (yil % 10 != 0 and yil // 4 == 0) or yil // 400 == 0:\n",
        "    print(f\"{yil} yılı artık yıldır\")\n",
        "else: \n",
        "    print(f\"{yil} yılı artık yıl değildir\")"
      ]
    }
  ],
  "metadata": {
    "colab": {
      "provenance": []
    },
    "kernelspec": {
      "display_name": "Python 3",
      "language": "python",
      "name": "python3"
    },
    "language_info": {
      "codemirror_mode": {
        "name": "ipython",
        "version": 3
      },
      "file_extension": ".py",
      "mimetype": "text/x-python",
      "name": "python",
      "nbconvert_exporter": "python",
      "pygments_lexer": "ipython3",
      "version": "3.13.2"
    },
    "orig_nbformat": 4
  },
  "nbformat": 4,
  "nbformat_minor": 0
}
