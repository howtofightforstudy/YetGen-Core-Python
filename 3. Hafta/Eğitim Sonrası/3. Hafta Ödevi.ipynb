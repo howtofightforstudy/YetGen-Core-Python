{
 "cells": [
  {
   "cell_type": "markdown",
   "metadata": {
    "id": "iynMkzK2ozgo"
   },
   "source": [
    "# Problem 1\n",
    "Kullanıcıdan bir sayı alınız. Sayı 0'dan büyükse pozitif , 0'dan küçükse negatif sıfıra eşitse sıfır yazdırınız."
   ]
  },
  {
   "cell_type": "code",
   "execution_count": 92,
   "metadata": {
    "id": "Y5eMYyiOozgw"
   },
   "outputs": [
    {
     "ename": "KeyboardInterrupt",
     "evalue": "Interrupted by user",
     "output_type": "error",
     "traceback": [
      "\u001b[1;31m---------------------------------------------------------------------------\u001b[0m",
      "\u001b[1;31mKeyboardInterrupt\u001b[0m                         Traceback (most recent call last)",
      "Cell \u001b[1;32mIn[92], line 1\u001b[0m\n\u001b[1;32m----> 1\u001b[0m sayi \u001b[38;5;241m=\u001b[39m \u001b[38;5;28mint\u001b[39m(\u001b[38;5;28;43minput\u001b[39;49m\u001b[43m(\u001b[49m\u001b[38;5;124;43m\"\u001b[39;49m\u001b[38;5;124;43mBir sayı giriniz: \u001b[39;49m\u001b[38;5;124;43m\"\u001b[39;49m\u001b[43m)\u001b[49m)\n\u001b[0;32m      2\u001b[0m \u001b[38;5;28;01mif\u001b[39;00m sayi \u001b[38;5;241m>\u001b[39m \u001b[38;5;241m0\u001b[39m:\n\u001b[0;32m      3\u001b[0m     \u001b[38;5;28mprint\u001b[39m(\u001b[38;5;124m\"\u001b[39m\u001b[38;5;124mgirilen sayı pozitiftir\u001b[39m\u001b[38;5;124m\"\u001b[39m)\n",
      "File \u001b[1;32mc:\\Users\\user\\AppData\\Local\\Programs\\Python\\Python313\\Lib\\site-packages\\ipykernel\\kernelbase.py:1282\u001b[0m, in \u001b[0;36mKernel.raw_input\u001b[1;34m(self, prompt)\u001b[0m\n\u001b[0;32m   1280\u001b[0m     msg \u001b[38;5;241m=\u001b[39m \u001b[38;5;124m\"\u001b[39m\u001b[38;5;124mraw_input was called, but this frontend does not support input requests.\u001b[39m\u001b[38;5;124m\"\u001b[39m\n\u001b[0;32m   1281\u001b[0m     \u001b[38;5;28;01mraise\u001b[39;00m StdinNotImplementedError(msg)\n\u001b[1;32m-> 1282\u001b[0m \u001b[38;5;28;01mreturn\u001b[39;00m \u001b[38;5;28;43mself\u001b[39;49m\u001b[38;5;241;43m.\u001b[39;49m\u001b[43m_input_request\u001b[49m\u001b[43m(\u001b[49m\n\u001b[0;32m   1283\u001b[0m \u001b[43m    \u001b[49m\u001b[38;5;28;43mstr\u001b[39;49m\u001b[43m(\u001b[49m\u001b[43mprompt\u001b[49m\u001b[43m)\u001b[49m\u001b[43m,\u001b[49m\n\u001b[0;32m   1284\u001b[0m \u001b[43m    \u001b[49m\u001b[38;5;28;43mself\u001b[39;49m\u001b[38;5;241;43m.\u001b[39;49m\u001b[43m_parent_ident\u001b[49m\u001b[43m[\u001b[49m\u001b[38;5;124;43m\"\u001b[39;49m\u001b[38;5;124;43mshell\u001b[39;49m\u001b[38;5;124;43m\"\u001b[39;49m\u001b[43m]\u001b[49m\u001b[43m,\u001b[49m\n\u001b[0;32m   1285\u001b[0m \u001b[43m    \u001b[49m\u001b[38;5;28;43mself\u001b[39;49m\u001b[38;5;241;43m.\u001b[39;49m\u001b[43mget_parent\u001b[49m\u001b[43m(\u001b[49m\u001b[38;5;124;43m\"\u001b[39;49m\u001b[38;5;124;43mshell\u001b[39;49m\u001b[38;5;124;43m\"\u001b[39;49m\u001b[43m)\u001b[49m\u001b[43m,\u001b[49m\n\u001b[0;32m   1286\u001b[0m \u001b[43m    \u001b[49m\u001b[43mpassword\u001b[49m\u001b[38;5;241;43m=\u001b[39;49m\u001b[38;5;28;43;01mFalse\u001b[39;49;00m\u001b[43m,\u001b[49m\n\u001b[0;32m   1287\u001b[0m \u001b[43m\u001b[49m\u001b[43m)\u001b[49m\n",
      "File \u001b[1;32mc:\\Users\\user\\AppData\\Local\\Programs\\Python\\Python313\\Lib\\site-packages\\ipykernel\\kernelbase.py:1325\u001b[0m, in \u001b[0;36mKernel._input_request\u001b[1;34m(self, prompt, ident, parent, password)\u001b[0m\n\u001b[0;32m   1322\u001b[0m \u001b[38;5;28;01mexcept\u001b[39;00m \u001b[38;5;167;01mKeyboardInterrupt\u001b[39;00m:\n\u001b[0;32m   1323\u001b[0m     \u001b[38;5;66;03m# re-raise KeyboardInterrupt, to truncate traceback\u001b[39;00m\n\u001b[0;32m   1324\u001b[0m     msg \u001b[38;5;241m=\u001b[39m \u001b[38;5;124m\"\u001b[39m\u001b[38;5;124mInterrupted by user\u001b[39m\u001b[38;5;124m\"\u001b[39m\n\u001b[1;32m-> 1325\u001b[0m     \u001b[38;5;28;01mraise\u001b[39;00m \u001b[38;5;167;01mKeyboardInterrupt\u001b[39;00m(msg) \u001b[38;5;28;01mfrom\u001b[39;00m\u001b[38;5;250m \u001b[39m\u001b[38;5;28;01mNone\u001b[39;00m\n\u001b[0;32m   1326\u001b[0m \u001b[38;5;28;01mexcept\u001b[39;00m \u001b[38;5;167;01mException\u001b[39;00m:\n\u001b[0;32m   1327\u001b[0m     \u001b[38;5;28mself\u001b[39m\u001b[38;5;241m.\u001b[39mlog\u001b[38;5;241m.\u001b[39mwarning(\u001b[38;5;124m\"\u001b[39m\u001b[38;5;124mInvalid Message:\u001b[39m\u001b[38;5;124m\"\u001b[39m, exc_info\u001b[38;5;241m=\u001b[39m\u001b[38;5;28;01mTrue\u001b[39;00m)\n",
      "\u001b[1;31mKeyboardInterrupt\u001b[0m: Interrupted by user"
     ]
    }
   ],
   "source": [
    "sayi = int(input(\"Bir sayı giriniz: \"))\n",
    "if sayi > 0:\n",
    "    print(\"girilen sayı pozitiftir\")\n",
    "else:\n",
    "    print(\"girilen sayı negatiftir\")"
   ]
  },
  {
   "cell_type": "markdown",
   "metadata": {
    "id": "gUrFd7pgozgz"
   },
   "source": [
    " # Problem 2\n",
    "Kullanıcıdan aldığınız bir sayının mükemmel olup olmadığını bulmaya çalışın.\n",
    "Bir sayının kendi hariç bölenlerinin toplamı kendine eşitse bu sayıya \"mükemmel sayı\" denir. Örnek olarak, 6 mükemmel bir sayıdır. (1 + 2 + 3 = 6)\n"
   ]
  },
  {
   "cell_type": "code",
   "execution_count": null,
   "metadata": {
    "id": "Oc8lAzLaozg0"
   },
   "outputs": [
    {
     "name": "stdout",
     "output_type": "stream",
     "text": [
      "1\n",
      "3\n",
      "7\n",
      "14\n",
      "28\n",
      "toplam deger:  28\n"
     ]
    }
   ],
   "source": [
    "deger = int(input(\"Bir sayı giriniz: \"))\n",
    "i = 1\n",
    "toplam = 0\n",
    "while i < deger:\n",
    "    if deger % i == 0:\n",
    "        toplam += i\n",
    "        i += 1\n",
    "        print(toplam)\n",
    "    else: \n",
    "        i += 1\n",
    "print(\"toplam deger: \", toplam)"
   ]
  },
  {
   "cell_type": "markdown",
   "metadata": {
    "id": "wU080UMcozg1"
   },
   "source": [
    " # Problem 3\n",
    "Kullanıcıdan aldığınız bir sayının \"Armstrong\" sayısı olup olmadığını bulmaya çalışın.\n",
    "Örnek olarak, Bir sayı eğer 4 basamaklı ise ve oluşturan rakamlardan herbirinin 4. kuvvetinin toplamı( 3 basamaklı sayılar için 3.kuvveti ) o sayıya eşitse bu sayıya \"Armstrong\" sayısı denir.\n",
    "\n",
    "Örnek olarak : 1634 = 1^4 + 6^4 + 3^4 + 4^4"
   ]
  },
  {
   "cell_type": "code",
   "execution_count": null,
   "metadata": {
    "id": "NF529iKaozg3"
   },
   "outputs": [
    {
     "name": "stdout",
     "output_type": "stream",
     "text": [
      "1634 sayısı armstrong sayıdır\n"
     ]
    }
   ],
   "source": [
    "sayi = input(\"bir sayı giriniz: \")\n",
    "#stringken sayının uzunluğunu almamız lazım \n",
    "basamak = len(sayi)\n",
    "#şimdi stringten inte çevir\n",
    "listeSayi = list(map(int, sayi)) \n",
    "#print(listeSayi) çalışıyor\n",
    "\n",
    "i = 0\n",
    "toplam = 0\n",
    "while i < basamak:  \n",
    "    toplam += listeSayi[i] ** basamak\n",
    "    i += 1\n",
    "\n",
    "if toplam == int(sayi):\n",
    "    print(f\"{sayi} sayısı armstrong sayıdır\")\n",
    "else:\n",
    "    print(f\"{sayi} sayısı armstrong sayı değildir\")\n"
   ]
  },
  {
   "cell_type": "markdown",
   "metadata": {
    "id": "4hSmU3Yoozg4"
   },
   "source": [
    "# Problem 4\n",
    "YetGen Core Python mezunu bir öğretmenimiz öğrencilerine 1'den 10'a kadar sayılarla çarpım tablosunu öğretirken Python'dan destek almak istiyor. Bu konuda öğretmenimize yardımcı olmak ister misin?\n",
    "\n",
    "İpucu: İç içe 2 tane for döngüsü kullanın. \n",
    "\n",
    "Aynı zamanda sayıları range() fonksiyonunu kullanarak elde edin."
   ]
  },
  {
   "cell_type": "code",
   "execution_count": null,
   "metadata": {
    "id": "WsDvmcXgozg5"
   },
   "outputs": [
    {
     "name": "stdout",
     "output_type": "stream",
     "text": [
      "1 x 1 = 1\n",
      "1 x 2 = 2\n",
      "1 x 3 = 3\n",
      "1 x 4 = 4\n",
      "1 x 5 = 5\n",
      "1 x 6 = 6\n",
      "1 x 7 = 7\n",
      "1 x 8 = 8\n",
      "1 x 9 = 9\n",
      "1 x 10 = 10\n",
      "\n",
      "2 x 1 = 2\n",
      "2 x 2 = 4\n",
      "2 x 3 = 6\n",
      "2 x 4 = 8\n",
      "2 x 5 = 10\n",
      "2 x 6 = 12\n",
      "2 x 7 = 14\n",
      "2 x 8 = 16\n",
      "2 x 9 = 18\n",
      "2 x 10 = 20\n",
      "\n",
      "3 x 1 = 3\n",
      "3 x 2 = 6\n",
      "3 x 3 = 9\n",
      "3 x 4 = 12\n",
      "3 x 5 = 15\n",
      "3 x 6 = 18\n",
      "3 x 7 = 21\n",
      "3 x 8 = 24\n",
      "3 x 9 = 27\n",
      "3 x 10 = 30\n",
      "\n",
      "4 x 1 = 4\n",
      "4 x 2 = 8\n",
      "4 x 3 = 12\n",
      "4 x 4 = 16\n",
      "4 x 5 = 20\n",
      "4 x 6 = 24\n",
      "4 x 7 = 28\n",
      "4 x 8 = 32\n",
      "4 x 9 = 36\n",
      "4 x 10 = 40\n",
      "\n",
      "5 x 1 = 5\n",
      "5 x 2 = 10\n",
      "5 x 3 = 15\n",
      "5 x 4 = 20\n",
      "5 x 5 = 25\n",
      "5 x 6 = 30\n",
      "5 x 7 = 35\n",
      "5 x 8 = 40\n",
      "5 x 9 = 45\n",
      "5 x 10 = 50\n",
      "\n",
      "6 x 1 = 6\n",
      "6 x 2 = 12\n",
      "6 x 3 = 18\n",
      "6 x 4 = 24\n",
      "6 x 5 = 30\n",
      "6 x 6 = 36\n",
      "6 x 7 = 42\n",
      "6 x 8 = 48\n",
      "6 x 9 = 54\n",
      "6 x 10 = 60\n",
      "\n",
      "7 x 1 = 7\n",
      "7 x 2 = 14\n",
      "7 x 3 = 21\n",
      "7 x 4 = 28\n",
      "7 x 5 = 35\n",
      "7 x 6 = 42\n",
      "7 x 7 = 49\n",
      "7 x 8 = 56\n",
      "7 x 9 = 63\n",
      "7 x 10 = 70\n",
      "\n",
      "8 x 1 = 8\n",
      "8 x 2 = 16\n",
      "8 x 3 = 24\n",
      "8 x 4 = 32\n",
      "8 x 5 = 40\n",
      "8 x 6 = 48\n",
      "8 x 7 = 56\n",
      "8 x 8 = 64\n",
      "8 x 9 = 72\n",
      "8 x 10 = 80\n",
      "\n",
      "9 x 1 = 9\n",
      "9 x 2 = 18\n",
      "9 x 3 = 27\n",
      "9 x 4 = 36\n",
      "9 x 5 = 45\n",
      "9 x 6 = 54\n",
      "9 x 7 = 63\n",
      "9 x 8 = 72\n",
      "9 x 9 = 81\n",
      "9 x 10 = 90\n",
      "\n",
      "10 x 1 = 10\n",
      "10 x 2 = 20\n",
      "10 x 3 = 30\n",
      "10 x 4 = 40\n",
      "10 x 5 = 50\n",
      "10 x 6 = 60\n",
      "10 x 7 = 70\n",
      "10 x 8 = 80\n",
      "10 x 9 = 90\n",
      "10 x 10 = 100\n",
      "\n"
     ]
    }
   ],
   "source": [
    "for x in range(1,11,1):\n",
    "    for y in range(1,11,1):\n",
    "        print(f\"{x} x {y} = {x*y}\")\n",
    "    print(\"\")\n"
   ]
  },
  {
   "cell_type": "markdown",
   "metadata": {
    "id": "jJpAhNPtozg7"
   },
   "source": [
    "# Problem 5\n",
    "Markete giren bir YetGen'li sıra beklememek için hızlı kasaya gider. Hızlı kasanın çalışma mantığı şu şekildedir:\n",
    "- Kullanıcının aldığı her ürünün fiyatını tek tek girmesi gerekir.\n",
    "- Kullanıcı kasadan çıkmak isterse q tuşuna basmalıdır.\n",
    "- Kasa girilen fiyatları son fiyat isimli değişkene ekler.\n",
    "- Değişkeni ekrana bastırır.\n",
    "\n",
    "İpucu: while döngüsünü sonsuz koşulla başlatın ve kullanıcı q'ya basarsa döngüyü break ile sonlandırın."
   ]
  },
  {
   "cell_type": "code",
   "execution_count": null,
   "metadata": {
    "id": "Tr4QbmESozg9"
   },
   "outputs": [
    {
     "name": "stdout",
     "output_type": "stream",
     "text": [
      "Kasadan çıktınız\n",
      "1 ürünün tutarı:  10\n"
     ]
    }
   ],
   "source": [
    "urunSayisi = int(input(\"Kaç ürün aldınız: \"))\n",
    "i = 0\n",
    "fiyat = 0\n",
    "toplam = 0\n",
    "while i < urunSayisi:\n",
    "    fiyat = input(\"Lütfen fiyatını giriniz: \")\n",
    "    if fiyat == \"q\":\n",
    "        print(\"Kasadan çıktınız\")\n",
    "        break\n",
    "    else:\n",
    "        i+=1\n",
    "        toplam += int(fiyat)\n",
    "print(f\"{i} ürünün tutarı: \", toplam)"
   ]
  },
  {
   "cell_type": "markdown",
   "metadata": {
    "id": "lqJyFt_Eozg-"
   },
   "source": [
    "# Problem 6\n",
    "1'den 100'e kadar olan sayılardan sadece 3'e bölünen sayıları ekrana bastırın. Bu işlemi continue ile yapmaya çalışın."
   ]
  },
  {
   "cell_type": "code",
   "execution_count": null,
   "metadata": {
    "id": "0ZVgZqAQozg_"
   },
   "outputs": [
    {
     "name": "stdout",
     "output_type": "stream",
     "text": [
      "3\n",
      "6\n",
      "9\n",
      "12\n",
      "15\n",
      "18\n",
      "21\n",
      "24\n",
      "27\n",
      "30\n",
      "33\n",
      "36\n",
      "39\n",
      "42\n",
      "45\n",
      "48\n",
      "51\n",
      "54\n",
      "57\n",
      "60\n",
      "63\n",
      "66\n",
      "69\n",
      "72\n",
      "75\n",
      "78\n",
      "81\n",
      "84\n",
      "87\n",
      "90\n",
      "93\n",
      "96\n",
      "99\n"
     ]
    }
   ],
   "source": [
    "for x in range(1,101,1):\n",
    "    if x % 3 == 0:\n",
    "        print(x)\n",
    "    else:\n",
    "        continue"
   ]
  },
  {
   "cell_type": "markdown",
   "metadata": {
    "id": "eA2r49EjozhA"
   },
   "source": [
    "# Problem 7\n",
    "Bir YetGen Core Python mezunu MEF Üniversitesi'nde Bilgisayar Bilimleri Doktora programının mülakatına girmeye hak kazanıyor. Mülakata hazırlanırken internetten soru araştırıyor. Karşısına çıkan ünlü FizzBuzz sorusuna benzer YetGen sorusunda kendisini yeterince hazır hissetmiyor. Bu soruyu çözmesine destek olmak ister misin?\n",
    "\n",
    "Soru aşağıdaki gibidir:\n",
    "\n",
    "1’den 100’e kadar sayıları yazdırıyoruz. Ancak eğer sayı 3’e bölünüyor ise Yet, sayı 5’e bölünüyorsa Gen, hem 3’e hem 5’e bölünüyorsa YetGen yazdırıyoruz."
   ]
  },
  {
   "cell_type": "code",
   "execution_count": 101,
   "metadata": {
    "id": "Q3H7p6vnozhB"
   },
   "outputs": [
    {
     "name": "stdout",
     "output_type": "stream",
     "text": [
      "3 Yet\n",
      "5 Gen\n",
      "6 Yet\n",
      "9 Yet\n",
      "10 Gen\n",
      "12 Yet\n",
      "15 YetGen\n",
      "18 Yet\n",
      "20 Gen\n",
      "21 Yet\n",
      "24 Yet\n",
      "25 Gen\n",
      "27 Yet\n",
      "30 YetGen\n",
      "33 Yet\n",
      "35 Gen\n",
      "36 Yet\n",
      "39 Yet\n",
      "40 Gen\n",
      "42 Yet\n",
      "45 YetGen\n",
      "48 Yet\n",
      "50 Gen\n",
      "51 Yet\n",
      "54 Yet\n",
      "55 Gen\n",
      "57 Yet\n",
      "60 YetGen\n",
      "63 Yet\n",
      "65 Gen\n",
      "66 Yet\n",
      "69 Yet\n",
      "70 Gen\n",
      "72 Yet\n",
      "75 YetGen\n",
      "78 Yet\n",
      "80 Gen\n",
      "81 Yet\n",
      "84 Yet\n",
      "85 Gen\n",
      "87 Yet\n",
      "90 YetGen\n",
      "93 Yet\n",
      "95 Gen\n",
      "96 Yet\n",
      "99 Yet\n",
      "100 Gen\n"
     ]
    }
   ],
   "source": [
    "for x in range(1,101,1):\n",
    "    if x % 3 == 0 and x % 5 == 0:\n",
    "        print(x, \"YetGen\")\n",
    "    elif x % 3 == 0:\n",
    "        print(x, \"Yet\")\n",
    "    elif x % 5 == 0:\n",
    "        print(x, \"Gen\")\n",
    "    else: \n",
    "        continue "
   ]
  }
 ],
 "metadata": {
  "colab": {
   "provenance": []
  },
  "kernelspec": {
   "display_name": "Python 3",
   "language": "python",
   "name": "python3"
  },
  "language_info": {
   "codemirror_mode": {
    "name": "ipython",
    "version": 3
   },
   "file_extension": ".py",
   "mimetype": "text/x-python",
   "name": "python",
   "nbconvert_exporter": "python",
   "pygments_lexer": "ipython3",
   "version": "3.13.2"
  },
  "orig_nbformat": 4
 },
 "nbformat": 4,
 "nbformat_minor": 0
}
