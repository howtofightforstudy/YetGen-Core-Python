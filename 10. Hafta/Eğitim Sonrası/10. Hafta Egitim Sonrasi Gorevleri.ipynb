{
 "cells": [
  {
   "attachments": {},
   "cell_type": "markdown",
   "metadata": {},
   "source": [
    "# Problem 1 "
   ]
  },
  {
   "cell_type": "code",
   "execution_count": 3,
   "metadata": {},
   "outputs": [
    {
     "name": "stdout",
     "output_type": "stream",
     "text": [
      "[5 2 9 1 3]\n",
      "[1 2 3 5 9]\n"
     ]
    }
   ],
   "source": [
    "# 1 - numpy kütüphanesini import edin\n",
    "import numpy as np\n",
    "# 2 - 5 elemanlı bir numpy array oluşturun\n",
    "array = np.array([5, 2, 9, 1, 3])\n",
    "print(array)\n",
    "# 3 - Oluşturduğunuz arrayi küçükten büyüğe sıralayın.\n",
    "sort = np.sort(array)\n",
    "print(sort)"
   ]
  },
  {
   "attachments": {},
   "cell_type": "markdown",
   "metadata": {},
   "source": [
    "# Problem 2"
   ]
  },
  {
   "cell_type": "code",
   "execution_count": 35,
   "metadata": {},
   "outputs": [
    {
     "name": "stdout",
     "output_type": "stream",
     "text": [
      "[ 5  6  7  8  9 10 11 12 13 14 15]\n",
      "[ 50  55  60  65  70  75  80  85  90  95 100]\n",
      "[0. 0. 0. 0. 0. 0. 0. 0. 0. 0.]\n",
      "[1. 1. 1. 1. 1. 1. 1. 1. 1. 1.]\n",
      "[  0.  25.  50.  75. 100.]\n",
      "[11 19 17 22 26]\n",
      "[-1.         -0.77777778 -0.55555556 -0.33333333 -0.11111111  0.11111111\n",
      "  0.33333333  0.55555556  0.77777778  1.        ]\n",
      "[[16 47 24 18 25]\n",
      " [29 14 26 32 35]\n",
      " [32 39 38 15 21]]\n",
      "[130 136 145]\n",
      "[ 77 100  88  65  81]\n",
      "47\n",
      "14\n",
      "30.5\n",
      "[0][1]\n",
      "[10 11 12 13 14 15 16 17 18 19 20]\n",
      "[10 11 12]\n",
      "[20 19 18 17 16 15 14 13 12 11 10]\n",
      "[16 47 24 18 25]\n",
      "26\n",
      "(np.int32(16), np.int32(29), np.int32(32))\n",
      "[[ 256 2209  576  324  625]\n",
      " [ 841  196  676 1024 1225]\n",
      " [1024 1521 1444  225  441]]\n",
      "[[  3  43 -18 -44  25]\n",
      " [ 42  43 -13  10 -50]\n",
      " [-36  40 -16  -7  47]]\n",
      "[ 3 43 25 42 43 10 40 47]\n"
     ]
    }
   ],
   "source": [
    "import numpy as np\n",
    "# 1- (10,15,30,45,60) değerlerine sahip numpy dizisi oluşturunuz.\n",
    "array = np.array([10, 15, 30, 45, 60])\n",
    "\n",
    "# 2- (5-15) arasındaki sayılarla numpy dizisi oluşturunuz.\n",
    "array1 = np.arange(5, 16)\n",
    "print(array1)\n",
    " \n",
    "# 3- (50-100) arasında 5'er 5'er artarak numpy dizisi oluşturunuz.\n",
    "array2 = np.arange(50, 101, 5)\n",
    "print(array2)\n",
    "\n",
    "# 4- 10 elemanlı sıfırlardan oluşan bir dizi oluşturunuz.\n",
    "array3 = np.zeros(10)\n",
    "print(array3)\n",
    "\n",
    "# 5- 10 elemanlı birlerden oluşan bir dizi oluşturunuz.\n",
    "array4 = np.ones(10)\n",
    "print(array4)\n",
    "\n",
    "# 6- (0-100) arasında eşit aralıklı 5 sayı üretin.\n",
    "array5 = np.linspace(0, 100, 5)\n",
    "print(array5)\n",
    "\n",
    "# 7- (10-30) arasında rastgele 5 tane tamsayı üretin.\n",
    "array6 = np.random.randint(10, 31, size = 5)\n",
    "print(array6)\n",
    "\n",
    "# 8- [-1 ile 1] arasında 10 adet sayı üretin.\n",
    "array7 = np.linspace(-1, 1, 10)\n",
    "print(array7)\n",
    "\n",
    "# 9- (3x5) boyutlarında (10-50) arasında rastgele bir matris oluşturunuz.\n",
    "array8 = np.random.randint(10, 51, 15)\n",
    "array8 = array8.reshape(3,5)\n",
    "print(array8)\n",
    "\n",
    "# 10- Üretilen matrisin satır ve sütun sayıları toplamlarını hesaplayınız ?\n",
    "satir_toplamlari = np.sum(array8, axis=1)\n",
    "print(satir_toplamlari)\n",
    "sutun_toplamlari = np.sum(array8, axis=0)\n",
    "print(sutun_toplamlari)\n",
    "\n",
    "# 11- Üretilen matrisin en büyük, en küçük ve ortalaması nedir ?\n",
    "en_buyuk_sayi = array8.max()\n",
    "print(en_buyuk_sayi)\n",
    "en_kucuk_sayi = array8.min()\n",
    "print(en_kucuk_sayi)\n",
    "\n",
    "ortalama = (en_buyuk_sayi + en_kucuk_sayi) / 2\n",
    "print(ortalama)\n",
    "\n",
    "# 12- Üretilen matrisin en büyük değerinin indeksi kaçtır ?\n",
    "satir, sutun = np.unravel_index(np.argmax(array8), array8.shape)\n",
    "print(f\"[{satir}][{sutun}]\")\n",
    "\n",
    "# 13- (10-20) arasındaki sayıları içeren dizinin ilk 3 elemanını seçiniz.\n",
    "array9 = np.arange(10,21)\n",
    "print(array9)\n",
    "elemanlar = [0,1,2]\n",
    "print(array9[elemanlar])\n",
    "\n",
    "# 14- Üretilen dizinin elemanlarını tersten yazdırın.\n",
    "print(array9[::-1])\n",
    "\n",
    "# 15- Üretilen matrisin ilk satırını seçiniz.\n",
    "print(array8[0])\n",
    "\n",
    "# 16- Üretilen matrisin 2.satır 3.sütundaki elemanı hangisidir ?\n",
    "print(array8[1][2])\n",
    "\n",
    "# 17- Üretilen matrisin tüm satırlardaki ilk elemanı seçiniz.\n",
    "ilk_elemanlar = (array8[0][0] , array8[1][0], array8[2][0])\n",
    "print(ilk_elemanlar)\n",
    "\n",
    "# 18- Üretilen matrisin her bir elemanının karesini alınız.\n",
    "array8_karesi = np.square(array8)\n",
    "print(array8_karesi)\n",
    "\n",
    "# 19- Üretilen matris elemanlarının hangisi pozitif çift sayıdır ? Aralığı (-50,+50) arasında yapınız.\n",
    "array10 = np.random.randint(-50, 51, size=(3, 5))\n",
    "print(array10)\n",
    "mask = (array10 > 0)\n",
    "pozitifler = array10[mask]\n",
    "print(pozitifler)\n"
   ]
  }
 ],
 "metadata": {
  "kernelspec": {
   "display_name": "Python 3",
   "language": "python",
   "name": "python3"
  },
  "language_info": {
   "codemirror_mode": {
    "name": "ipython",
    "version": 3
   },
   "file_extension": ".py",
   "mimetype": "text/x-python",
   "name": "python",
   "nbconvert_exporter": "python",
   "pygments_lexer": "ipython3",
   "version": "3.13.2"
  },
  "orig_nbformat": 4,
  "vscode": {
   "interpreter": {
    "hash": "5026d2d6e7aaaaba093def813beadff083d8733e4a511af01735cbabd156995d"
   }
  }
 },
 "nbformat": 4,
 "nbformat_minor": 2
}
