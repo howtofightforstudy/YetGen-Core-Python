{
 "cells": [
  {
   "cell_type": "code",
   "execution_count": null,
   "id": "a76015ad",
   "metadata": {},
   "outputs": [
    {
     "name": "stdout",
     "output_type": "stream",
     "text": [
      "Collecting numpy\n",
      "  Downloading numpy-2.3.2-cp313-cp313-win_amd64.whl.metadata (60 kB)\n",
      "Downloading numpy-2.3.2-cp313-cp313-win_amd64.whl (12.8 MB)\n",
      "   ---------------------------------------- 0.0/12.8 MB ? eta -:--:--\n",
      "   -- ------------------------------------- 0.8/12.8 MB 4.7 MB/s eta 0:00:03\n",
      "   ----- ---------------------------------- 1.8/12.8 MB 5.3 MB/s eta 0:00:03\n",
      "   --------- ------------------------------ 3.1/12.8 MB 5.4 MB/s eta 0:00:02\n",
      "   ------------- -------------------------- 4.2/12.8 MB 5.3 MB/s eta 0:00:02\n",
      "   ---------------- ----------------------- 5.2/12.8 MB 5.4 MB/s eta 0:00:02\n",
      "   ------------------ --------------------- 6.0/12.8 MB 5.1 MB/s eta 0:00:02\n",
      "   --------------------- ------------------ 6.8/12.8 MB 4.9 MB/s eta 0:00:02\n",
      "   ------------------------ --------------- 7.9/12.8 MB 4.8 MB/s eta 0:00:02\n",
      "   --------------------------- ------------ 8.7/12.8 MB 4.6 MB/s eta 0:00:01\n",
      "   ------------------------------ --------- 9.7/12.8 MB 4.7 MB/s eta 0:00:01\n",
      "   --------------------------------- ------ 10.7/12.8 MB 4.7 MB/s eta 0:00:01\n",
      "   ------------------------------------ --- 11.8/12.8 MB 4.7 MB/s eta 0:00:01\n",
      "   ---------------------------------------- 12.8/12.8 MB 4.8 MB/s eta 0:00:00\n",
      "Installing collected packages: numpy\n",
      "Successfully installed numpy-2.3.2\n"
     ]
    },
    {
     "name": "stderr",
     "output_type": "stream",
     "text": [
      "\n",
      "[notice] A new release of pip is available: 24.3.1 -> 25.2\n",
      "[notice] To update, run: python.exe -m pip install --upgrade pip\n"
     ]
    }
   ],
   "source": [
    "# kurulumu yapmak için:\n",
    "!pip install numpy\n",
    "#kurduktan sonra bu code delete ile silip restart ile yenileyeğiz"
   ]
  },
  {
   "cell_type": "code",
   "execution_count": 6,
   "id": "1f90f555",
   "metadata": {},
   "outputs": [
    {
     "name": "stdout",
     "output_type": "stream",
     "text": [
      "[3, 5, 7, 9]\n"
     ]
    }
   ],
   "source": [
    "#klasik yöntem (numpy olmadan)\n",
    "\n",
    "a = [1,2,3,4]\n",
    "b= [2,3,4,5]\n",
    "ab = []\n",
    "for i in range(0, len(a)):\n",
    "    ab.append(a[i] + b[i])\n",
    "print(ab)"
   ]
  },
  {
   "cell_type": "code",
   "execution_count": 8,
   "id": "2bdfb5d3",
   "metadata": {},
   "outputs": [
    {
     "name": "stdout",
     "output_type": "stream",
     "text": [
      "[3 5 7 9]\n"
     ]
    }
   ],
   "source": [
    "#numpy ile \n",
    "import numpy as np\n",
    "a = np.array([1,2,3,4])\n",
    "b = np.array([2,3,4,5])\n",
    "print(a+b)"
   ]
  },
  {
   "cell_type": "code",
   "execution_count": null,
   "id": "b846a960",
   "metadata": {},
   "outputs": [
    {
     "name": "stdout",
     "output_type": "stream",
     "text": [
      "[[1 2 3]\n",
      " [4 5 6]\n",
      " [7 8 9]]\n"
     ]
    }
   ],
   "source": [
    "#reshape fonksiyonu\n",
    "import numpy as np\n",
    "\n",
    "x = np.array([1,2,3,4,5,6,7,8,9])\n",
    "multi = x.reshape(3,3)\n",
    "print(multi)"
   ]
  },
  {
   "cell_type": "code",
   "execution_count": 16,
   "id": "eab53fe3",
   "metadata": {},
   "outputs": [
    {
     "name": "stdout",
     "output_type": "stream",
     "text": [
      "(3, 3)\n",
      "(9,)\n"
     ]
    }
   ],
   "source": [
    "#shape fonksiyonu\n",
    "import numpy as np\n",
    "\n",
    "x = np.array([1, 2, 3, 4, 5, 6, 7, 8, 9])\n",
    "multi = x.reshape(3, 3)\n",
    "print(multi.shape)\n",
    "print(x.shape)"
   ]
  },
  {
   "cell_type": "code",
   "execution_count": null,
   "id": "7c040314",
   "metadata": {},
   "outputs": [
    {
     "name": "stdout",
     "output_type": "stream",
     "text": [
      "1\n",
      "2\n"
     ]
    }
   ],
   "source": [
    "#ndim\n",
    "import numpy as np\n",
    "\n",
    "x = np.array([1, 2, 3, 4, 5, 6, 7, 8, 9])\n",
    "multi = x.reshape(3, 3)\n",
    "print(x.ndim) #tek boyutlu array\n",
    "print(multi.ndim) #iki boyutlu array"
   ]
  },
  {
   "cell_type": "code",
   "execution_count": 26,
   "id": "fb26617f",
   "metadata": {},
   "outputs": [
    {
     "name": "stdout",
     "output_type": "stream",
     "text": [
      "[ 1  2  3  4  5  6  7  8  9 10]\n",
      "[ 1  2  3  4  5  6  7  8  9 10 11 12 13 14 15]\n",
      "[[1 2 3]\n",
      " [4 5 6]\n",
      " [1 2 3]\n",
      " [4 5 6]]\n",
      "[[1 2 3 1 2 3]\n",
      " [4 5 6 4 5 6]]\n",
      "[[1 2 3]\n",
      " [4 5 6]\n",
      " [1 2 3]\n",
      " [4 5 6]]\n"
     ]
    }
   ],
   "source": [
    "import numpy as np\n",
    "x = np.array([1,2,3,4,5])    \n",
    "y = np.array([6,7,8,9,10])\n",
    "print(np.concatenate([x, y]))\n",
    "\n",
    "z = np.array([11,12,13,14,15])\n",
    "print(np.concatenate([x, y, z]))\n",
    "\n",
    "a = np.array([[1,2,3],[4,5,6]])\n",
    "print(np.concatenate([a, a]))\n",
    "\n",
    "print(np.concatenate([a, a], axis=1))  # sütun bazında birleştirme\n",
    "print(np.concatenate([a, a], axis=0))  # satır bazında birleştirme"
   ]
  },
  {
   "cell_type": "code",
   "execution_count": null,
   "id": "ab161a7c",
   "metadata": {},
   "outputs": [
    {
     "name": "stdout",
     "output_type": "stream",
     "text": [
      "[array([1, 2, 3]), array([99, 99]), array([3, 2, 1])]\n",
      "[1 2 3]\n",
      "[99 99]\n",
      "[3 2 1]\n"
     ]
    }
   ],
   "source": [
    "import numpy as np\n",
    "n = np.array([1,2,3,99,99,3,2,1])\n",
    "print(np.split(n, [3,5]))\n",
    "#0-1-2 alır sonra 3-4 alır ve 5-6-7 alır\n",
    "\n",
    "a,b,c = np.split(n, [3,5])\n",
    "print(a)\n",
    "print(b)\n",
    "print(c)"
   ]
  },
  {
   "cell_type": "code",
   "execution_count": null,
   "id": "776465b2",
   "metadata": {},
   "outputs": [
    {
     "data": {
      "text/plain": [
       "[array([[0, 1, 2, 3],\n",
       "        [4, 5, 6, 7]]),\n",
       " array([[ 8,  9, 10, 11],\n",
       "        [12, 13, 14, 15]])]"
      ]
     },
     "execution_count": 29,
     "metadata": {},
     "output_type": "execute_result"
    }
   ],
   "source": [
    "#vsplit fonksiyonu\n",
    "import numpy as np\n",
    "#.arange(16) ile 0'dan 16'ya kadar sayıları oluşturur\n",
    "n = np.arange(16).reshape(4, 4)\n",
    "np.vsplit(n, [2])"
   ]
  },
  {
   "cell_type": "code",
   "execution_count": null,
   "id": "efdc8c24",
   "metadata": {},
   "outputs": [
    {
     "data": {
      "text/plain": [
       "[array([[ 0,  1],\n",
       "        [ 4,  5],\n",
       "        [ 8,  9],\n",
       "        [12, 13]]),\n",
       " array([[ 2,  3],\n",
       "        [ 6,  7],\n",
       "        [10, 11],\n",
       "        [14, 15]])]"
      ]
     },
     "execution_count": 30,
     "metadata": {},
     "output_type": "execute_result"
    }
   ],
   "source": [
    "# vsplit fonksiyonu\n",
    "import numpy as np\n",
    "#.arange(16) ile 0'dan 16'ya kadar sayıları oluşturur\n",
    "n = np.arange(16).reshape(4, 4)\n",
    "np.hsplit(n, [2])"
   ]
  },
  {
   "cell_type": "code",
   "execution_count": null,
   "id": "f08a2c58",
   "metadata": {},
   "outputs": [
    {
     "data": {
      "text/plain": [
       "array([ 3,  5,  7,  9, 11])"
      ]
     },
     "execution_count": 31,
     "metadata": {},
     "output_type": "execute_result"
    }
   ],
   "source": [
    "#arange fonksiyonu\n",
    "import numpy as np\n",
    "np.arange(3,12,2) \n",
    "#3'ten 12'ye kadar 2'şer artarak sayıları oluşturur"
   ]
  },
  {
   "cell_type": "code",
   "execution_count": null,
   "id": "e31b8e0e",
   "metadata": {},
   "outputs": [
    {
     "data": {
      "text/plain": [
       "array([0., 0., 0., 0., 0.])"
      ]
     },
     "execution_count": 32,
     "metadata": {},
     "output_type": "execute_result"
    }
   ],
   "source": [
    "#zeros fonksiyonu\n",
    "import numpy as np\n",
    "np.zeros(5)  \n",
    "# 5 tane sıfırdan oluşan bir dizi oluşturur"
   ]
  },
  {
   "cell_type": "code",
   "execution_count": 33,
   "id": "aec53568",
   "metadata": {},
   "outputs": [
    {
     "data": {
      "text/plain": [
       "array([1., 1., 1., 1., 1.])"
      ]
     },
     "execution_count": 33,
     "metadata": {},
     "output_type": "execute_result"
    }
   ],
   "source": [
    "#ones fonksiyonu\n",
    "import numpy as np\n",
    "np.ones(5)  \n",
    "# 5 tane birden oluşan bir dizi oluşturur"
   ]
  },
  {
   "cell_type": "code",
   "execution_count": 39,
   "id": "6992a554",
   "metadata": {},
   "outputs": [
    {
     "data": {
      "text/plain": [
       "array([  0.,  25.,  50.,  75., 100.])"
      ]
     },
     "execution_count": 39,
     "metadata": {},
     "output_type": "execute_result"
    }
   ],
   "source": [
    "import numpy as np\n",
    "np.linspace(0, 100, 5)\n",
    "# 0 ile 100 arasında 5 eşit parçaya bölünmüş sayılar oluştur"
   ]
  },
  {
   "cell_type": "code",
   "execution_count": 40,
   "id": "f2619c16",
   "metadata": {},
   "outputs": [
    {
     "data": {
      "text/plain": [
       "array([4, 0, 9], dtype=int32)"
      ]
     },
     "execution_count": 40,
     "metadata": {},
     "output_type": "execute_result"
    }
   ],
   "source": [
    "import numpy as np\n",
    "np.random.randint(0,10,3)\n",
    "# 0 ile 10 arasında 3 adet rastgele tamsayı oluşturur"
   ]
  },
  {
   "cell_type": "code",
   "execution_count": null,
   "id": "b3a0b33c",
   "metadata": {},
   "outputs": [
    {
     "data": {
      "text/plain": [
       "array([ 2, 11, 16,  8, 14], dtype=int32)"
      ]
     },
     "execution_count": 41,
     "metadata": {},
     "output_type": "execute_result"
    }
   ],
   "source": [
    "import numpy as np\n",
    "np.random.randint(2,22,5)\n",
    "# 2 ile 22 arasında 5 adet rastgele tamsayı oluşturur"
   ]
  },
  {
   "cell_type": "code",
   "execution_count": 43,
   "id": "9c1da865",
   "metadata": {},
   "outputs": [
    {
     "name": "stdout",
     "output_type": "stream",
     "text": [
      "[ 45 145 245 345 445]\n"
     ]
    }
   ],
   "source": [
    "npArray = np.arange(50)\n",
    "#0'dan 49'a kadar sayıları içeren bir dizi oluşturur\n",
    "npMulti = npArray.reshape(5,10)\n",
    "# 5 satır ve 10 sütundan oluşan bir matris oluşturur\n",
    "print(npMulti.sum(axis = 1))\n",
    "# her satırın toplamını hesaplar"
   ]
  },
  {
   "cell_type": "code",
   "execution_count": 5,
   "id": "f6dc362d",
   "metadata": {},
   "outputs": [
    {
     "name": "stdout",
     "output_type": "stream",
     "text": [
      "1\n",
      "(10,)\n",
      "10\n",
      "int32\n"
     ]
    }
   ],
   "source": [
    "import numpy as np\n",
    "a = np.random.randint(10,size = 10)\n",
    "print(a.ndim)\n",
    "# a.ndim ile dizinin boyut sayısını (ndim) yazdırır\n",
    "print(a.shape)      \n",
    "# a.shape ile dizinin boyutlarını (shape) yazdırır\n",
    "print(a.size)   \n",
    "# a.size ile dizinin toplam eleman sayısını (size) yazdırır\n",
    "print(a.dtype) \n",
    "# a.dtype ile dizinin veri tipini (dtype) yazdırır"
   ]
  },
  {
   "cell_type": "code",
   "execution_count": null,
   "id": "1e01f2bd",
   "metadata": {},
   "outputs": [
    {
     "name": "stdout",
     "output_type": "stream",
     "text": [
      "[  8  24 232  12   5  42  55]\n",
      "[  5   8  12  24  42  55 232]\n"
     ]
    }
   ],
   "source": [
    "import numpy as np\n",
    "v = np.array([8,24,232,12,5,42,55])\n",
    "print(v)\n",
    "v.sort()\n",
    "print(v)"
   ]
  },
  {
   "cell_type": "code",
   "execution_count": 7,
   "id": "7d4c8241",
   "metadata": {},
   "outputs": [
    {
     "name": "stdout",
     "output_type": "stream",
     "text": [
      "[[13.66407658 28.50079778 21.99053444]\n",
      " [20.30480767 11.6528527  27.76204473]\n",
      " [25.87063823 21.50772641 18.80696012]]\n"
     ]
    }
   ],
   "source": [
    "n = np.random.normal(20,5,(3,3))\n",
    "print(n)\n",
    "# normal dağılıma göre 20 ortalama ve 5 standart sapma ile 3x3 boyutunda bir matris oluşturur"
   ]
  },
  {
   "cell_type": "code",
   "execution_count": 8,
   "id": "526fdc70",
   "metadata": {},
   "outputs": [
    {
     "name": "stdout",
     "output_type": "stream",
     "text": [
      "[[13.66407658 11.6528527  18.80696012]\n",
      " [20.30480767 21.50772641 21.99053444]\n",
      " [25.87063823 28.50079778 27.76204473]]\n"
     ]
    }
   ],
   "source": [
    "print(np.sort(n, axis=0))\n",
    "# n matrisini sütun bazında sıralar"
   ]
  },
  {
   "cell_type": "code",
   "execution_count": 9,
   "id": "6941d4dc",
   "metadata": {},
   "outputs": [
    {
     "name": "stdout",
     "output_type": "stream",
     "text": [
      "[[13.66407658 21.99053444 28.50079778]\n",
      " [11.6528527  20.30480767 27.76204473]\n",
      " [18.80696012 21.50772641 25.87063823]]\n"
     ]
    }
   ],
   "source": [
    "print(np.sort(n, axis = 1))\n",
    "# n matrisini satır bazında sıralar"
   ]
  },
  {
   "cell_type": "code",
   "execution_count": null,
   "id": "d157addb",
   "metadata": {},
   "outputs": [
    {
     "name": "stdout",
     "output_type": "stream",
     "text": [
      "5\n",
      "3\n",
      "[100   5   5   4   9   1   7   5   3   3]\n",
      "[[5 9 1 0 1]\n",
      " [2 9 0 5 8]\n",
      " [3 8 3 5 9]]\n",
      "5\n",
      "[[  5   9   1   0   1]\n",
      " [  2   9 300   5   8]\n",
      " [  3   8   3   5   9]]\n"
     ]
    }
   ],
   "source": [
    "import numpy as np\n",
    "a = np.random.randint(10, size=10)\n",
    "print(a[0]) # a dizisinin ilk elemanını yazdırır\n",
    "print(a[-1]) # a dizisinin son elemanını yazdırır\n",
    "a[0] = 100 \n",
    "print(a)\n",
    "\n",
    "# 3 satır ve 5 sütundan oluşan rastgele bir matris oluşturur\n",
    "x = np.random.randint(10, size=(3,5)) \n",
    "print(x)\n",
    "print(x[0, 0]) # x matrisinin ilk satır ve ilk sütun elemanını yazdırır\n",
    "\n",
    "x[1,2] = 300 #x matrisinin ikinci satır ve beşinci sütun elemanını 300 olarak günceller\n",
    "print(x)"
   ]
  },
  {
   "cell_type": "code",
   "execution_count": 4,
   "id": "f878c02e",
   "metadata": {},
   "outputs": [
    {
     "name": "stdout",
     "output_type": "stream",
     "text": [
      "[20 21 22 23 24 25 26 27 28 29]\n",
      "[20 21 22]\n",
      "[20 21 22]\n",
      "[23 24 25 26 27 28 29]\n",
      "[23 29]\n",
      "[20 22 24 26 28]\n",
      "[29 28 27 26 25 24 23 22 21 20]\n",
      "[21 23 25 27]\n",
      "[[1 6 7 3 6]\n",
      " [6 4 7 6 5]\n",
      " [4 5 9 2 8]\n",
      " [1 5 2 6 9]\n",
      " [4 6 0 7 7]]\n",
      "[1 6 4 1 4]\n",
      "[1 6 7 3 6]\n",
      "[[1 6 7]\n",
      " [6 4 7]]\n",
      "[[1 7 6]\n",
      " [4 9 8]\n",
      " [4 0 7]]\n"
     ]
    }
   ],
   "source": [
    "import numpy as np\n",
    "a = np.arange(20,30)\n",
    "print(a)\n",
    "\n",
    "print(a[0:3]) # a dizisinin ilk üç elemanını yazdırır\n",
    "print(a[:3])  # a dizisinin ilk üç elemanını yazdırır\n",
    "print(a[3:])  # a dizisinin dördüncü elemanından sonrasını yazdırır\n",
    "print(a[3::6])  # a dizisinin dördüncü elemanından başlayarak her altıncı elemanını yazdırır\n",
    "print(a[::2]) # a dizisinin her ikinci elemanını yazdırır\n",
    "print(a[::-1]) # a dizisini ters çevirir\n",
    "print(a[1:8:2]) # a dizisinin ikinci elemanından başlayarak\n",
    "\n",
    "b = np.random.randint(10, size=(5,5))\n",
    "print(b)\n",
    "print(b[:,0]) # b matrisinin tüm satırlarını ve ilk sütununu yazdırır\n",
    "print(b[0,:]) # b matrisinin ilk satırını ve tüm sütunlarını yazdırır\n",
    "print(b[0:2,0:3]) # b matrisinin ilk iki satırını ve ilk üç sütununu yazdırır\n",
    "print(b[::2, ::2]) # b matrisinin her ikinci satırını ve her ikinci sütununu yazdırır"
   ]
  },
  {
   "cell_type": "code",
   "execution_count": 8,
   "id": "dbf7adf2",
   "metadata": {},
   "outputs": [
    {
     "data": {
      "text/plain": [
       "array([[9, 9, 5],\n",
       "       [8, 7, 1]], dtype=int32)"
      ]
     },
     "execution_count": 8,
     "metadata": {},
     "output_type": "execute_result"
    }
   ],
   "source": [
    "import numpy as np\n",
    "b = np.random.randint(10, size=(5,5))\n",
    "alt_b = b[0:2, 0:3]  # b matrisinin ilk iki satırını ve ilk üç sütununu alır\n",
    "alt_b"
   ]
  },
  {
   "cell_type": "code",
   "execution_count": 9,
   "id": "a383d6db",
   "metadata": {},
   "outputs": [
    {
     "data": {
      "text/plain": [
       "array([[100,   9,   5],\n",
       "       [  8,   7,   1]], dtype=int32)"
      ]
     },
     "execution_count": 9,
     "metadata": {},
     "output_type": "execute_result"
    }
   ],
   "source": [
    "alt_b[0,0] = 100  # alt_b matrisinin ilk satır ve ilk sütun elemanını 100 olarak günceller\n",
    "alt_b"
   ]
  },
  {
   "cell_type": "code",
   "execution_count": 2,
   "id": "67843094",
   "metadata": {},
   "outputs": [
    {
     "name": "stdout",
     "output_type": "stream",
     "text": [
      "[ 0  3  6  9 12 15 18 21 24 27]\n",
      "[ 3  9 15]\n",
      "[0 5]\n"
     ]
    }
   ],
   "source": [
    "import numpy as np\n",
    "v = np.arange(0,30,3) # 0'dan 30'a kadar 3'er artan bir dizi oluşturur\n",
    "print(v)\n",
    "\n",
    "yetgen = [1,3,5]\n",
    "print(v[yetgen]) # v dizisinin 1, 3 ve 5 indekslerindeki elemanlarını yazdırır\n",
    "\n",
    "n = np.arange(9).reshape(3,3)\n",
    "satir = np.array([0,1])\n",
    "sutun = np.array([0,2])\n",
    "print(n[satir, sutun])  # n matrisinin 0. ve 1. satırlarının 0. ve 2. sütun elemanlarını yazdırır"
   ]
  },
  {
   "cell_type": "code",
   "execution_count": 4,
   "id": "e2ef2a87",
   "metadata": {},
   "outputs": [
    {
     "name": "stdout",
     "output_type": "stream",
     "text": [
      "[False False False  True  True]\n",
      "[4 5]\n",
      "[1 2]\n",
      "[3]\n",
      "[1 2 4 5]\n",
      "[3 4 5]\n",
      "[1 2 3]\n"
     ]
    }
   ],
   "source": [
    "v = np.array([1,2,3,4,5])\n",
    "print(v > 3)  # v dizisindeki elemanların 3'ten büyük olup olmadığını kontrol eder ve True/False değerlerini yazdırır\n",
    "print(v[v > 3])  # v dizisindeki 3'ten büyük elemanları yazdırır\n",
    "print(v[v < 3])  # v dizisindeki 3'ten küçük elemanları yazdırır\n",
    "print(v[v == 3])  # v dizisindeki 3'e eşit elemanları yazdırır\n",
    "print(v[v != 3])  # v dizisindeki 3'e eşit olmayan elemanları yazdırır\n",
    "print(v[v >= 3])  # v dizisindeki 3'e eşit veya daha büyük elemanları yazdırır\n",
    "print(v[v <= 3])  # v dizisindeki 3'e eşit veya daha küçük elemanları yazdırır"
   ]
  },
  {
   "cell_type": "code",
   "execution_count": null,
   "id": "ee88fbac",
   "metadata": {},
   "outputs": [
    {
     "name": "stdout",
     "output_type": "stream",
     "text": [
      "[ 2  4  6  8 10]\n",
      "[3 4 5 6 7]\n",
      "[-1  0  1  2  3]\n",
      "[0.5 1.  1.5 2.  2.5]\n",
      "[ 1  4  9 16 25]\n",
      "[-1  0  1  2  3]\n",
      "[3 4 5 6 7]\n",
      "[ 2  4  6  8 10]\n",
      "[0.5 1.  1.5 2.  2.5]\n",
      "[ 1  4  9 16 25]\n",
      "[1.         1.41421356 1.73205081 2.         2.23606798]\n",
      "[  2.71828183   7.3890561   20.08553692  54.59815003 148.4131591 ]\n"
     ]
    }
   ],
   "source": [
    "v = np.array([1,2,3,4,5])\n",
    "print(v*2) # v dizisini 2 ile çarpar\n",
    "print(v + 2)  # v dizisine 2 ekler\n",
    "print(v - 2)  # v dizisinden 2 çıkarır      \n",
    "print(v / 2)  # v dizisini 2'ye böler\n",
    "print(v ** 2)  # v dizisinin her elemanını karesini al\n",
    "print(np.subtract(v, 2))  # v dizisinden 2 çıkarır\n",
    "print(np.add(v, 2))  # v dizisine 2 ekler   \n",
    "print(np.multiply(v, 2))  # v dizisini 2 ile çarpar\n",
    "print(np.divide(v, 2))  # v dizisini 2'ye böler\n",
    "print(np.power(v, 2))  # v dizisinin her elemanının karesini alır  \n",
    "print(np.sqrt(v))  # v dizisinin her elemanının karekökünü alır\n",
    "print(np.exp(v))  # v dizisinin her elemanının e üzeri değerini alır\n",
    "print(np.mod(v, 2))  # v dizisinin her elemanının 2 ile bölümünden kalanı alır\n",
    "print(np.abs(v))  # v dizisinin her elemanının mutlak değerini alır\n",
    "print(np.absolute(v))  # v dizisinin her elemanının mutlak değerini alır\n",
    "print(np.floor(v))  # v dizisinin her elemanının alt tamsayısını alır\n",
    "print(np.ceil(v))  # v dizisinin her elemanının üst tamsayısını alır\n",
    "print(np.round(v))  # v dizisinin her elemanını en yakın tamsayıya yuvarlar\n",
    "print(np.clip(v, 2, 4))  # v dizisinin her elemanını 2 ile 4 arasında sınırlar  "
   ]
  },
  {
   "cell_type": "code",
   "execution_count": 10,
   "id": "91b6a5c1",
   "metadata": {},
   "outputs": [
    {
     "name": "stdout",
     "output_type": "stream",
     "text": [
      "[1.85714286 2.71428571]\n"
     ]
    }
   ],
   "source": [
    "#iki bilinmeyenli denklem çözümü\n",
    "import numpy as np\n",
    "A = np.array([[5, 1], [1, 3]])\n",
    "B = np.array([12, 10])\n",
    "x = np.linalg.solve(A, B)  # A matrisini ve B vektörünü kullanarak x ve y'yi çözer\n",
    "print(x)  # x ve y değerlerini yazdırır"
   ]
  }
 ],
 "metadata": {
  "kernelspec": {
   "display_name": "Python 3",
   "language": "python",
   "name": "python3"
  },
  "language_info": {
   "codemirror_mode": {
    "name": "ipython",
    "version": 3
   },
   "file_extension": ".py",
   "mimetype": "text/x-python",
   "name": "python",
   "nbconvert_exporter": "python",
   "pygments_lexer": "ipython3",
   "version": "3.13.2"
  }
 },
 "nbformat": 4,
 "nbformat_minor": 5
}
