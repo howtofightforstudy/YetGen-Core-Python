{
 "cells": [
  {
   "attachments": {},
   "cell_type": "markdown",
   "metadata": {},
   "source": [
    "# Problem 1"
   ]
  },
  {
   "cell_type": "code",
   "execution_count": 7,
   "metadata": {},
   "outputs": [
    {
     "name": "stdout",
     "output_type": "stream",
     "text": [
      "[9 2 7 1 2]\n",
      "(5,)\n",
      "[[9]\n",
      " [2]\n",
      " [7]\n",
      " [1]\n",
      " [2]]\n",
      "1\n"
     ]
    }
   ],
   "source": [
    "# 1 - numpy kütüphanesini import edin\n",
    "import numpy as np\n",
    "# 2 - 0 ile 10 arasında 5 sayıdan oluşan matris üretin\n",
    "matris = np.random.randint(0, 11, 5)\n",
    "print(matris)\n",
    "# 3 - matris'in boyutunu öğrenin\n",
    "print(matris.shape)\n",
    "# 4 - matris'i yeniden boyutlandırın\n",
    "print(matris.reshape(5, 1))\n",
    "# 5 - matris'in boyut sayısını öğrenin\n",
    "print(matris.ndim)"
   ]
  },
  {
   "attachments": {},
   "cell_type": "markdown",
   "metadata": {},
   "source": [
    "# Problem 2"
   ]
  },
  {
   "cell_type": "code",
   "execution_count": 13,
   "metadata": {},
   "outputs": [
    {
     "name": "stdout",
     "output_type": "stream",
     "text": [
      "[1 3 5 7 9]\n",
      "[array([1, 3]), array([5, 7]), array([9])]\n",
      "[1 3 5 7 9]\n"
     ]
    }
   ],
   "source": [
    "import numpy as np\n",
    "# 1 - 0 ile 10 arasında bulunan tek sayılardan oluşan matris üretin\n",
    "tek_sayilar = np.arange(1, 11, 2)\n",
    "print(tek_sayilar)\n",
    "# 2 - Oluşturduğunuz matrisi parçalayın\n",
    "tek_sayilar_parcali = np.array_split(tek_sayilar, 3)\n",
    "print(tek_sayilar_parcali)\n",
    "# 3 - Parçalanmış matrisleri birleştirin\n",
    "tek_sayilar_birlestirilmis = np.concatenate(tek_sayilar_parcali)\n",
    "print(tek_sayilar_birlestirilmis)"
   ]
  },
  {
   "attachments": {},
   "cell_type": "markdown",
   "metadata": {},
   "source": [
    "# Problem 3"
   ]
  },
  {
   "cell_type": "code",
   "execution_count": 25,
   "metadata": {},
   "outputs": [
    {
     "name": "stdout",
     "output_type": "stream",
     "text": [
      "[45 33 55 81 87 91 99 57 93 71]\n",
      "boyut sayısı: 1\n",
      "boyut bilgisi (10,)\n",
      "toplam eleman sayısı: 10\n",
      "veri tipi int64\n"
     ]
    }
   ],
   "source": [
    "import numpy as np\n",
    "# 1 - 5 ile 100 arasında ikişer ikişer atlayarak rastgele 10 sayıdan oluşan matris üretin\n",
    "sayilar = np.arange(5, 101, 2)\n",
    "sayilar2 = np.random.choice(sayilar, size = 10, replace=False)\n",
    "print(sayilar2)\n",
    "# 2 - matris'in özelliklerini inceleyin\n",
    "print(\"boyut sayısı:\" ,sayilar2.ndim)\n",
    "print(\"boyut bilgisi\", sayilar2.shape) \n",
    "print(\"toplam eleman sayısı:\" ,sayilar2.size) \n",
    "print(\"veri tipi\" ,sayilar2.dtype) "
   ]
  }
 ],
 "metadata": {
  "kernelspec": {
   "display_name": "Python 3",
   "language": "python",
   "name": "python3"
  },
  "language_info": {
   "codemirror_mode": {
    "name": "ipython",
    "version": 3
   },
   "file_extension": ".py",
   "mimetype": "text/x-python",
   "name": "python",
   "nbconvert_exporter": "python",
   "pygments_lexer": "ipython3",
   "version": "3.13.2"
  },
  "orig_nbformat": 4,
  "vscode": {
   "interpreter": {
    "hash": "5026d2d6e7aaaaba093def813beadff083d8733e4a511af01735cbabd156995d"
   }
  }
 },
 "nbformat": 4,
 "nbformat_minor": 2
}
