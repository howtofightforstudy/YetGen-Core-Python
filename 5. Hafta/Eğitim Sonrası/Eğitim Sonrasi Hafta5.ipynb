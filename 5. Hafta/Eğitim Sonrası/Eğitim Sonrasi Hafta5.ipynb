{
 "cells": [
  {
   "cell_type": "markdown",
   "metadata": {
    "id": "Rm1DKmXZM-Ja"
   },
   "source": [
    "# Problem 1\n",
    "\n",
    "Fizikte, bir nesnenin sabit ivmeyle hareket ederken son hızını \n",
    "(veya hızını) bulmak için aşağıdaki denklem kullanılabilir:\n",
    "```\n",
    "vf = vi + at\n",
    "burada:\n",
    "vf= son hız\n",
    "vi= ilk hız\n",
    "a= hızlanma\n",
    "t= zaman\n",
    "```\n",
    "İlk hız, ivme ve zaman verildiğinde, son hızı döndürecek bir fonksiyon yazın."
   ]
  },
  {
   "cell_type": "code",
   "execution_count": 1,
   "metadata": {
    "id": "vWrjJiV0M-Jk"
   },
   "outputs": [
    {
     "name": "stdout",
     "output_type": "stream",
     "text": [
      "son hız: 10 km/s\n"
     ]
    }
   ],
   "source": [
    "def islem(vi,a,t):\n",
    "    vf = vi + (a*t)\n",
    "    return vf\n",
    "vi = int(input(\"İlk hızı giriniz:\"))   \n",
    "a = int(input(\"İvmeyi giriniz:\"))\n",
    "t = int(input(\"Zamanı giriniz(saat):\"))\n",
    "sonuc = islem(vi,a,t)\n",
    "print(f\"son hız: {sonuc} km/s\")"
   ]
  },
  {
   "cell_type": "markdown",
   "metadata": {
    "id": "uAHpyY5HM-Jq"
   },
   "source": [
    "# Problem 2\n",
    "\n",
    "1'den 1000'e kadar olan sayılardan mükemmel sayı olanları ekrana yazdırın. Bunun için bir sayının mükemmel olup olmadığını dönen bir tane fonksiyon yazın.\n",
    "\n",
    "Bir sayının bölenlerinin toplamı kendine eşitse bu sayı mükemmel bir sayıdır. Örnek olarak 6 mükemmel bir sayıdır (1 + 2 + 3 = 6)."
   ]
  },
  {
   "cell_type": "code",
   "execution_count": 2,
   "metadata": {
    "id": "yrY4Y5ncM-Jr"
   },
   "outputs": [
    {
     "name": "stdout",
     "output_type": "stream",
     "text": [
      "[6, 28, 496]\n"
     ]
    }
   ],
   "source": [
    "mukemmelSayilar=[]\n",
    "for x in range(1,1001):\n",
    "    toplam = 0\n",
    "    for j in range(1,x):\n",
    "        if x % j == 0:\n",
    "            toplam += j\n",
    "        else:\n",
    "            continue\n",
    "    if toplam == x:\n",
    "       mukemmelSayilar.append(x)\n",
    "print(mukemmelSayilar)"
   ]
  },
  {
   "cell_type": "markdown",
   "metadata": {
    "id": "C2-XwlJtM-Jr"
   },
   "source": [
    "# Problem 3\n",
    "\n",
    "1'den 100'e kadar olan sayılardan pisagor üçgeni oluşturanları ekrana yazdıran bir fonksiyon yazın.(a <= 100,b <= 100)\n"
   ]
  },
  {
   "cell_type": "code",
   "execution_count": 3,
   "metadata": {
    "id": "BMNy4xi-M-Js"
   },
   "outputs": [
    {
     "name": "stdout",
     "output_type": "stream",
     "text": [
      "(3, 4, 5)\n",
      "(4, 3, 5)\n",
      "(5, 12, 13)\n",
      "(6, 8, 10)\n",
      "(7, 24, 25)\n",
      "(8, 6, 10)\n",
      "(8, 15, 17)\n",
      "(9, 12, 15)\n",
      "(9, 40, 41)\n",
      "(10, 24, 26)\n",
      "(11, 60, 61)\n",
      "(12, 5, 13)\n",
      "(12, 9, 15)\n",
      "(12, 16, 20)\n",
      "(12, 35, 37)\n",
      "(13, 84, 85)\n",
      "(14, 48, 50)\n",
      "(15, 8, 17)\n",
      "(15, 20, 25)\n",
      "(15, 36, 39)\n",
      "(16, 12, 20)\n",
      "(16, 30, 34)\n",
      "(16, 63, 65)\n",
      "(18, 24, 30)\n",
      "(18, 80, 82)\n",
      "(20, 15, 25)\n",
      "(20, 21, 29)\n",
      "(20, 48, 52)\n",
      "(20, 99, 101)\n",
      "(21, 20, 29)\n",
      "(21, 28, 35)\n",
      "(21, 72, 75)\n",
      "(24, 7, 25)\n",
      "(24, 10, 26)\n",
      "(24, 18, 30)\n",
      "(24, 32, 40)\n",
      "(24, 45, 51)\n",
      "(24, 70, 74)\n",
      "(25, 60, 65)\n",
      "(27, 36, 45)\n",
      "(28, 21, 35)\n",
      "(28, 45, 53)\n",
      "(28, 96, 100)\n",
      "(30, 16, 34)\n",
      "(30, 40, 50)\n",
      "(30, 72, 78)\n",
      "(32, 24, 40)\n",
      "(32, 60, 68)\n",
      "(33, 44, 55)\n",
      "(33, 56, 65)\n",
      "(35, 12, 37)\n",
      "(35, 84, 91)\n",
      "(36, 15, 39)\n",
      "(36, 27, 45)\n",
      "(36, 48, 60)\n",
      "(36, 77, 85)\n",
      "(39, 52, 65)\n",
      "(39, 80, 89)\n",
      "(40, 9, 41)\n",
      "(40, 30, 50)\n",
      "(40, 42, 58)\n",
      "(40, 75, 85)\n",
      "(40, 96, 104)\n",
      "(42, 40, 58)\n",
      "(42, 56, 70)\n",
      "(44, 33, 55)\n",
      "(45, 24, 51)\n",
      "(45, 28, 53)\n",
      "(45, 60, 75)\n",
      "(48, 14, 50)\n",
      "(48, 20, 52)\n",
      "(48, 36, 60)\n",
      "(48, 55, 73)\n",
      "(48, 64, 80)\n",
      "(48, 90, 102)\n",
      "(51, 68, 85)\n",
      "(52, 39, 65)\n",
      "(54, 72, 90)\n",
      "(55, 48, 73)\n",
      "(56, 33, 65)\n",
      "(56, 42, 70)\n",
      "(56, 90, 106)\n",
      "(57, 76, 95)\n",
      "(60, 11, 61)\n",
      "(60, 25, 65)\n",
      "(60, 32, 68)\n",
      "(60, 45, 75)\n",
      "(60, 63, 87)\n",
      "(60, 80, 100)\n",
      "(60, 91, 109)\n",
      "(63, 16, 65)\n",
      "(63, 60, 87)\n",
      "(63, 84, 105)\n",
      "(64, 48, 80)\n",
      "(65, 72, 97)\n",
      "(66, 88, 110)\n",
      "(68, 51, 85)\n",
      "(69, 92, 115)\n",
      "(70, 24, 74)\n",
      "(72, 21, 75)\n",
      "(72, 30, 78)\n",
      "(72, 54, 90)\n",
      "(72, 65, 97)\n",
      "(72, 96, 120)\n",
      "(75, 40, 85)\n",
      "(75, 100, 125)\n",
      "(76, 57, 95)\n",
      "(77, 36, 85)\n",
      "(80, 18, 82)\n",
      "(80, 39, 89)\n",
      "(80, 60, 100)\n",
      "(80, 84, 116)\n",
      "(84, 13, 85)\n",
      "(84, 35, 91)\n",
      "(84, 63, 105)\n",
      "(84, 80, 116)\n",
      "(88, 66, 110)\n",
      "(90, 48, 102)\n",
      "(90, 56, 106)\n",
      "(91, 60, 109)\n",
      "(92, 69, 115)\n",
      "(96, 28, 100)\n",
      "(96, 40, 104)\n",
      "(96, 72, 120)\n",
      "(99, 20, 101)\n",
      "(100, 75, 125)\n"
     ]
    }
   ],
   "source": [
    "import math\n",
    "pisagorUcgenleri = []\n",
    "for a in range(1,101):\n",
    "    for b in range(1,101):\n",
    "        c = math.sqrt(a**2 + b**2) \n",
    "        if c == int(c):\n",
    "            pisagorUcgenleri.append((a,b,int(c)))\n",
    "\n",
    "for i in pisagorUcgenleri:\n",
    "    print(i)"
   ]
  },
  {
   "cell_type": "markdown",
   "metadata": {
    "id": "oPfmWi4jM-Js"
   },
   "source": [
    "# Problem 4\n",
    "\n",
    "Bir duvar boyamaya karar verdiniz. Boya kutusunun üzerindeki talimatta, 1 kutu boyanın 5 metrekarelik bir duvarı boyayabileceği yazıyor. Rastgele bir duvar yüksekliği ve genişliği verildiğinde, kaç kutu boya satın almanız gerektiğini hesaplayın.\n",
    "\n",
    "kutu sayısı = (duvar yüksekliği * duvar genişliği) ÷ kutu başına kaplama.\n",
    "\n",
    "örneğin Yükseklik = 2, Genişlik = 4, Kaplama = 5\n",
    "\n",
    "kutu sayısı = (2 * 4) ÷ 5 = 1.6\n",
    "\n",
    "Ancak bir kutu boyanın 0,6'sını satın alamayacağınız için, sonuç 2 kutuya yuvarlanmalıdır .\n"
   ]
  },
  {
   "cell_type": "code",
   "execution_count": 4,
   "metadata": {
    "id": "0zuyzSp5M-Jt"
   },
   "outputs": [
    {
     "name": "stdout",
     "output_type": "stream",
     "text": [
      "yüksekliği 3 ve genişliği 7 metre olan duvarın 5 kutu boyaya ihtiyacı vardır\n"
     ]
    }
   ],
   "source": [
    "#1 kutu -> 5 metrekarelik duvar\n",
    "import math\n",
    "duvarYuksekligi = int(input(\"Duvar yüksekliğini giriniz(m):\"))\n",
    "duvarGenisligi = int(input(\"Duvar genişliğini giriniz(m):\"))\n",
    "\n",
    "def kutuSayisi(duvarYuksekligi,duvarGenisligi):\n",
    "    kutuSayisi = ((duvarGenisligi*duvarYuksekligi)/5)\n",
    "    return math.ceil(kutuSayisi)\n",
    "\n",
    "sonuc = kutuSayisi(duvarYuksekligi,duvarGenisligi)\n",
    "print(f\"yüksekliği {duvarYuksekligi} ve genişliği {duvarGenisligi} metre olan duvarın {sonuc} kutu boyaya ihtiyacı vardır\")"
   ]
  },
  {
   "cell_type": "markdown",
   "metadata": {
    "id": "pe6TJuBBM-Ju"
   },
   "source": [
    "# Problem 5\n",
    "\n",
    "Bir kelimedeki ünlü ve ünsüz harfleri sayan bir fonksiyon yazınız."
   ]
  },
  {
   "cell_type": "code",
   "execution_count": 5,
   "metadata": {
    "id": "LJ0opjiLM-Ju"
   },
   "outputs": [
    {
     "name": "stdout",
     "output_type": "stream",
     "text": [
      "ünsüzler: ['s', 'n', 'c', 'p', 'l', 'r']\n",
      "ünlüler: ['i', 'a', 'a']\n"
     ]
    }
   ],
   "source": [
    "unluHarfler = \"aeıioöuüAEIİOÖUÜ\"\n",
    "unsuzHarfler = \"cçdfgğhjklmnprsştvyzBCÇDFGĞHJKLMNPRSŞTVYZ\"\n",
    "def kontrol(kelime):\n",
    "    unluler = [harf for harf in kelime if harf not in unsuzHarfler] \n",
    "    unsuzler = [harf for harf in kelime if harf not in unluHarfler] \n",
    "    print(f\"ünsüzler: {unsuzler}\")\n",
    "    print(f\"ünlüler: {unluler}\")\n",
    "deger=input(\"Kelime giriniz:\")\n",
    "kontrol(deger)"
   ]
  },
  {
   "cell_type": "markdown",
   "metadata": {
    "id": "Lfls2YTXM-Jv"
   },
   "source": [
    "# Problem 6\n",
    "\n",
    "Verilen bir listeden çift sayıları yazdıran bir fonksiyon yazınız.\n"
   ]
  },
  {
   "cell_type": "code",
   "execution_count": 6,
   "metadata": {
    "id": "qUwsL20IM-Jv"
   },
   "outputs": [
    {
     "name": "stdout",
     "output_type": "stream",
     "text": [
      "[0, 1, 2, 3, 4, 5, 6, 7, 8] değerlerinden çift olanlar: [0, 2, 4, 6, 8]\n"
     ]
    }
   ],
   "source": [
    "elemanSayisi = int(input(\"Listeye kaç eleman ekleyeceksiniz?\"))\n",
    "sayilar = []\n",
    "#elaman sayısını al ona göre elemana değer girilsin, o elemanı listeye ekle. listeyi de \n",
    "#döndür ve çift mi diye bak, çift sayıları da değişkene atıp return yap\n",
    "for i in range (1,(elemanSayisi+1)):\n",
    "    sayi = int(input(f\"{i}. sayıyı giriniz: \"))\n",
    "    sayilar.append(sayi)\n",
    "\n",
    "ciftSayilar = []\n",
    "def ciftSayilariBastir(dizi):\n",
    "    for i in dizi:\n",
    "        if i % 2 == 0:\n",
    "            ciftSayilar.append(i)\n",
    "    return ciftSayilar\n",
    "ciftDegerler = ciftSayilariBastir(sayilar)\n",
    "print(f\"{sayilar} değerlerinden çift olanlar: {ciftDegerler}\")\n"
   ]
  },
  {
   "cell_type": "markdown",
   "metadata": {
    "id": "IPp724iIM-Jy"
   },
   "source": [
    "# Problem 7\n",
    "\n",
    "0'dan 10'a kadar olan sayıların toplamını hesaplayan özyinelemeli (Recursive Function) bir fonksiyon oluşturan bir fonksiyon yazınız.\n",
    "\n",
    "Özyinelemeli (Recursive Function) bir işlev, kendini tekrar tekrar çağıran bir işlevdir."
   ]
  },
  {
   "cell_type": "code",
   "execution_count": 7,
   "metadata": {
    "id": "KFW6xhTJM-Jz"
   },
   "outputs": [
    {
     "name": "stdout",
     "output_type": "stream",
     "text": [
      "55\n"
     ]
    }
   ],
   "source": [
    "#yani return kullanacağız\n",
    "def toplama():\n",
    "    toplam = 0 \n",
    "    for i in range(0,11):\n",
    "        toplam += i\n",
    "    return toplam\n",
    "\n",
    "print(toplama())"
   ]
  }
 ],
 "metadata": {
  "colab": {
   "provenance": []
  },
  "kernelspec": {
   "display_name": "Python 3",
   "language": "python",
   "name": "python3"
  },
  "language_info": {
   "codemirror_mode": {
    "name": "ipython",
    "version": 3
   },
   "file_extension": ".py",
   "mimetype": "text/x-python",
   "name": "python",
   "nbconvert_exporter": "python",
   "pygments_lexer": "ipython3",
   "version": "3.13.2"
  },
  "orig_nbformat": 4
 },
 "nbformat": 4,
 "nbformat_minor": 0
}
