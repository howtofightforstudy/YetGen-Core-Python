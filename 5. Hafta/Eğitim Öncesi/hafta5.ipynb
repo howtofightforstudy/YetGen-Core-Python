{
 "cells": [
  {
   "cell_type": "code",
   "execution_count": 3,
   "metadata": {},
   "outputs": [
    {
     "name": "stdout",
     "output_type": "stream",
     "text": [
      "[1, 4, 9, 16, 25, 36, 49, 64, 81, 100]\n"
     ]
    }
   ],
   "source": [
    "#klasik yöntem\n",
    "liste = [1,2,3,4,5,6,7,8,9,10]\n",
    "yeniListe = []\n",
    "for i in liste:\n",
    "    yeniListe.append(i * i)\n",
    "print(yeniListe)"
   ]
  },
  {
   "cell_type": "code",
   "execution_count": 4,
   "metadata": {},
   "outputs": [
    {
     "name": "stdout",
     "output_type": "stream",
     "text": [
      "[1, 4, 9, 16, 25, 36, 49, 64, 81, 100]\n"
     ]
    }
   ],
   "source": [
    "#list comprehension yöntemi\n",
    "liste = [1,2,3,4,5,6,7,8,9,10]\n",
    "yeniListe = [i * i for i in liste]\n",
    "print(yeniListe)"
   ]
  },
  {
   "cell_type": "code",
   "execution_count": null,
   "metadata": {},
   "outputs": [
    {
     "name": "stdout",
     "output_type": "stream",
     "text": [
      "[1, 2, 3, 4, 5, 6, 7, 8, 9, 10, 11, 12, 13, 14, 15]\n"
     ]
    }
   ],
   "source": [
    "liste = [[1,2,3],[4,5,6,7,8],[9,10,11,12,13,14,15]]\n",
    "liste2 = [x for i in liste for x in i] \n",
    "\"\"\" Dış döngü: for i in liste → liste içindeki her bir alt listeyi (i) alır.\n",
    "           İlk olarak i = [1,2,3] olur.\n",
    "           Sonra i = [4,5,6,7,8] olur.\n",
    "           Son olarak i = [9,10,11,12,13,14,15] olur.\n",
    "    İç döngü:  for x in i → i içinde bulunan her bir elemanı (x) tek tek alır ve yeni listeye ekler.\"\"\"\n",
    "print(liste2)"
   ]
  },
  {
   "cell_type": "code",
   "execution_count": 6,
   "metadata": {},
   "outputs": [
    {
     "name": "stdout",
     "output_type": "stream",
     "text": [
      "[1, 2, 3, 5, 6, 7, 8, 10]\n"
     ]
    }
   ],
   "source": [
    "liste1 = [1,2,3,4,5,6,7,8,9,10]\n",
    "liste2 = [i for i in liste1 if not(i == 4 or i == 9)]\n",
    "print(liste2)"
   ]
  },
  {
   "cell_type": "code",
   "execution_count": 3,
   "metadata": {},
   "outputs": [
    {
     "name": "stdout",
     "output_type": "stream",
     "text": [
      "Merhaba\n"
     ]
    }
   ],
   "source": [
    "def selamlar():\n",
    "    print(\"Merhaba\")\n",
    "\n",
    "selamlar()\n",
    "#sonrasında fonksiyonu çağırmamız gerekiyor"
   ]
  },
  {
   "cell_type": "code",
   "execution_count": null,
   "metadata": {},
   "outputs": [
    {
     "name": "stdout",
     "output_type": "stream",
     "text": [
      "Merhaba ziyaretçi\n",
      "Merhaba Berk\n"
     ]
    }
   ],
   "source": [
    "def helloWordl(name = \"ziyaretçi\"):\n",
    "      print(\"Merhaba\", name)\n",
    "helloWordl()\n",
    "helloWordl(\"Berk\")\n",
    "#eğer sadece çağırırsak ziyaretçi der, değer verirsek verdiğimiz değri söyler"
   ]
  },
  {
   "cell_type": "code",
   "execution_count": 6,
   "metadata": {},
   "outputs": [
    {
     "name": "stdout",
     "output_type": "stream",
     "text": [
      "6\n"
     ]
    }
   ],
   "source": [
    "def topla(sayi1,sayi2,sayi3):\n",
    "    toplam= sayi1 + sayi2 + sayi3\n",
    "    print(toplam)\n",
    "topla(1,2,3)"
   ]
  },
  {
   "cell_type": "code",
   "execution_count": null,
   "metadata": {},
   "outputs": [
    {
     "name": "stdout",
     "output_type": "stream",
     "text": [
      "Siteme hoşgeldin eda kaya\n"
     ]
    }
   ],
   "source": [
    "def merhaba(name = \"Berkcan\", surname = \"Gümüşışık\"):\n",
    "    print(\"Siteme hoşgeldin \" +name+ \" \" +surname)\n",
    "\n",
    "merhaba(\"Eda\",\"Kaya\")"
   ]
  },
  {
   "cell_type": "code",
   "execution_count": 14,
   "metadata": {},
   "outputs": [
    {
     "name": "stdout",
     "output_type": "stream",
     "text": [
      "1\n",
      "240\n"
     ]
    }
   ],
   "source": [
    "def carp(sayi1 = 1, sayi2 = 1, sayi3 = 1):\n",
    "    carpim= sayi1 * sayi2 * sayi3\n",
    "    print(carpim)\n",
    "carp()\n",
    "carp(4,6,10)"
   ]
  },
  {
   "cell_type": "code",
   "execution_count": 16,
   "metadata": {},
   "outputs": [
    {
     "name": "stdout",
     "output_type": "stream",
     "text": [
      "Hola\n",
      "Bonjour\n",
      "Hello\n",
      "Merhaba\n"
     ]
    }
   ],
   "source": [
    "def merhaba(dil):\n",
    "    if dil == \"es\":\n",
    "        print(\"Hola\")\n",
    "    elif dil == \"fr\":\n",
    "        print(\"Bonjour\")\n",
    "    elif dil == \"en\":\n",
    "        print(\"Hello\")\n",
    "    else:\n",
    "        print(\"Merhaba\")\n",
    "merhaba(\"es\")\n",
    "merhaba(\"fr\")\n",
    "merhaba(\"en\")\n",
    "merhaba(\"\")"
   ]
  },
  {
   "cell_type": "code",
   "execution_count": 17,
   "metadata": {},
   "outputs": [
    {
     "name": "stdout",
     "output_type": "stream",
     "text": [
      "3.0\n"
     ]
    }
   ],
   "source": [
    "def dikUcgenAlaniHesapla(a,b):\n",
    "    return (a * b)/2\n",
    "alan = dikUcgenAlaniHesapla(2,3)\n",
    "print(alan)"
   ]
  },
  {
   "cell_type": "code",
   "execution_count": null,
   "metadata": {},
   "outputs": [
    {
     "name": "stdout",
     "output_type": "stream",
     "text": [
      "(4,)\n",
      "(4, 5, 6, 7, 8, 9, 10)\n"
     ]
    }
   ],
   "source": [
    "def sayilar(*x):\n",
    "    print(x)\n",
    "sayilar(4)\n",
    "sayilar(4,5,6,7,8,9,10)\n",
    "#tek bir parametre ile birçok değeri kullanmamızı sağlar"
   ]
  },
  {
   "cell_type": "code",
   "execution_count": 20,
   "metadata": {},
   "outputs": [
    {
     "name": "stdout",
     "output_type": "stream",
     "text": [
      "15\n"
     ]
    }
   ],
   "source": [
    "def topla(*x):\n",
    "    toplam = 0\n",
    "    for i in x:\n",
    "        toplam += i\n",
    "    print(toplam)\n",
    "topla(1,2,3,4,5)"
   ]
  }
 ],
 "metadata": {
  "kernelspec": {
   "display_name": "Python 3",
   "language": "python",
   "name": "python3"
  },
  "language_info": {
   "codemirror_mode": {
    "name": "ipython",
    "version": 3
   },
   "file_extension": ".py",
   "mimetype": "text/x-python",
   "name": "python",
   "nbconvert_exporter": "python",
   "pygments_lexer": "ipython3",
   "version": "3.13.2"
  }
 },
 "nbformat": 4,
 "nbformat_minor": 2
}
