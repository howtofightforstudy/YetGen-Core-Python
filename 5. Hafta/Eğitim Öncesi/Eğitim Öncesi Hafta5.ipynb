{
 "cells": [
  {
   "cell_type": "markdown",
   "metadata": {
    "id": "hpyeSHc7K1aN"
   },
   "source": [
    "# Problem 1\n",
    "Bir YetGenli yeni aldığı bahçesinin etrafına çit çevirmek istiyor. Bahçenin etrafını çit ile çevirmek için gerekli çit uzunluğunu ve bahçenin alanını hesaplayan fonksiyonu yazınız."
   ]
  },
  {
   "cell_type": "code",
   "execution_count": 29,
   "metadata": {
    "id": "HfCgs5BHK1aT"
   },
   "outputs": [
    {
     "name": "stdout",
     "output_type": "stream",
     "text": [
      "Çit için gereken uzunluk: 60\n",
      "Bahçenin alanı: 200\n"
     ]
    }
   ],
   "source": [
    "def bahceCevresi(a,b):\n",
    "    cevre = (2*a)+(2*b)\n",
    "    print(f\"Çit için gereken uzunluk: {cevre}\")\n",
    "    alan = a*b\n",
    "    print(f\"Bahçenin alanı: {alan}\")\n",
    "bahceCevresi(10,20)"
   ]
  },
  {
   "cell_type": "markdown",
   "metadata": {
    "id": "L90q8kwQK1aW"
   },
   "source": [
    "# Problem 2\n",
    "Kendisine gönderilen 2 sayı arasındaki tüm asal sayıları bulan fonksiyonu yazınız."
   ]
  },
  {
   "cell_type": "code",
   "execution_count": null,
   "metadata": {
    "id": "VxbxzQXdK1aX"
   },
   "outputs": [],
   "source": [
    "\"\"\"\n",
    "def find_primes(start, end):\n",
    "    primes = []\n",
    "    for num in range(max(2, start), end + 1):\n",
    "        is_prime = True\n",
    "        for i in range(2, int(num**0.5) + 1):\n",
    "            if num % i == 0:\n",
    "                is_prime = False\n",
    "                break\n",
    "        if is_prime:\n",
    "            primes.append(num)\n",
    "    return primes\n",
    "\n",
    "start = int(input(\"Enter starting number: \"))\n",
    "end = int(input(\"Enter ending number: \"))\n",
    "\n",
    "primes = find_primes(start, end)\n",
    "print(f\"Prime numbers between {start} and {end}:\")\n",
    "print(primes)\"\n",
    "\"\"\""
   ]
  },
  {
   "cell_type": "markdown",
   "metadata": {
    "id": "OqbcX2FPK1aY"
   },
   "source": [
    "# Problem 3\n",
    "YetGen liderlerinin kurdukları girişim unicorn oluyor. YetGen liderleri iş arkadaşlarının alacağı ücretlerini hesaplamak için bir fonksiyon yazdılar. Bu fonksiyonu kullanarak, YetGen liderlerinin iş arkadaşlarına verecekleri ücretleri hesaplayınız.\n",
    "\n",
    "Ücret hesaplanması çalışma saatine bağlıdır. Bunun için kullanıcıdan çalışma saati bilgisinn alın. Sonrasında yapılacak ödemenin hesaplanacağı computePay() adlı bir fonksiyon oluşturun. Bu fonksiyonun içinde işlemler yapın. Çalışma saati 40 ve altındaysa saat başına ücret 10 TL’dir. 40 saatin üstünde çalışıldıysa saat başına ücret 15 TL sayılmaktadır.\n",
    "\n",
    "```\n",
    "Test etmek için 30 saat değerini giriniz,  sonuç 300 TL çıkmalı, \n",
    "ikincil test olarak 50 değerini giriniz,  sonuç 750 TL çıkmalı.\n",
    "```"
   ]
  },
  {
   "cell_type": "code",
   "execution_count": 19,
   "metadata": {
    "id": "Uhg6Gcc1K1aZ"
   },
   "outputs": [
    {
     "name": "stdout",
     "output_type": "stream",
     "text": [
      "50 saatlik çalışma karşılığında ücretiniz: 750\n"
     ]
    }
   ],
   "source": [
    "saat = int(input(\"Çalışma saatinizi giriniz:\"))\n",
    "def computePay(saat):\n",
    "    saatlik=0\n",
    "    if saat < 40:\n",
    "        saatlik = 10\n",
    "        ucret = saat*saatlik\n",
    "        print(f\"{saat} saatlik çalışma karşılığında ücretiniz: {ucret}\")\n",
    "    elif saat >= 40:\n",
    "        saatlik= 15\n",
    "        ucret = saat*saatlik\n",
    "        print(f\"{saat} saatlik çalışma karşılığında ücretiniz: {ucret}\")    \n",
    "computePay(saat)"
   ]
  },
  {
   "cell_type": "markdown",
   "metadata": {
    "id": "V0BeBR90K1aZ"
   },
   "source": [
    "# Problem 4\n",
    "YetGenliler zirveye gitmek için toplanıyor. Zirveye gitmek için kiraladıkları araçlar 4'er kişiliktir. Gelecek kişi sayısı için Airtable üzerinde form açılıyor. Gelecek kişi sayısını alıp dört kişilik araçlara bölüp kalan kişi sayısını döndüren bir fonksiyon yazınız."
   ]
  },
  {
   "cell_type": "code",
   "execution_count": 20,
   "metadata": {
    "id": "AC8x-EQlK1aa"
   },
   "outputs": [
    {
     "name": "stdout",
     "output_type": "stream",
     "text": [
      "toplamda 25 kişi var ve 6 araç kullanıldı, 1 kişi yerleştirilemedi\n"
     ]
    }
   ],
   "source": [
    "kisiSayisi = int(input(\"Gelecek kişi sayısınız giriniz: \"))\n",
    "def arac(kisiSayisi):\n",
    "    yerlestirilenler = kisiSayisi//4\n",
    "    kalanlar = kisiSayisi%4\n",
    "    if kalanlar == 0:\n",
    "        print(f\"toplamda {kisiSayisi} kişi var ve {yerlestirilenler} araç kullanıldı, geride kalan kişi yok\")\n",
    "    else:\n",
    "        print(f\"toplamda {kisiSayisi} kişi var ve {yerlestirilenler} araç kullanıldı, {kalanlar} kişi yerleştirilemedi\")\n",
    "arac(kisiSayisi)"
   ]
  },
  {
   "cell_type": "markdown",
   "metadata": {
    "id": "dWcDwEVjK1ab"
   },
   "source": [
    "# Problem 5\n",
    "sayiTopla() adında bir fonksiyon yazın. sayiTopla() fonksiyonu girilen sayıları toplayarak yazdırmasını sağlayan bir fonksiyon yazınız.\n",
    "\n",
    "Örneğin sayiTopla(1,2,3,4,5) yazdığımızda 15 çıktısını almalıyız. sayiTopla(1,2,3,4,5,6,7,8,9,10) yazdığımızda 55 çıktısını almalıyız."
   ]
  },
  {
   "cell_type": "code",
   "execution_count": 21,
   "metadata": {
    "id": "fmCZcLM2K1ad"
   },
   "outputs": [
    {
     "name": "stdout",
     "output_type": "stream",
     "text": [
      "55\n"
     ]
    }
   ],
   "source": [
    "def sayiTopla(*sayilar):\n",
    "    toplam = 0\n",
    "    for i in sayilar:\n",
    "        toplam  += i\n",
    "    print(toplam)\n",
    "sayiTopla(1,2,3,4,5,6,7,8,9,10)"
   ]
  },
  {
   "cell_type": "markdown",
   "metadata": {
    "id": "kd9edMkoK1ae"
   },
   "source": [
    "# Problem 6\n",
    "\n",
    "[(\"xxx\",1),(\"xxx\",2),(\"xxx\",9),(\"xxx\",3), (\"xxx\",1),(\"xxx\",13),(\"xxx\",26),(\"xxx\",4)] listesi içerisinde verilen elemanların her birini tuple içindeki 2. Elemana göre sıralayınız. \n",
    "\n"
   ]
  },
  {
   "cell_type": "code",
   "execution_count": 22,
   "metadata": {
    "id": "Jk4tgaH3K1af"
   },
   "outputs": [
    {
     "name": "stdout",
     "output_type": "stream",
     "text": [
      "('xxx', 1)\n",
      "('xxx', 1)\n",
      "('xxx', 2)\n",
      "('xxx', 3)\n",
      "('xxx', 4)\n",
      "('xxx', 9)\n",
      "('xxx', 13)\n",
      "('xxx', 26)\n"
     ]
    }
   ],
   "source": [
    "listeDegerleri=[(\"xxx\",1),# listeDeger[0][1]. değerine göre sıralama yap\n",
    "                (\"xxx\",2),\n",
    "                (\"xxx\",9),\n",
    "                (\"xxx\",3),\n",
    "                (\"xxx\",1),\n",
    "                (\"xxx\",13),\n",
    "                (\"xxx\",26),\n",
    "                (\"xxx\",4)]\n",
    "\n",
    "def siralama(listeDegerleri):\n",
    "    siraliListe = sorted(listeDegerleri, key=lambda x: x[1])\n",
    "    for deger in siraliListe:\n",
    "        print(deger)\n",
    "\n",
    "siralama(listeDegerleri)\n"
   ]
  },
  {
   "cell_type": "markdown",
   "metadata": {
    "id": "V0yKbDraK1af"
   },
   "source": [
    "# Problem 7\n",
    "List comprehension kullanarak 1'den 100'e kadar olan sayılardan sadece çift sayıları bir listeye atmayı yapmayı çalışın."
   ]
  },
  {
   "cell_type": "code",
   "execution_count": 23,
   "metadata": {
    "id": "iHosmISJK1ag"
   },
   "outputs": [
    {
     "name": "stdout",
     "output_type": "stream",
     "text": [
      "[2, 4, 6, 8, 10, 12, 14, 16, 18, 20, 22, 24, 26, 28, 30, 32, 34, 36, 38, 40, 42, 44, 46, 48, 50, 52, 54, 56, 58, 60, 62, 64, 66, 68, 70, 72, 74, 76, 78, 80, 82, 84, 86, 88, 90, 92, 94, 96, 98, 100]\n"
     ]
    }
   ],
   "source": [
    "ciftListe = [x for x in range(1, 101) if x % 2 == 0]\n",
    "print(ciftListe)"
   ]
  }
 ],
 "metadata": {
  "colab": {
   "provenance": []
  },
  "kernelspec": {
   "display_name": "Python 3",
   "language": "python",
   "name": "python3"
  },
  "language_info": {
   "codemirror_mode": {
    "name": "ipython",
    "version": 3
   },
   "file_extension": ".py",
   "mimetype": "text/x-python",
   "name": "python",
   "nbconvert_exporter": "python",
   "pygments_lexer": "ipython3",
   "version": "3.13.2"
  },
  "orig_nbformat": 4
 },
 "nbformat": 4,
 "nbformat_minor": 0
}
