{
 "cells": [
  {
   "cell_type": "markdown",
   "metadata": {},
   "source": [
    "# Problem 1\n",
    "`ogrenciler` adında bir sözlük oluşturunuz. Kullanıcıdan döngü yardımıyla 3 öğrenci için veri girmesini isteyerek öğrencilerin sırasıyla okul numarası, isim, soy isim, telefon numarası ve doğum tarihi bilgilerini alınız. Aldığınız öğrenci bilgilerini yine aynı döngü yardımıyla `ogrenciler` adındaki sözlükte saklayınız. Daha sonra öğrenci bilgilerinin bulunduğu sözlük yapısını ekrana bastırınız.\n",
    "\n"
   ]
  },
  {
   "cell_type": "code",
   "execution_count": 1,
   "metadata": {},
   "outputs": [
    {
     "name": "stdout",
     "output_type": "stream",
     "text": [
      "Öğrenci Bilgileri:\n",
      "\n",
      "Okul Numarası: 12.12.2004\n",
      "İsim: 1298334765\n",
      "Soyisim: Eslem\n",
      "Telefon Numarası: Orak\n",
      "Doğum Tarihi: 05896543429\n",
      "----------------------------------------------------------------\n",
      "Okul Numarası: 12.12.2004\n",
      "İsim: 1298334765\n",
      "Soyisim: Eslem\n",
      "Telefon Numarası: Orak\n",
      "Doğum Tarihi: 05896543429\n",
      "----------------------------------------------------------------\n",
      "Okul Numarası: 12.12.2004\n",
      "İsim: 1298334765\n",
      "Soyisim: Eslem\n",
      "Telefon Numarası: Orak\n",
      "Doğum Tarihi: 05896543429\n",
      "----------------------------------------------------------------\n"
     ]
    }
   ],
   "source": [
    "ogrenciler = {}\n",
    "\n",
    "for i in range(3):\n",
    "    ogrenciOkulNumarasi = input(f\"{i+1}. öğrencinin okul numarasını giriniz: \")\n",
    "    ogrenciIsim = input(\"Öğrencinin ismini giriniz: \")\n",
    "    ogrenciSoyisim = input(\"Öğrencinin soyismini giriniz: \")\n",
    "    ogrenciTel = input(\"Öğrencinin telefon numarasını giriniz: \")\n",
    "    ogrenciDogumTarihi = input(\"Öğrencinin doğum tarihini giriniz: \")\n",
    "    \n",
    "    ogrenciler[ogrenciOkulNumarasi] = {\n",
    "        \"İsim\" : ogrenciIsim,\n",
    "        \"Soyisim\" : ogrenciSoyisim,\n",
    "        \"Telefon Numarası\" : ogrenciTel,\n",
    "        \"Doğum Tarihi\" : ogrenciDogumTarihi\n",
    "    }\n",
    "\n",
    "print(\"Öğrenci Bilgileri:\\n\")\n",
    "for okul_no, bilgiler in ogrenciler.items():\n",
    "    print(f\"Okul Numarası: {ogrenciOkulNumarasi}\\nİsim: {ogrenciIsim}\\nSoyisim: {ogrenciSoyisim}\\nTelefon Numarası: {ogrenciTel}\\nDoğum Tarihi: {ogrenciDogumTarihi}\")\n",
    "    print(\"----------------------------------------------------------------\")"
   ]
  },
  {
   "cell_type": "markdown",
   "metadata": {},
   "source": [
    "# Problem 2\n",
    "\n",
    "### a - Biraz ısınarak başlayalım!\n",
    "\n",
    "```\n",
    "numbers = [5,10,10,15,15,15,20,20,20,20]\n",
    "```\n",
    "\n",
    "Yukarıda `numbers` adında 10 elemanlı bir liste verilmiştir. Bu listenin her elemanını kontrol eden ve tekrar eden elemanları bir kez olacak şekilde başka bir listeye kopyalayan bir program yazınız. Son olarak oluşturduğunuz listeyi ekrana bastırınız.\n",
    "\n",
    "\n",
    "\n",
    "\n",
    "```\n",
    ">Output\n",
    "[5, 10, 15, 20]\n",
    "```\n"
   ]
  },
  {
   "cell_type": "code",
   "execution_count": 2,
   "metadata": {},
   "outputs": [
    {
     "name": "stdout",
     "output_type": "stream",
     "text": [
      "[5, 10, 15, 20]\n"
     ]
    }
   ],
   "source": [
    "numbers = [5, 10, 10, 15, 15, 15, 20, 20, 20, 20]\n",
    "numbersKopya = []\n",
    "\n",
    "for num in numbers:\n",
    "    if num not in numbersKopya:\n",
    "        numbersKopya.append(num)\n",
    "\n",
    "print(numbersKopya)\n"
   ]
  },
  {
   "cell_type": "markdown",
   "metadata": {},
   "source": [
    "### 🌶️ b) Hadi işi biraz daha zorlaştıralım! \n",
    "\n",
    "\n",
    "Şimdiyse senden `numbers` isimli listedeki tekrar eden elemanları `repeatNumbers` adındaki listeye; tekrar etmeyen elemanları `uniqueNumbers`adındaki listeye kopyalayan yazmanı ve listeleri ekrana bastırmanı bekliyoruz\n",
    "\n",
    "```\n",
    ">Output\n",
    "Tekrar Eden Elemanlar: [10, 10, 15, 15, 15, 20, 20, 20, 20]\n",
    "Tekrar Etmeyen Elemanlar: [5]\n",
    "```"
   ]
  },
  {
   "cell_type": "code",
   "execution_count": 3,
   "metadata": {},
   "outputs": [
    {
     "name": "stdout",
     "output_type": "stream",
     "text": [
      "Tekrar Eden Elemanlar: [10, 10, 15, 15, 15, 20, 20, 20, 20]\n",
      "Tekrar Etmeyen Elemanlar: [5]\n"
     ]
    }
   ],
   "source": [
    "numbers = [5,10,10,15,15,15,20,20,20,20]\n",
    "repeatNumbers = []\n",
    "uniqueNumbers = []\n",
    "\n",
    "for i in numbers:\n",
    "    if numbers.count(i) == 1:\n",
    "        uniqueNumbers.append(i)\n",
    "    elif numbers.count(i) > 1:\n",
    "        repeatNumbers.append(i)\n",
    "\n",
    "print(f\"Tekrar Eden Elemanlar: {repeatNumbers}\\nTekrar Etmeyen Elemanlar: {uniqueNumbers}\")"
   ]
  },
  {
   "cell_type": "markdown",
   "metadata": {},
   "source": [
    "# Problem 3\n",
    "sn1 = {1,2,3,4,5}\n",
    "\n",
    "sn2 = {4,5,6,7,8}\n",
    "\n",
    " Verilen 2 adet küme için kesişimlerini, farklarını ve birleşimlerini bulunuz. "
   ]
  },
  {
   "cell_type": "code",
   "execution_count": 4,
   "metadata": {},
   "outputs": [
    {
     "name": "stdout",
     "output_type": "stream",
     "text": [
      "Kesişimleri: [4, 5, 4, 5]\n",
      "Farkları: [1, 2, 3, 6, 7, 8]\n",
      "Birleşimleri: [1, 2, 3, 4, 5, 4, 5, 6, 7, 8]\n"
     ]
    }
   ],
   "source": [
    "sn1 = {1,2,3,4,5}\n",
    "sn2 = {4,5,6,7,8}\n",
    "\n",
    "liste1 = list(sn1)\n",
    "liste2 = list(sn2)\n",
    "\n",
    "totalList = liste1+liste2\n",
    "intersectionSet = []\n",
    "differenceSet = []\n",
    "unionSet = []\n",
    "\n",
    "for i in totalList:\n",
    "    if totalList.count(i) == 1:\n",
    "        differenceSet.append(i)\n",
    "    elif totalList.count(i) > 1:\n",
    "        intersectionSet.append(i)\n",
    "\n",
    "print(f\"Kesişimleri: {intersectionSet}\")\n",
    "print(f\"Farkları: {differenceSet}\")\n",
    "print(f\"Birleşimleri: {totalList}\")\n"
   ]
  },
  {
   "cell_type": "markdown",
   "metadata": {},
   "source": [
    "# Problem 4\n",
    "\n",
    "Buradaki işlemlerimizin tamamı stringler içindir. Aşağıda verilecek olan metodlar için kendinizin örnek yaratması gerekmektedir. \n",
    "\n",
    "Örneğin `upper` için `string` değişkeni oluştururken` k = \"BAC\"` şeklinde oluşturmayınız. Bunun yerine k değişkenini `k = \"bac`\" şeklinde oluşturmanız `upper` metodundaki değişimi görebilmeniz için daha iyi olacaktır.\n",
    "\n",
    "Bütün metodlardaki değişimin gözle görülür şekilde değişimi beklenmektedir.\n",
    "\n",
    "\n",
    "1- capitalize(), lower(), upper(), swapcase(), title(), replace()\n",
    "\n",
    "2- endswith(), startswith(), find(), index(), count()\n",
    "\n",
    "3- split(), strip(), join(), islower(), isalpha(), isdigit()\n",
    "\n",
    "\n",
    "Yukarıdaki `string` metodlarındaki değişimleri görebildiğimiz bir program yazınız.\n"
   ]
  },
  {
   "cell_type": "code",
   "execution_count": 42,
   "metadata": {},
   "outputs": [
    {
     "name": "stdout",
     "output_type": "stream",
     "text": [
      "  yetgen core python egitimi       \n",
      "  yetgen core python egitimi       \n",
      "  YETGEN CORE PYTHON EGITIMI       \n",
      "  YeTgeN COre pYthoN EgItImI       \n",
      "  Yetgen Core Python Egitimi       \n",
      "  yAtGAn coRA PyTHOn eGiTiMi       \n",
      "\n",
      "False\n",
      "False\n",
      "17\n",
      "2\n",
      "2\n",
      "\n",
      "yEtGEn coRE PyTHOn eGiTiMi\n",
      "['', '', 'yEtGEn', 'coRE', 'PyTHOn', 'eGiTiMi', '', '', '', '', '', '', '']\n",
      "yEtGEn, coRE, PyTHOn, eGiTiMi\n",
      "False\n",
      "False\n",
      "False\n"
     ]
    }
   ],
   "source": [
    "deger = \"  yEtGEn coRE PyTHOn eGiTiMi       \"\n",
    "degerler = [\"yEtGEn\", \"coRE\", \"PyTHOn\",\"eGiTiMi\"]\n",
    "\n",
    "print(deger.capitalize()) #sadece ilk harfi büyük, diğerlerini küçük yaptık\n",
    "print(deger.lower()) #bütün harfler küçük oldu\n",
    "print(deger.upper()) #bütün harfler büyük oldu\n",
    "print(deger.swapcase()) #büyük harfler küçük, küçük harfler büyük oldu\n",
    "print(deger.title()) #her kelimenin baş harfi büyük, diğer harfleri küçük oldu\n",
    "print(deger.replace(\"E\",\"A\")) #E olan değerleri A \n",
    "\n",
    "print(\"\")\n",
    "\n",
    "print(deger.endswith(\"i\")) #i hardi ile bitiyor mu \n",
    "print(deger.startswith(\"Y\")) #Y harfi ile basliyor mu \n",
    "print(deger.find(\"H\")) #H degeri kacinci indexte \n",
    "print(deger.index(\"y\")) #y degeri kacinci indexte\n",
    "print(deger.count(\"y\")) #kaç tane y değeri olduğuna bakar\n",
    "\n",
    "print(\"\")\n",
    "\n",
    "print(deger.strip()) #baştaki ve sondaki boşlukları temizler<\n",
    "print(deger.split(\" \")) #boşluğa göre diziye ayırır\n",
    "print(\", \".join(degerler)) #diziyi virgüle göre stringe çevirir\n",
    "print(deger.islower()) #her harfi küçük mü diye bakar\n",
    "print(deger.isalpha()) #tüm karakterler alfabetik mi diye bakar\n",
    "print(deger.isdigit()) #tüm karakterler rakamsal mı diye bakar"
   ]
  }
 ],
 "metadata": {
  "kernelspec": {
   "display_name": "Python 3",
   "language": "python",
   "name": "python3"
  },
  "language_info": {
   "codemirror_mode": {
    "name": "ipython",
    "version": 3
   },
   "file_extension": ".py",
   "mimetype": "text/x-python",
   "name": "python",
   "nbconvert_exporter": "python",
   "pygments_lexer": "ipython3",
   "version": "3.13.2"
  },
  "orig_nbformat": 4
 },
 "nbformat": 4,
 "nbformat_minor": 2
}
