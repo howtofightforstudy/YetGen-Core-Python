{
 "cells": [
  {
   "cell_type": "code",
   "execution_count": 39,
   "metadata": {},
   "outputs": [
    {
     "name": "stdout",
     "output_type": "stream",
     "text": [
      "['Ahmet', 'Eslem', 'Berkcan', 'Çağla']\n",
      "Ahmet\n",
      "Çağla\n"
     ]
    }
   ],
   "source": [
    "liderler = [\"Ahmet\",\"Eslem\",\"Berkcan\",\"Çağla\"]\n",
    "print(liderler)\n",
    "print(liderler[0])\n",
    "print(liderler[-1])"
   ]
  },
  {
   "cell_type": "code",
   "execution_count": 40,
   "metadata": {},
   "outputs": [
    {
     "name": "stdout",
     "output_type": "stream",
     "text": [
      "['Ahmet', 'Eslem', 'Berkcan', 'Çağla', 'Emirhan']\n",
      "eleman sayısı:  5\n",
      "['Ahmet', 'Eslem', 'Berkcan', 'Emirhan']\n",
      "eleman sayısı:  4\n"
     ]
    }
   ],
   "source": [
    "liderler = [\"Ahmet\",\"Eslem\",\"Berkcan\",\"Çağla\"]\n",
    "liderler.append(\"Emirhan\")\n",
    "print(liderler)\n",
    "print(\"eleman sayısı: \",len(liderler))\n",
    "\n",
    "liderler.remove(\"Çağla\")\n",
    "print(liderler)\n",
    "print(\"eleman sayısı: \",len(liderler))"
   ]
  },
  {
   "cell_type": "code",
   "execution_count": 41,
   "metadata": {},
   "outputs": [
    {
     "name": "stdout",
     "output_type": "stream",
     "text": [
      "['Berkcan', 'Eslem', 'Berkcan', 'Çağla']\n"
     ]
    }
   ],
   "source": [
    "liderler = [\"Ahmet\",\"Eslem\",\"Berkcan\",\"Çağla\"]\n",
    "liderler[0] = \"Berkcan\" #bu ise güncelleme yapmamızı sağlar\n",
    "print(liderler)"
   ]
  },
  {
   "cell_type": "code",
   "execution_count": 42,
   "metadata": {},
   "outputs": [
    {
     "name": "stdout",
     "output_type": "stream",
     "text": [
      "liderler listesi:  ['Ahmet', 'Eslem', 'Berkcan', 'Çağla']\n",
      "liderler listesi:  []\n"
     ]
    }
   ],
   "source": [
    "liderler = [\"Ahmet\",\"Eslem\",\"Berkcan\",\"Çağla\"]\n",
    "print(\"liderler listesi: \",liderler)\n",
    "liderler.clear()\n",
    "print(\"liderler listesi: \",liderler)"
   ]
  },
  {
   "cell_type": "code",
   "execution_count": 43,
   "metadata": {},
   "outputs": [
    {
     "name": "stdout",
     "output_type": "stream",
     "text": [
      "Ankara'nın indeksi: 0\n"
     ]
    }
   ],
   "source": [
    "sehirler = list((\"Ankara\",\"İstanbul\",\"İzmir\"))\n",
    "print(\"Ankara'nın indeksi: \" + str(sehirler.index(\"Ankara\")))\n",
    "#eğer +'dan sonra eklediğimiz değer sayısalsa, stringe çevirmemiz gerekir\n",
    "#print(\"Antalya'nın indeksi: \", sehirler.index(\"Antalya\"))"
   ]
  },
  {
   "cell_type": "code",
   "execution_count": 44,
   "metadata": {},
   "outputs": [
    {
     "data": {
      "text/plain": [
       "['İstanbul']"
      ]
     },
     "execution_count": 44,
     "metadata": {},
     "output_type": "execute_result"
    }
   ],
   "source": [
    "sehirler = list((\"Ankara\",\"İstanbul\",\"İzmir\"))\n",
    "sehirler.pop() #izmir silindi\n",
    "sehirler.pop(0) #ankara silindi\n",
    "sehirler #sehirler listesi çağırıldı ve istanbulu verdi"
   ]
  },
  {
   "cell_type": "code",
   "execution_count": 45,
   "metadata": {},
   "outputs": [
    {
     "data": {
      "text/plain": [
       "['Adana', 'Ankara', 'İstanbul', 'İzmir']"
      ]
     },
     "execution_count": 45,
     "metadata": {},
     "output_type": "execute_result"
    }
   ],
   "source": [
    "sehirler = list((\"Ankara\",\"İstanbul\",\"İzmir\"))\n",
    "sehirler.insert(0, \"Adana\")\n",
    "sehirler"
   ]
  },
  {
   "cell_type": "code",
   "execution_count": 46,
   "metadata": {},
   "outputs": [
    {
     "name": "stdout",
     "output_type": "stream",
     "text": [
      "['İzmir', 'İstanbul', 'Ankara']\n"
     ]
    }
   ],
   "source": [
    "sehirler = list((\"Ankara\",\"İstanbul\",\"İzmir\"))\n",
    "sehirler.reverse()\n",
    "print(sehirler)"
   ]
  },
  {
   "cell_type": "code",
   "execution_count": 47,
   "metadata": {},
   "outputs": [
    {
     "name": "stdout",
     "output_type": "stream",
     "text": [
      "['Ankara', 'İstanbul', 'İzmir']\n"
     ]
    }
   ],
   "source": [
    "sehirler = list((\"Ankara\",\"İstanbul\",\"İzmir\"))\n",
    "sehirler.sort()\n",
    "print(sehirler)\n",
    "#alfabete göre sıralar"
   ]
  },
  {
   "cell_type": "code",
   "execution_count": 48,
   "metadata": {},
   "outputs": [
    {
     "name": "stdout",
     "output_type": "stream",
     "text": [
      "['Berkcan', 'Ahmet', 'Elif', 'Azra']\n"
     ]
    }
   ],
   "source": [
    "liste1 = [\"Berkcan\",\"Ahmet\"]\n",
    "liste2 = [\"Elif\",\"Azra\"]\n",
    "print(liste1 + liste2)"
   ]
  },
  {
   "cell_type": "code",
   "execution_count": 49,
   "metadata": {},
   "outputs": [
    {
     "name": "stdout",
     "output_type": "stream",
     "text": [
      "1\n",
      "5\n",
      "berkcan\n",
      "4\n",
      "6\n",
      "z\n"
     ]
    }
   ],
   "source": [
    "nestedList = [1,5,\"berkcan\",4,[6,\"z\"]]\n",
    "print(nestedList[0])\n",
    "print(nestedList[1])\n",
    "print(nestedList[2])\n",
    "print(nestedList[3])\n",
    "print(nestedList[4][0])\n",
    "print(nestedList[4][1])"
   ]
  },
  {
   "cell_type": "code",
   "execution_count": 50,
   "metadata": {},
   "outputs": [
    {
     "name": "stdout",
     "output_type": "stream",
     "text": [
      "<class 'tuple'>\n",
      "(2, 3, 6, 'Ankara', [2, 4, 6])\n",
      "5\n",
      "Ankara\n"
     ]
    }
   ],
   "source": [
    "tupleList = (2,3,6,\"Ankara\",[2,4,6])\n",
    "print(type(tupleList))\n",
    "print(tupleList)\n",
    "print(len(tupleList))\n",
    "# tupleList[0] = 5 bu çalışmaz\n",
    "print(tupleList[-2])"
   ]
  },
  {
   "cell_type": "code",
   "execution_count": 51,
   "metadata": {},
   "outputs": [
    {
     "name": "stdout",
     "output_type": "stream",
     "text": [
      "{'Berkcan', 'Ahmet'}\n",
      "<class 'set'>\n"
     ]
    }
   ],
   "source": [
    "liderler = {\"Berkcan\",\"Ahmet\"}\n",
    "print(liderler)\n",
    "print(type(liderler))\n",
    "#print(liderler[0]) bunu yazdırmaz, hata verir"
   ]
  },
  {
   "cell_type": "code",
   "execution_count": 52,
   "metadata": {},
   "outputs": [
    {
     "name": "stdout",
     "output_type": "stream",
     "text": [
      "{'Berkcan', 'Eda'}\n",
      "<class 'set'>\n"
     ]
    }
   ],
   "source": [
    "liderler = {\"Eda\", \"Berkcan\", \"Eda\"}\n",
    "print(liderler)\n",
    "print(type(liderler))\n",
    "#iki kere aynı veriyi yazdırmak da işe yaramaz"
   ]
  },
  {
   "cell_type": "code",
   "execution_count": 53,
   "metadata": {},
   "outputs": [
    {
     "name": "stdout",
     "output_type": "stream",
     "text": [
      "Berkcan\n",
      "Eda\n",
      "Ahmet\n"
     ]
    }
   ],
   "source": [
    "liderler = {\"Berkcan\",\"Ahmet\",\"Eda\"}\n",
    "\n",
    "for lider in liderler:\n",
    "    print(lider)"
   ]
  },
  {
   "cell_type": "code",
   "execution_count": 54,
   "metadata": {},
   "outputs": [
    {
     "name": "stdout",
     "output_type": "stream",
     "text": [
      "True\n"
     ]
    }
   ],
   "source": [
    "liderler = {\"Berkcan\",\"Ahmet\"}\n",
    "print(\"Berkcan\" in liderler)\n",
    "#set içinde elemana böyle bakarız"
   ]
  },
  {
   "cell_type": "code",
   "execution_count": 55,
   "metadata": {},
   "outputs": [
    {
     "name": "stdout",
     "output_type": "stream",
     "text": [
      "{'Berkcan', 'Eda', 'Ahmet', 'Enes'}\n",
      "{'Berkcan', 'Emirhan', 'Eda', 'Çağla', 'Eslem', 'Ahmet', 'Enes'}\n",
      "{'Emirhan', 'Eda', 'Çağla', 'Eslem', 'Ahmet', 'Enes'}\n",
      "{'Eda', 'Çağla', 'Eslem', 'Ahmet', 'Enes'}\n"
     ]
    }
   ],
   "source": [
    "liderler = {\"Berkcan\",\"Ahmet\",\"Eda\"}\n",
    "liderler.add(\"Enes\") \n",
    "#enes elemanını ekledik\n",
    "print(liderler)\n",
    "liderler.update([\"Emirhan\",\"Eslem\",\"Çağla\"])\n",
    "#birden çok eleman ekledik\n",
    "print(liderler)\n",
    "liderler.remove(\"Berkcan\")\n",
    "#yazılan elemanı sildi\n",
    "print(liderler)\n",
    "liderler.pop()\n",
    "#son elemanı siler\n",
    "print(liderler)\n"
   ]
  },
  {
   "cell_type": "code",
   "execution_count": null,
   "metadata": {},
   "outputs": [
    {
     "name": "stdout",
     "output_type": "stream",
     "text": [
      "{1, 2, 3, 4, 5, 6}\n"
     ]
    },
    {
     "data": {
      "text/plain": [
       "{1, 2, 3, 4}"
      ]
     },
     "execution_count": 56,
     "metadata": {},
     "output_type": "execute_result"
    }
   ],
   "source": [
    "set1 = {1,2,3}\n",
    "set2 = {4,5,6}\n",
    "print(set1.union(set2))\n",
    "#birleştirme yaptı\n",
    "\n",
    "set3 = {1,2,3}\n",
    "set4 = {2,3,4}\n",
    "set3.union(set4)\n",
    "#birleştirme yaptı"
   ]
  },
  {
   "cell_type": "code",
   "execution_count": null,
   "metadata": {},
   "outputs": [
    {
     "name": "stdout",
     "output_type": "stream",
     "text": [
      "{2, 3}\n",
      "{1}\n",
      "{4}\n"
     ]
    }
   ],
   "source": [
    "set1 = {1,2,3}\n",
    "set2 = {2,3,4}\n",
    "print(set1.intersection(set2))\n",
    "#ortak olan elemanları aldı\n",
    "print(set1.difference(set2))\n",
    "#set2'den farklı olan elemanı yazdırdı\n",
    "print(set2.difference(set1))\n",
    "#set1'den farklı olan elemanı yazdırdı"
   ]
  },
  {
   "cell_type": "code",
   "execution_count": null,
   "metadata": {},
   "outputs": [
    {
     "name": "stdout",
     "output_type": "stream",
     "text": [
      "{1, 2, 3, 4}\n"
     ]
    },
    {
     "data": {
      "text/plain": [
       "set()"
      ]
     },
     "execution_count": 64,
     "metadata": {},
     "output_type": "execute_result"
    }
   ],
   "source": [
    "set1 = {1,2,3,4}\n",
    "print(set1)\n",
    "set1.clear()\n",
    "#set'i temizledi\n",
    "set1"
   ]
  },
  {
   "cell_type": "code",
   "execution_count": null,
   "metadata": {},
   "outputs": [
    {
     "name": "stdout",
     "output_type": "stream",
     "text": [
      "{'book': 'kitap', 'table': 'masa'}\n",
      "<class 'dict'>\n",
      "masa\n"
     ]
    }
   ],
   "source": [
    "sozluk = {\"book\":\"kitap\",\"table\":\"masa\"}\n",
    "print(sozluk)\n",
    "print(type(sozluk))\n",
    "\n",
    "print(sozluk[\"table\"])\n",
    "#key'in value karşılığını bu şekilde alırız"
   ]
  },
  {
   "cell_type": "code",
   "execution_count": null,
   "metadata": {},
   "outputs": [
    {
     "name": "stdout",
     "output_type": "stream",
     "text": [
      "tGe\n",
      "tGen\n",
      "Ye\n",
      "neGteY\n"
     ]
    }
   ],
   "source": [
    "x = \"YetGen\"\n",
    "print(x[2:5])\n",
    "#ikinci elemandan başlar beşinci elemana kadar yazdırır, 5 dahil değildir\n",
    "\n",
    "print(x[2:])\n",
    "#ikinci elemandan itibaren yazdırır\n",
    "\n",
    "print(x[:2])\n",
    "#ikinci elemana kadar yazdırır, ikinci eleman dahil değil\n",
    "\n",
    "print(x[::-1])\n",
    "#tersten yazdırırız"
   ]
  },
  {
   "cell_type": "code",
   "execution_count": 4,
   "metadata": {},
   "outputs": [
    {
     "name": "stdout",
     "output_type": "stream",
     "text": [
      "6\n"
     ]
    },
    {
     "data": {
      "text/plain": [
       "'YatGan'"
      ]
     },
     "execution_count": 4,
     "metadata": {},
     "output_type": "execute_result"
    }
   ],
   "source": [
    "x = \"YetGen\"\n",
    "print(len(x))\n",
    "#x değişkeninin uzunluğuna bakılır\n",
    "x.upper()\n",
    "#büyük harfe çevirir\n",
    "x.lower()\n",
    "#küçük harfe çevirir\n",
    "x.capitalize()\n",
    "#ilk harfi büyük harfe çevirir\n",
    "x.swapcase()\n",
    "#büyük harfleri küçük harfe, küçük harfleri büyük harfe çevirir\n",
    "x.replace(\"e\",\"a\")\n",
    "#x değişkenindeki e'leri a yaptı"
   ]
  },
  {
   "cell_type": "code",
   "execution_count": null,
   "metadata": {},
   "outputs": [
    {
     "name": "stdout",
     "output_type": "stream",
     "text": [
      "['Berkcan', 'Gümüşışık', '23', 'Ankara']\n",
      "['Berkcan', 'Gümüşışık', '23', 'Ankara']\n"
     ]
    }
   ],
   "source": [
    "bilgi = \"Berkcan Gümüşışık 23 Ankara\"\n",
    "print(bilgi.split(\" \"))\n",
    "\n",
    "bilgi2 = \"Berkcan ; Gümüşışık ; 23 ; Ankara\"\n",
    "print(bilgi2.split(\" ; \"))\n",
    "#istenilen bilgiye göre string ifadeyi ayırır"
   ]
  },
  {
   "cell_type": "code",
   "execution_count": 11,
   "metadata": {},
   "outputs": [
    {
     "name": "stdout",
     "output_type": "stream",
     "text": [
      "      YetGen  \n",
      "YetGen\n"
     ]
    }
   ],
   "source": [
    "bosluk = \"      YetGen  \"\n",
    "print(bosluk)\n",
    "print(bosluk.strip())"
   ]
  },
  {
   "cell_type": "code",
   "execution_count": 13,
   "metadata": {},
   "outputs": [
    {
     "name": "stdout",
     "output_type": "stream",
     "text": [
      "True\n",
      "False\n",
      "True\n"
     ]
    }
   ],
   "source": [
    "deger = \"YetGen\"\n",
    "print(deger.startswith(\"Y\"))\n",
    "print(deger.startswith(\"y\"))\n",
    "#küçük-büyük harf duyarlılığı vardır\n",
    "\n",
    "print(deger.endswith(\"n\"))"
   ]
  },
  {
   "cell_type": "code",
   "execution_count": 19,
   "metadata": {},
   "outputs": [
    {
     "name": "stdout",
     "output_type": "stream",
     "text": [
      "-1\n",
      "-1\n",
      "4\n",
      "True\n",
      "False\n",
      "True\n"
     ]
    }
   ],
   "source": [
    "yetgen = \"YetGen\"\n",
    "print(yetgen.find(\"m\"))\n",
    "print(yetgen.find(\"y\"))\n",
    "#küçük-büyük harf duyarlılığı var\n",
    "print(yetgen.index(\"en\"))\n",
    "#print(yetgen.index(\"m\")) dersek error verir\n",
    "print(yetgen.isalpha())\n",
    "print(yetgen.isdigit())\n",
    "print(\"123\".isdigit())"
   ]
  }
 ],
 "metadata": {
  "kernelspec": {
   "display_name": "Python 3",
   "language": "python",
   "name": "python3"
  },
  "language_info": {
   "codemirror_mode": {
    "name": "ipython",
    "version": 3
   },
   "file_extension": ".py",
   "mimetype": "text/x-python",
   "name": "python",
   "nbconvert_exporter": "python",
   "pygments_lexer": "ipython3",
   "version": "3.13.2"
  }
 },
 "nbformat": 4,
 "nbformat_minor": 2
}
