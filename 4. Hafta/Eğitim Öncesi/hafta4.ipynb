{
 "cells": [
  {
   "cell_type": "code",
   "execution_count": 16,
   "metadata": {},
   "outputs": [
    {
     "name": "stdout",
     "output_type": "stream",
     "text": [
      "['Ahmet', 'Eslem', 'Berkcan', 'Çağla']\n",
      "Ahmet\n",
      "Çağla\n"
     ]
    }
   ],
   "source": [
    "liderler = [\"Ahmet\",\"Eslem\",\"Berkcan\",\"Çağla\"]\n",
    "print(liderler)\n",
    "print(liderler[0])\n",
    "print(liderler[-1])"
   ]
  },
  {
   "cell_type": "code",
   "execution_count": 17,
   "metadata": {},
   "outputs": [
    {
     "name": "stdout",
     "output_type": "stream",
     "text": [
      "['Ahmet', 'Eslem', 'Berkcan', 'Çağla', 'Emirhan']\n",
      "eleman sayısı:  5\n",
      "['Ahmet', 'Eslem', 'Berkcan', 'Emirhan']\n",
      "eleman sayısı:  4\n"
     ]
    }
   ],
   "source": [
    "liderler = [\"Ahmet\",\"Eslem\",\"Berkcan\",\"Çağla\"]\n",
    "liderler.append(\"Emirhan\")\n",
    "print(liderler)\n",
    "print(\"eleman sayısı: \",len(liderler))\n",
    "\n",
    "liderler.remove(\"Çağla\")\n",
    "print(liderler)\n",
    "print(\"eleman sayısı: \",len(liderler))"
   ]
  },
  {
   "cell_type": "code",
   "execution_count": 18,
   "metadata": {},
   "outputs": [
    {
     "name": "stdout",
     "output_type": "stream",
     "text": [
      "['Berkcan', 'Eslem', 'Berkcan', 'Çağla']\n"
     ]
    }
   ],
   "source": [
    "liderler = [\"Ahmet\",\"Eslem\",\"Berkcan\",\"Çağla\"]\n",
    "liderler[0] = \"Berkcan\" #bu ise güncelleme yapmamızı sağlar\n",
    "print(liderler)"
   ]
  },
  {
   "cell_type": "code",
   "execution_count": 21,
   "metadata": {},
   "outputs": [
    {
     "name": "stdout",
     "output_type": "stream",
     "text": [
      "liderler listesi:  ['Ahmet', 'Eslem', 'Berkcan', 'Çağla']\n",
      "liderler listesi:  []\n"
     ]
    }
   ],
   "source": [
    "liderler = [\"Ahmet\",\"Eslem\",\"Berkcan\",\"Çağla\"]\n",
    "print(\"liderler listesi: \",liderler)\n",
    "liderler.clear()\n",
    "print(\"liderler listesi: \",liderler)"
   ]
  },
  {
   "cell_type": "code",
   "execution_count": 26,
   "metadata": {},
   "outputs": [
    {
     "name": "stdout",
     "output_type": "stream",
     "text": [
      "Ankara'nın indeksi: 0\n"
     ]
    }
   ],
   "source": [
    "sehirler = list((\"Ankara\",\"İstanbul\",\"İzmir\"))\n",
    "print(\"Ankara'nın indeksi: \" + str(sehirler.index(\"Ankara\")))\n",
    "#eğer +'dan sonra eklediğimiz değer sayısalsa, stringe çevirmemiz gerekir\n",
    "#print(\"Antalya'nın indeksi: \", sehirler.index(\"Antalya\"))"
   ]
  },
  {
   "cell_type": "code",
   "execution_count": null,
   "metadata": {},
   "outputs": [
    {
     "data": {
      "text/plain": [
       "['İstanbul']"
      ]
     },
     "execution_count": 27,
     "metadata": {},
     "output_type": "execute_result"
    }
   ],
   "source": [
    "sehirler = list((\"Ankara\",\"İstanbul\",\"İzmir\"))\n",
    "sehirler.pop() #izmir silindi\n",
    "sehirler.pop(0) #ankara silindi\n",
    "sehirler #sehirler listesi çağırıldı ve istanbulu verdi"
   ]
  },
  {
   "cell_type": "code",
   "execution_count": null,
   "metadata": {},
   "outputs": [
    {
     "data": {
      "text/plain": [
       "['Adana', 'Ankara', 'İstanbul', 'İzmir']"
      ]
     },
     "execution_count": 29,
     "metadata": {},
     "output_type": "execute_result"
    }
   ],
   "source": [
    "sehirler = list((\"Ankara\",\"İstanbul\",\"İzmir\"))\n",
    "sehirler.insert(0, \"Adana\")\n",
    "sehirler"
   ]
  },
  {
   "cell_type": "code",
   "execution_count": 30,
   "metadata": {},
   "outputs": [
    {
     "name": "stdout",
     "output_type": "stream",
     "text": [
      "['İzmir', 'İstanbul', 'Ankara']\n"
     ]
    }
   ],
   "source": [
    "sehirler = list((\"Ankara\",\"İstanbul\",\"İzmir\"))\n",
    "sehirler.reverse()\n",
    "print(sehirler)"
   ]
  },
  {
   "cell_type": "code",
   "execution_count": null,
   "metadata": {},
   "outputs": [
    {
     "name": "stdout",
     "output_type": "stream",
     "text": [
      "['Ankara', 'İstanbul', 'İzmir']\n"
     ]
    }
   ],
   "source": [
    "sehirler = list((\"Ankara\",\"İstanbul\",\"İzmir\"))\n",
    "sehirler.sort()\n",
    "print(sehirler)\n",
    "#alfabete göre sıralar"
   ]
  },
  {
   "cell_type": "code",
   "execution_count": 33,
   "metadata": {},
   "outputs": [
    {
     "name": "stdout",
     "output_type": "stream",
     "text": [
      "['Berkcan', 'Ahmet', 'Elif', 'Azra']\n"
     ]
    }
   ],
   "source": [
    "liste1 = [\"Berkcan\",\"Ahmet\"]\n",
    "liste2 = [\"Elif\",\"Azra\"]\n",
    "print(liste1 + liste2)"
   ]
  },
  {
   "cell_type": "code",
   "execution_count": 37,
   "metadata": {},
   "outputs": [
    {
     "name": "stdout",
     "output_type": "stream",
     "text": [
      "1\n",
      "5\n",
      "berkcan\n",
      "4\n",
      "6\n",
      "z\n"
     ]
    }
   ],
   "source": [
    "nestedList = [1,5,\"berkcan\",4,[6,\"z\"]]\n",
    "print(nestedList[0])\n",
    "print(nestedList[1])\n",
    "print(nestedList[2])\n",
    "print(nestedList[3])\n",
    "print(nestedList[4][0])\n",
    "print(nestedList[4][1])"
   ]
  }
 ],
 "metadata": {
  "kernelspec": {
   "display_name": "Python 3",
   "language": "python",
   "name": "python3"
  },
  "language_info": {
   "codemirror_mode": {
    "name": "ipython",
    "version": 3
   },
   "file_extension": ".py",
   "mimetype": "text/x-python",
   "name": "python",
   "nbconvert_exporter": "python",
   "pygments_lexer": "ipython3",
   "version": "3.13.2"
  }
 },
 "nbformat": 4,
 "nbformat_minor": 2
}
