{
 "cells": [
  {
   "cell_type": "markdown",
   "metadata": {
    "id": "-My6RWLrhXIq"
   },
   "source": [
    "# Problem 1\n",
    "Sözlükleri kullanarak bir telefon rehberi yazın. Bu rehberde kullanıcıya kimin telefonunu görüntülemek istediğini sorun ve kullanıcının girdiği isme göre o kişinin telefon numarasını yazdırın. Proje sonunda elde edeceğiniz çıktı  şuna benzer olmalı:\n",
    "\n",
    "\n",
    "Lütfen numarasını öğrenmek istediğiniz kişinin adını girin: Ahmet\n",
    "\n",
    "Ahmet isimli kişinin numarası şu şekildedir: 0532 678 13 19"
   ]
  },
  {
   "cell_type": "code",
   "execution_count": 36,
   "metadata": {
    "id": "LHIQEhchhXIu"
   },
   "outputs": [
    {
     "name": "stdout",
     "output_type": "stream",
     "text": [
      "Eda isimli kişinin numarası şu şekildedir: 0532 678 13 21\n"
     ]
    }
   ],
   "source": [
    "rehber = {\n",
    "    \"Ahmet\" : \"0532 678 13 19\",\n",
    "    \"Mehmet\" : \"0532 678 13 20\",\n",
    "    \"Eda\" : \"0532 678 13 21\",\n",
    "    \"Hasan\" : \"0532 678 13 22\",\n",
    "    \"İpek\" : \"0532 678 13 23\",\n",
    "    \"Azra\" : \"0532 678 13 24\",\n",
    "    \"Mert\" : \"0532 678 13 25\",\n",
    "    \"Hira\" : \"0532 678 13 26\",\n",
    "    \"Aren\" : \"0532 678 13 27\",\n",
    "    \"Kerim\" : \"0532 678 13 28\",\n",
    "    \"Polat\" : \"0532 678 13 29\",\n",
    "    \"Umay\" : \"0532 678 13 30\"\n",
    "}\n",
    "\n",
    "istek = input(\"Lütfen numarasını öğrenmek istediğiniz kişinin adını girin: \")\n",
    "\n",
    "if istek in rehber:\n",
    "    print(f\"{istek} isimli kişinin numarası şu şekildedir: {rehber[istek]}\")\n",
    "else:\n",
    "    print(f\"{istek} isimli kişinin numarası yoktur\")\n"
   ]
  },
  {
   "cell_type": "markdown",
   "metadata": {
    "id": "rlgfjEi7hXIv"
   },
   "source": [
    "# Problem 2\n",
    "Sözlükleri kullanarak bir şirket çalışanları indeksi oluşturun. Bu isim indeksinde kişilerin isimleri key, kişilerin  memleket, yaş ve görev bilgileri value olmalıdır. Burada kullanacağımız value değerleri liste olmalıdır.\n",
    "\n",
    "\n",
    "Daha sonra bir isim sorgulama ekranı gibi kullanıcıya kimin bilgilerini görüntülemek istediğini \n",
    "sorun ve sorgulanan kişinin ekranda gösterilmesini sağlayın. Proje sonunda elde edeceğiniz çıktı şu şekilde olmalı:\n",
    "\n",
    "\n",
    "Lütfen bilgilerini görüntülemek istediğiniz çalışanın ismini girin: Mehmet Yağız\n",
    "\n",
    "Mehmet Yağız= Memleket: Adana Yaş: 40 Görev: Direktör"
   ]
  },
  {
   "cell_type": "code",
   "execution_count": 48,
   "metadata": {
    "id": "O09zrrs0hXIv"
   },
   "outputs": [
    {
     "name": "stdout",
     "output_type": "stream",
     "text": [
      "Eslem\n",
      "Memleket:Trabzon\n",
      "Yaş:20\n",
      "Görev:Mobil Uygulama Geliştirici\n"
     ]
    }
   ],
   "source": [
    "sirket = {\n",
    "    \"Eda\" : [\"İstanbul\",\"20\",\"Oyun Geliştirici\"],\n",
    "    \"Beyza\" : [\"Mersin\",\"21\",\"Oyun Geliştirici\"],\n",
    "    \"Burak\" : [\"Kahramanmaraş\",\"29\",\"Mobil Uygulama Geliştirici\"],\n",
    "    \"Berk\" : [\"Kayseri\",\"24\",\"Veri Bilimci\"],\n",
    "    \"Eslem\" : [\"Trabzon\",\"20\",\"Mobil Uygulama Geliştirici\"]\n",
    "}\n",
    "\n",
    "sorgulama = input(\"Lütfen bilgilerini görüntülemek istediğiniz çalışanın ismini girin:\")\n",
    "\n",
    "if sorgulama in sirket:\n",
    "    print(f\"{sorgulama}\\nMemleket:{sirket[sorgulama][0]}\\nYaş:{sirket[sorgulama][1]}\\nGörev:{sirket[sorgulama][2]}\")\n",
    "else:\n",
    "    print(f\"{sorgulama} isimli kişi şirkette bulunmamaktadır\")"
   ]
  },
  {
   "cell_type": "markdown",
   "metadata": {
    "id": "G67ztXG-hXIw"
   },
   "source": [
    "# Problem 3\n",
    "\n",
    "3 öğrenciden oluşan bir öğrenci not sözlüğü oluşturun. Bu sözlükte öğrencilerin notları value olarak bir listede toplansın.\n",
    "\n",
    "Kullanıcıya hangi öğrencinin notlarını görmek istediğini sorun. Öğrencinin notu görüntülendiğinde program sonunda şöyle bir çıktı elde etmelisiniz:\n",
    "\n",
    "```\n",
    "Lütfen notlarını görmek istediğiniz öğrencinin adını girin: Mehmet\n",
    "\n",
    "Mehmet isimli öğrencinin      1.Sınav Notu:72\n",
    "                              2.Sınav Notu:66\n",
    "                              3.Sınav Notu:48\n",
    "Not Ortalaması: 62.0\n"
   ]
  },
  {
   "cell_type": "code",
   "execution_count": 66,
   "metadata": {
    "id": "TXQ_fuCHhXIw"
   },
   "outputs": [
    {
     "name": "stdout",
     "output_type": "stream",
     "text": [
      "Mehmet isimli öğrencinin\n",
      "1.Sınav Notu:72\n",
      "2.Sınav Notu:66\n",
      "3.Sınav Notu:48\n",
      "Not Ortalaması: 62.0\n"
     ]
    }
   ],
   "source": [
    "ogrenci_not = {\n",
    "    \"Mert\" : [20,40,89],\n",
    "    \"Eslem\" : [56,70,100],\n",
    "    \"Mehmet\" : [72,66,48]\n",
    "}\n",
    "\n",
    "istek = input(\"Lütfen notlarını görmek istediğiniz öğrencinin adını girin:\")\n",
    "\n",
    "ortalama = (ogrenci_not[istek][0]+ogrenci_not[istek][1]+ogrenci_not[istek][2])/3\n",
    "\n",
    "if istek in ogrenci_not:\n",
    "    print(f\"{istek} isimli öğrencinin\\n1.Sınav Notu:{ogrenci_not[istek][0]}\\n2.Sınav Notu:{ogrenci_not[istek][1]}\\n3.Sınav Notu:{ogrenci_not[istek][2]}\")\n",
    "    print(\"Not Ortalaması:\",round(ortalama,1))\n",
    "else:\n",
    "    print(f\"{istek} isimli öğrencinin not kayıtları yok\")"
   ]
  },
  {
   "cell_type": "markdown",
   "metadata": {
    "id": "oel6A5WFhXIw"
   },
   "source": [
    "# Problem 4"
   ]
  },
  {
   "cell_type": "code",
   "execution_count": 115,
   "metadata": {
    "id": "jVRdspCrhXIx"
   },
   "outputs": [
    {
     "name": "stdout",
     "output_type": "stream",
     "text": [
      "4\n",
      "Bmw\n",
      "Mazda\n",
      "['Bmw', 'Mercades', 'Opel', 'Toyoto']\n",
      "Opel\n",
      "['Bmw', 'Mercades', 'Opel']\n",
      "['Bmw', 'Mercades', 'Toyoto', 'Renault']\n",
      "['Bmw', 'Mercades', 'Toyoto', 'Renault', 'Audi', 'Nissan']\n",
      "['Bmw', 'Mercades', 'Toyoto', 'Renault', 'Audi']\n",
      "['Audi', 'Renault', 'Toyoto', 'Mercades', 'Bmw'] \n",
      "\n",
      "studentA: Yiğit Bilgi 2010, (70,60,70)\n",
      "studentB: Sena Turan  1999, (80,80,70)\n",
      "studentC: Ahmet Turan 1998, (80,70,90)\n",
      "\n",
      "['Ali', 'Yağmur', 'Hakan', 'Deniz', 'Cenk']\n",
      "['Sena', 'Ali', 'Yağmur', 'Hakan', 'Deniz', 'Cenk']\n",
      "['Sena', 'Ali', 'Yağmur', 'Hakan', 'Cenk']\n",
      "Ali, listenin elemanı\n",
      "['Cenk', 'Hakan', 'Yağmur', 'Ali', 'Sena']\n",
      "['Ali', 'Cenk', 'Hakan', 'Sena', 'Yağmur']\n",
      "[1987, 1998, 1998, 2000]\n",
      "['Chevrolet', 'Dacia']\n",
      "listede 2 tane 1998 vardır\n",
      "[] \n",
      "\n",
      "markalar: ['Opel', 'Bmw', 'Nissan']\n"
     ]
    }
   ],
   "source": [
    "# 1-  \"Bmw, Mercedes, Opel, Mazda\" elemanlarına sahip bir liste oluşturunuz.\n",
    "arabalar = [\"Bmw\",\"Mercades\",\"Opel\",\"Mazda\"]\n",
    "# 2-  Liste Kaç elemanlıdır ?\n",
    "print(len(arabalar))\n",
    "# 3-  Listenin ilk ve son elemanı nedir ?\n",
    "print(arabalar[0])\n",
    "print(arabalar[-1])\n",
    "# 4-  Mazda değerini Toyota ile değiştirin.\n",
    "arabalar[arabalar.index(\"Mazda\")]=\"Toyoto\"\n",
    "print(arabalar)\n",
    "# 5-  Listenin -2 indeksindeki değer nedir ?\n",
    "print(arabalar[-2])\n",
    "# 6-  Listenin ilk 3 elemanını alın.\n",
    "print(arabalar[:3])\n",
    "# 7-  Listenin son 2 elemanı yerine \"Toyota\" ve \"Renault\" değerlerini ekleyin.\n",
    "arabalar[-2] = \"Toyoto\"\n",
    "arabalar[-1] = \"Renault\"\n",
    "print(arabalar)\n",
    "# 8-  Listenin üzerine \"Audi\" ve \"Nissan\" değerlerini ekleyin.\n",
    "arabalar.insert(4,\"Audi\")\n",
    "arabalar.insert(5,\"Nissan\")\n",
    "print(arabalar)\n",
    "# 9- Listenin son elemanını silin.\n",
    "arabalar.pop()\n",
    "print(arabalar)\n",
    "# 10- Liste elemanlarını tersten yazdırınız.\n",
    "arabalar.reverse()\n",
    "print(arabalar,\"\\n\")\n",
    "# 11- Aşağıdaki verileri bir liste içinde saklayınız. \n",
    "\n",
    "      # studentA: Yiğit Bilgi 2010, (70,60,70)\n",
    "      # studentB: Sena Turan  1999, (80,80,70)\n",
    "      # studentC: Ahmet Turan 1998, (80,70,90) \n",
    "ogrenciler = [\n",
    "    [\"studentA\",[\"Yiğit Bilgi 2010\",70,60,70]],\n",
    "    [\"studentB\",[\"Sena Turan  1999\",80,80,70]],\n",
    "    [\"studentC\",[\"Ahmet Turan 1998\",80,70,90]]\n",
    "]\n",
    "# 12- Liste elemanlarını ekrana yazdırınız.\n",
    "print(f\"{ogrenciler[0][0]}: {ogrenciler[0][1][0]}, ({ogrenciler[0][1][1]},{ogrenciler[0][1][2]},{ogrenciler[0][1][3]})\")\n",
    "print(f\"{ogrenciler[1][0]}: {ogrenciler[1][1][0]}, ({ogrenciler[1][1][1]},{ogrenciler[1][1][2]},{ogrenciler[1][1][3]})\")\n",
    "print(f\"{ogrenciler[2][0]}: {ogrenciler[2][1][0]}, ({ogrenciler[2][1][1]},{ogrenciler[2][1][2]},{ogrenciler[2][1][3]})\")\n",
    "print(\"\")\n",
    "\n",
    "  \n",
    "names = ['Ali','Yağmur','Hakan','Deniz']\n",
    "years = [1998, 2000, 1998, 1987]\n",
    "\n",
    "# 13-  \"Cenk\" ismini listenin sonuna ekleyiniz.\n",
    "names.append(\"Cenk\")\n",
    "print(names)\n",
    "# 14-  \"Sena\" değerini listenin başına ekleyiniz.\n",
    "names.insert(0,\"Sena\")\n",
    "print(names)\n",
    "# 15-  \"Deniz\" ismini listeden siliniz.\n",
    "names.remove(\"Deniz\")\n",
    "print(names)\n",
    "# 16-  \"Ali\" listenin bir elemanı mıdır ?\n",
    "if \"Ali\" in names:\n",
    "    print(\"Ali, listenin elemanı\")\n",
    "else:\n",
    "    print(\"Ali, listenin elemanı değil\")\n",
    "# 17-  Liste elemanlarını ters çevirin.\n",
    "names.reverse()\n",
    "print(names)\n",
    "# 18-  Liste elemanlarını alfabetik olarak sıralayınız.\n",
    "names.sort()\n",
    "print(names)\n",
    "# 19-  years listesini rakamsal büyüklüğe göre sıralayınız.\n",
    "years.sort()\n",
    "print(years)\n",
    "# 20-  str = \"Chevrolet,Dacia\" karakter dizisini listeye çeviriniz.\n",
    "str = \"Chevrolet,Dacia\"\n",
    "print(str.split(\",\"))\n",
    "# 21- years dizisinde kaç tane 1998 değeri vardır ?\n",
    "sayac = 0\n",
    "for yil in years:\n",
    "    if yil == 1998:\n",
    "        sayac += 1\n",
    "    else:\n",
    "        continue\n",
    "print(f\"listede {sayac} tane 1998 vardır\") \n",
    "# 22- years dizisinin tüm elemanlarını siliniz.\n",
    "years.clear()\n",
    "print(years,\"\\n\")\n",
    "# 23- Kullanıcıdan alacağınız 3 tane marka bilgisini bir listede saklayınız.\n",
    "markalar = []\n",
    "for i in range(3):\n",
    "    marka=input(\"Lütfen marka adı giriniz:\")\n",
    "    markalar.append(marka)\n",
    "print(\"markalar:\",markalar)"
   ]
  }
 ],
 "metadata": {
  "colab": {
   "provenance": []
  },
  "kernelspec": {
   "display_name": "Python 3",
   "language": "python",
   "name": "python3"
  },
  "language_info": {
   "codemirror_mode": {
    "name": "ipython",
    "version": 3
   },
   "file_extension": ".py",
   "mimetype": "text/x-python",
   "name": "python",
   "nbconvert_exporter": "python",
   "pygments_lexer": "ipython3",
   "version": "3.13.2"
  },
  "orig_nbformat": 4
 },
 "nbformat": 4,
 "nbformat_minor": 0
}
