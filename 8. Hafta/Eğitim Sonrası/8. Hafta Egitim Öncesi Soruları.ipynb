{
 "cells": [
  {
   "cell_type": "markdown",
   "metadata": {
    "id": "Pzh44PAE5H61"
   },
   "source": [
    "# Problem 1 \n",
    "Kullanıcıdan aldığı ürün bilgisini (ad, fiyat) urunler.txt dosyasına kayıt eden fonksiyonu yazınız."
   ]
  },
  {
   "cell_type": "code",
   "execution_count": 14,
   "metadata": {
    "id": "uKw3Wap95H64"
   },
   "outputs": [
    {
     "name": "stdout",
     "output_type": "stream",
     "text": [
      "\n",
      "Ürün: Elma - Fiyat: 25 TL\n",
      "Ürün: Portakal - Fiyat: 12 TL\n",
      "Ürün: Karadut - Fiyat: 24 TL\n",
      "\n"
     ]
    }
   ],
   "source": [
    "def urunBilgisi(ad, fiyat):\n",
    "    with open(\"urunler.txt\", \"a\", encoding=\"utf-8\") as file:\n",
    "        file.write(f\"Ürün: {ad} - Fiyat: {fiyat} TL\\n\")\n",
    "\n",
    "ad = input(\"Ürün adını giriniz: \")\n",
    "fiyat = int(input(\"Ürün fiyatını giriniz: \"))\n",
    "\n",
    "urunBilgisi(ad, fiyat)\n",
    "\n",
    "file = open(\"urunler.txt\",\"r\",encoding=\"utf-8\")\n",
    "print(file.read())\n"
   ]
  },
  {
   "cell_type": "markdown",
   "metadata": {
    "id": "Lw7xy19D5H66"
   },
   "source": [
    "# Problem 2\n",
    "1.problemde oluşturulan text dosyası içerisinde kullanıcıdan alacağımız eski kelime isimli değişkene atadığımız \n",
    "ve değiştirilmesini istediğimiz kelimemizi yerini alıcak olan yeni kelime isimli değişkene atayın. Belirlenen kelimeleri text dosyasında değiştiren fonksiyonu yazınız."
   ]
  },
  {
   "cell_type": "code",
   "execution_count": 5,
   "metadata": {
    "id": "jDlym3ko5H66"
   },
   "outputs": [
    {
     "name": "stdout",
     "output_type": "stream",
     "text": [
      "\n",
      "Ürün: Üzüm - Fiyat: 25 TL\n",
      "Ürün: Portakal - Fiyat: 12 TL\n",
      "Ürün: Karadut - Fiyat: 24 TL\n",
      "\n"
     ]
    }
   ],
   "source": [
    "def kelimeDegistir(eskiKelime, yeniKelime):\n",
    "    with open(\"urunler.txt\", \"r+\", encoding=\"utf-8\") as file:\n",
    "        icerik = file.read()\n",
    "\n",
    "    degisim = icerik.replace(eskiKelime, yeniKelime)\n",
    "\n",
    "    with open(\"urunler.txt\", \"w\", encoding=\"utf-8\") as file:\n",
    "        file.write(degisim)\n",
    "\n",
    "\n",
    "ilkKelime = input(\"Eski kelimeyi yazın: \")\n",
    "sonKelime = input(\"Yeni kelimeyi yazın: \")\n",
    "\n",
    "kelimeDegistir(ilkKelime, sonKelime)\n",
    "\n",
    "file = open(\"urunler.txt\",\"r\",encoding=\"utf-8\")\n",
    "print(file.read())\n",
    "file.close()"
   ]
  },
  {
   "cell_type": "markdown",
   "metadata": {
    "id": "3aSYk4FF5H67"
   },
   "source": [
    "# Problem 3\n",
    "Vehicle sınıfının tüm değişkenlerini ve yöntemlerini devralacak bir alt sınıf olarak Bus sınıfı oluşturunuz.\n",
    "\n",
    "\n",
    "\n",
    "```\n",
    "Output\n",
    "> Name: School Volvo Speed: 180 Mileage: 12\n",
    "```\n"
   ]
  },
  {
   "cell_type": "code",
   "execution_count": 8,
   "metadata": {
    "id": "PwCI6Xkb5H68"
   },
   "outputs": [
    {
     "name": "stdout",
     "output_type": "stream",
     "text": [
      " Ürün: School Volvo\n",
      " Speed: 180\n",
      " Mileage: 12\n"
     ]
    }
   ],
   "source": [
    "class Araba():\n",
    "    def __init__(self,name,speed,mileage):\n",
    "        self.name = name\n",
    "        self.speed = speed\n",
    "        self.mileage = mileage\n",
    "\n",
    "araba1 = Araba(\"School Volvo\",180,12)\n",
    "print(f\" Ürün: {araba1.name}\\n Speed: {araba1.speed}\\n Mileage: {araba1.mileage}\")"
   ]
  }
 ],
 "metadata": {
  "colab": {
   "provenance": []
  },
  "kernelspec": {
   "display_name": "Python 3",
   "language": "python",
   "name": "python3"
  },
  "language_info": {
   "codemirror_mode": {
    "name": "ipython",
    "version": 3
   },
   "file_extension": ".py",
   "mimetype": "text/x-python",
   "name": "python",
   "nbconvert_exporter": "python",
   "pygments_lexer": "ipython3",
   "version": "3.13.2"
  },
  "orig_nbformat": 4,
  "vscode": {
   "interpreter": {
    "hash": "5026d2d6e7aaaaba093def813beadff083d8733e4a511af01735cbabd156995d"
   }
  }
 },
 "nbformat": 4,
 "nbformat_minor": 0
}
