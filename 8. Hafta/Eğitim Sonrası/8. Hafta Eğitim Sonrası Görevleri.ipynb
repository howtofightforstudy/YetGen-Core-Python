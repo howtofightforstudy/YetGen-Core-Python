{
 "cells": [
  {
   "attachments": {},
   "cell_type": "markdown",
   "metadata": {},
   "source": [
    "# Problem 1\n",
    "\n",
    "Şimdi beraber kullanıcılardan aldığımız verileri işleyerek, onlara hem çıktı verecek, hem de aldığımız ve hesapladığımız verileri ileride kullanabilmek adına kaydedeceğiz.\n",
    "\n",
    "\n",
    " **Bu bir veri giriş platformu olacak**\n",
    "\n",
    "\n",
    " * kullanıcıya kaç giriş yapacağını soracağız\n",
    "* kullanıcıdan isim-soyisim, yaş, boy, kilo bilgilerini alarak VKİ hesaplayacağız\n",
    "* ardından bunları sınıflara göre kaydedeceğiz bir dosyaya kaydedeceğiz\n",
    "\n",
    "\n",
    "Sınıflar ise şu şekilde: \n",
    "* 18, 5 kg/m.'nin altında olanlar: Zayıf\n",
    "* 18.5 – 24, 9 kg/m. arasında olanlar: Normal kilolu\n",
    "* 25 – 29, 9 kg/m. arasında olanlar: Fazla kilolu\n",
    "* 30 – 39, 9 kg/m. arasında olanlar: Obez\n",
    "* 40 kg/m.'nin üzerinde olanlar: İleri derecede obez (morbid obez), olarak görülür."
   ]
  },
  {
   "cell_type": "code",
   "execution_count": 27,
   "metadata": {},
   "outputs": [],
   "source": [
    "from datetime import datetime\n",
    "\n",
    "def indeksHesaplama(isimSoyisim,yas,boy,kilo):\n",
    "    boy = float(boy)\n",
    "    kilo = float(kilo)\n",
    "    hesapla = kilo / (boy*boy)\n",
    "    zaman = datetime.now().strftime(\"%d.%m.%Y\")\n",
    "\n",
    "    with open(\"vkiVeriler.txt\", \"a\", encoding=\"utf-8\") as dosya:\n",
    "        if hesapla < 18.5:\n",
    "            sonuc =  f\"Zayıf ({hesapla:.2f})\"\n",
    "        elif hesapla < 24.9:\n",
    "            sonuc = f\"Normal Kilolu ({hesapla:.2f})\"\n",
    "        elif hesapla <29.9:\n",
    "            sonuc = f\"Fazla Kilolu ({hesapla:.2f})\"\n",
    "        elif hesapla < 30.9:\n",
    "            sonuc = f\"Obez ({hesapla:.2f})\"\n",
    "        else:\n",
    "            sonuc = f\"İleri Derecede Obez ({hesapla:.2f})\"\n",
    "\n",
    "        dosya.write(f\"[{zaman}] {yas} yaşındaki {isimSoyisim} için vücut kitle indeksi: {sonuc}\\n\")\n",
    "\n",
    "def dosyaEkle():\n",
    "    girisSayisi = int(input(\"Kaç giriş yapacaksınız?\"))\n",
    "\n",
    "    for giris in range(girisSayisi):\n",
    "        isimSoyisim = input(\"Lütfen adınızını ve soyadınızı giriniz: \")\n",
    "        yas = input(\"Lütfen yaşınızı giriniz: \")\n",
    "        boy = input(\"Lütfen boyunuzu giriniz: \")\n",
    "        kilo = input(\"Lütfen kilonuzu giriniz: \")\n",
    "        indeksHesaplama(isimSoyisim, yas, boy, kilo)\n",
    "\n",
    "dosyaEkle()\n"
   ]
  },
  {
   "attachments": {},
   "cell_type": "markdown",
   "metadata": {},
   "source": [
    "# Problem 2\n",
    "**YetBar - Smoothie Bank**\n",
    "---\n",
    "YetBar spor salonunun girişinde bulunan, insansız bir sağlıklı içecek otomatıdır. Kullanıcı çeşitli girdiler smoothie içeceğine koyacağı ürünleri belirleyebilir, fiyat hesaplaması yaptırabilir ya da sadece menüyü görüntüleyebilir.\n",
    "\n",
    "**Projenin Amacı:**\n",
    "\n",
    "*   Birbirini etkileyen ve bir kod içerisinde birden fazla defa başvurulacak fonksiyonların oluşturulup, \"fonksiyonel\" proglamlamak.\n",
    "*   Büyük programları yazarken, yazılımcı olarak yapabileceğimiz hatalardan kaçınmak için kontrol yöntemleri geliştirmek.\n",
    "*   Kullanıcı inputlarını ve yaptığımız hesapları, raporlamak/loglamak amacıyla kaydetmek.\n",
    "\n",
    "**Programdan Beklenen Çıktılar**\n",
    "* Program kullanıcıya temelde 2 farklı işlem yapma imkanı sağlar.\n",
    "> 1. Menüyü görüntüleme\n",
    "> 3. Satın alma\n",
    "* Satın alınan her içecek tarih, fiyat bilgisi ile kaydedilmeli ve her zaman ulaşılabilir olmalıdır.\n",
    "\n",
    "\n"
   ]
  },
  {
   "cell_type": "code",
   "execution_count": 3,
   "metadata": {},
   "outputs": [
    {
     "name": "stdout",
     "output_type": "stream",
     "text": [
      "\n",
      "YetBar Otomatına Hoşgeldiniz\n",
      "Menü Görüntüleniyor\n",
      "1. Vanilyalı Smoothie ----- 60 TL \n",
      "2. Çilekli Smoothie ------- 65 TL\n",
      "3. Muzlu Smoothie --------- 65 TL\n",
      "4. Kakaolu Smoothie ------- 70 TL\n",
      "5. Çikolatalı Smoothie ---- 75 TL\n",
      "\n",
      "\n",
      "İşleminiz Kaydedildi... \n",
      "1. Menüyü Görüntüle\n",
      "2. Satın Al\n",
      "\n"
     ]
    }
   ],
   "source": [
    "menuListesi = print(\"\"\"\n",
    "YetBar Otomatına Hoşgeldiniz\n",
    "Menü Görüntüleniyor\n",
    "1. Vanilyalı Smoothie ----- 60 TL \n",
    "2. Çilekli Smoothie ------- 65 TL\n",
    "3. Muzlu Smoothie --------- 65 TL\n",
    "4. Kakaolu Smoothie ------- 70 TL\n",
    "5. Çikolatalı Smoothie ---- 75 TL\n",
    "\"\"\")\n",
    "\n",
    "def menuSecim(secim):\n",
    "    menu = {\n",
    "    1: (\"Vanilyalı Smoothie\", 60),\n",
    "    2: (\"Çilekli Smoothie\", 65),\n",
    "    3: (\"Muzlu Smoothie\", 65),\n",
    "    4: (\"Kakaolu Smoothie\", 70),\n",
    "    5: (\"Çikolatalı Smoothie\", 75)\n",
    "}\n",
    "    from datetime import datetime\n",
    "\n",
    "    if secim in menu:\n",
    "        secilen = menu[secim]\n",
    "        tarih = datetime.now().strftime(\"%d.%m.%Y\")\n",
    "\n",
    "    with open(\"YetBarSecim.txt\", \"a\", encoding=\"utf-8\") as file:\n",
    "        file.write(f\"[{tarih}] {secilen[0]} - {secilen[1]} TL\\n\")\n",
    "\n",
    "    return print(\"\"\"\n",
    "İşleminiz Kaydedildi... \n",
    "1. Menüyü Görüntüle\n",
    "2. Satın Al\n",
    "\"\"\")\n",
    "\n",
    "\n",
    "\n",
    "secim = int(input(f\"{menuListesi}\\nLütfen Seçim yapınız: \"))\n",
    "sonuc = menuSecim(secim)\n",
    "\n",
    "\n",
    "\n",
    "\n",
    "\n",
    "\n",
    "\n"
   ]
  }
 ],
 "metadata": {
  "kernelspec": {
   "display_name": "Python 3",
   "language": "python",
   "name": "python3"
  },
  "language_info": {
   "codemirror_mode": {
    "name": "ipython",
    "version": 3
   },
   "file_extension": ".py",
   "mimetype": "text/x-python",
   "name": "python",
   "nbconvert_exporter": "python",
   "pygments_lexer": "ipython3",
   "version": "3.13.2"
  },
  "orig_nbformat": 4,
  "vscode": {
   "interpreter": {
    "hash": "5026d2d6e7aaaaba093def813beadff083d8733e4a511af01735cbabd156995d"
   }
  }
 },
 "nbformat": 4,
 "nbformat_minor": 2
}
