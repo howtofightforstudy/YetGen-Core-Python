{
 "cells": [
  {
   "cell_type": "code",
   "execution_count": 3,
   "id": "958522e7",
   "metadata": {},
   "outputs": [
    {
     "name": "stdout",
     "output_type": "stream",
     "text": [
      "<_io.TextIOWrapper name='bilgiler.txt' mode='r' encoding='cp1254'>\n"
     ]
    }
   ],
   "source": [
    "f = open(\"bilgiler.txt\")\n",
    "print(f)"
   ]
  },
  {
   "cell_type": "code",
   "execution_count": null,
   "id": "5b9f0d6a",
   "metadata": {},
   "outputs": [
    {
     "name": "stdout",
     "output_type": "stream",
     "text": [
      "<_io.TextIOWrapper name='bilgiler.txt' mode='r' encoding='utf-8'>\n"
     ]
    }
   ],
   "source": [
    "try: \n",
    "    file = open(\"bilgiler.txt\",\"r\",encoding=\"utf-8\")\n",
    "except:\n",
    "    print(\"ben bu dosyayı bulamadım\")"
   ]
  },
  {
   "cell_type": "code",
   "execution_count": 14,
   "id": "c44f7450",
   "metadata": {},
   "outputs": [
    {
     "name": "stdout",
     "output_type": "stream",
     "text": [
      "1 ADANA\n",
      "\n",
      "2 ADIYAMAN\n",
      "\n",
      "3 AFYONKARAHİSAR\n",
      "\n",
      "4 AĞRI\n",
      "\n",
      "5 AKSARAY\n",
      "\n",
      "6 AMASYA\n",
      "\n",
      "7 ANKARA\n",
      "\n",
      "8 ANTALYA\n",
      "\n",
      "9 ARDAHAN\n",
      "\n",
      "10 ARTVİN\n",
      "\n"
     ]
    }
   ],
   "source": [
    "file = open(\"bilgiler.txt\",\"r\",encoding=\"utf-8\")\n",
    "\n",
    "for i in file:\n",
    "    print(i)\n",
    "file.close()"
   ]
  },
  {
   "cell_type": "code",
   "execution_count": 15,
   "id": "d93dea80",
   "metadata": {},
   "outputs": [
    {
     "name": "stdout",
     "output_type": "stream",
     "text": [
      "1.okuma dosya içeriği\n",
      " ADANA\n",
      "ADIYAMAN\n",
      "AFYONKARAHİSAR\n",
      "\n",
      "2.okuma dosya içeriği\n",
      " ADANA\n",
      "ADIYAMAN\n",
      "AFYONKARAHİSAR\n",
      "\n"
     ]
    }
   ],
   "source": [
    "file = open(\"bilgiler.txt\",\"r\",encoding=\"utf-8\")\n",
    "icerik = file.read()\n",
    "print(\"1.okuma dosya içeriği\\n\", icerik)\n",
    "file.seek(0)  #!buraya dikkat\n",
    "icerik2 = file.read()\n",
    "print(\"2.okuma dosya içeriği\\n\", icerik2)\n",
    "file.close()"
   ]
  },
  {
   "cell_type": "code",
   "execution_count": 21,
   "id": "397312e4",
   "metadata": {},
   "outputs": [
    {
     "name": "stdout",
     "output_type": "stream",
     "text": [
      "ADANA\n",
      "\n",
      "ADIYAMAN\n",
      "\n",
      "AFYONKARAHİSAR\n",
      "\n",
      "\n"
     ]
    }
   ],
   "source": [
    "file = open(\"bilgiler.txt\",\"r\",encoding=\"utf-8\")\n",
    "print(file.readline())\n",
    "print(file.readline())\n",
    "print(file.readline())\n",
    "print(file.readline()) #burda boş döndü\n",
    "file.close()"
   ]
  },
  {
   "cell_type": "code",
   "execution_count": null,
   "id": "57818ccb",
   "metadata": {},
   "outputs": [
    {
     "name": "stdout",
     "output_type": "stream",
     "text": [
      "['ADANA\\n', 'ADIYAMAN\\n', 'AFYONKARAHİSAR\\n']\n"
     ]
    }
   ],
   "source": [
    "file = open(\"bilgiler.txt\",\"r\",encoding=\"utf-8\")\n",
    "print(file.readlines())\n",
    "file.close()"
   ]
  },
  {
   "cell_type": "code",
   "execution_count": 10,
   "id": "b168726c",
   "metadata": {},
   "outputs": [],
   "source": [
    "file = open(\"bilgiler.txt\",\"w\",encoding=\"utf-8\")\n",
    "file.write(\"İZMİR\\n\")\n",
    "file.close()"
   ]
  },
  {
   "cell_type": "code",
   "execution_count": 11,
   "id": "d6e06e14",
   "metadata": {},
   "outputs": [],
   "source": [
    "file = open(\"bilgiler.txt\",\"a\",encoding=\"utf-8\")\n",
    "file.write(\"İSTANBUL\\n\")\n",
    "file.close()"
   ]
  },
  {
   "cell_type": "code",
   "execution_count": 13,
   "id": "1770d4f5",
   "metadata": {},
   "outputs": [],
   "source": [
    "file = open(\"bilgiler.txt\",\"r+\",encoding=\"utf-8\")\n",
    "file.write(\"ANKARA\\n\")\n",
    "file.read()\n",
    "file.close()"
   ]
  },
  {
   "cell_type": "code",
   "execution_count": 14,
   "id": "5fb29bab",
   "metadata": {},
   "outputs": [
    {
     "name": "stdout",
     "output_type": "stream",
     "text": [
      "ANKARA\n",
      "\n",
      "ADANA\n",
      "\n",
      "ADIYAMAN\n",
      "\n",
      "AFYONKARAHİSAR\n",
      "\n",
      "İSTANBUL\n",
      "\n"
     ]
    }
   ],
   "source": [
    "with open(\"bilgiler.txt\",\"r\",encoding=\"utf-8\") as file:\n",
    "    for i in file:\n",
    "        print(i)"
   ]
  },
  {
   "cell_type": "code",
   "execution_count": 1,
   "id": "be4aff75",
   "metadata": {},
   "outputs": [
    {
     "name": "stdout",
     "output_type": "stream",
     "text": [
      "20\n"
     ]
    }
   ],
   "source": [
    "with open(\"bilgiler.txt\",\"r+\",encoding=\"utf-8\") as file:\n",
    "    file.seek(20) #20.bayta gitti\n",
    "    print(file.tell()) #file dosyasının hangi baytta olduğunu yazdırdı"
   ]
  },
  {
   "cell_type": "code",
   "execution_count": 2,
   "id": "d1918a3f",
   "metadata": {},
   "outputs": [
    {
     "name": "stdout",
     "output_type": "stream",
     "text": [
      "A\n",
      "ADANA\n",
      "AD\n",
      "ANKARA\n"
     ]
    }
   ],
   "source": [
    "with open(\"bilgiler.txt\",\"r+\",encoding=\"utf-8\") as file:\n",
    "    file.seek(5) \n",
    "    icerik = file.read(10)\n",
    "    print(icerik)\n",
    "    file.seek(0)\n",
    "    icerik2= file.read(6)\n",
    "    print(icerik2)"
   ]
  },
  {
   "cell_type": "code",
   "execution_count": 4,
   "id": "6189faa4",
   "metadata": {},
   "outputs": [],
   "source": [
    "with open(\"bilgiler.txt\",\"r+\",encoding=\"utf-8\") as file:\n",
    "    file.seek(10)\n",
    "    file.write(\"deneme\")"
   ]
  },
  {
   "cell_type": "code",
   "execution_count": 5,
   "id": "465441e3",
   "metadata": {},
   "outputs": [
    {
     "name": "stdout",
     "output_type": "stream",
     "text": [
      "ANKARA\n",
      "ADdenemeDIYAMAN\n",
      "AFYONKARAHİSAR\n",
      "İSTANBUL\n",
      "\n"
     ]
    }
   ],
   "source": [
    "with open(\"bilgiler.txt\",\"r+\",encoding=\"utf-8\") as file:\n",
    "    print(file.read())"
   ]
  },
  {
   "cell_type": "code",
   "execution_count": 7,
   "id": "0cb6da3b",
   "metadata": {},
   "outputs": [],
   "source": [
    "with open(\"bilgiler.txt\",\"r+\",encoding=\"utf-8\") as file:\n",
    "    icerik = file.read()\n",
    "    icerik = \"Zonguldak\\n\" + icerik\n",
    "    file.seek(0)\n",
    "    file.write(icerik)"
   ]
  },
  {
   "cell_type": "code",
   "execution_count": 8,
   "id": "fca89eee",
   "metadata": {},
   "outputs": [
    {
     "name": "stdout",
     "output_type": "stream",
     "text": [
      "Zonguldak\n",
      "ANKARA\n",
      "ADdenemeDIYAMAN\n",
      "AFYONKARAHİSAR\n",
      "İSTANBUL\n",
      "\n"
     ]
    }
   ],
   "source": [
    "with open(\"bilgiler.txt\",\"r+\",encoding=\"utf-8\") as file:\n",
    "    print(file.read())"
   ]
  },
  {
   "cell_type": "code",
   "execution_count": 1,
   "id": "d3883a87",
   "metadata": {},
   "outputs": [],
   "source": [
    "with open(\"bilgiler.txt\",\"r+\",encoding=\"utf-8\") as file:\n",
    "    liste = file.readlines()\n",
    "    liste.insert(3,\"ESKİŞEHİR\\n\")\n",
    "    file.seek(0)\n",
    "    file.writelines(liste)"
   ]
  },
  {
   "cell_type": "code",
   "execution_count": 2,
   "id": "d0eeeca7",
   "metadata": {},
   "outputs": [
    {
     "name": "stdout",
     "output_type": "stream",
     "text": [
      "Zonguldak\n",
      "ANKARA\n",
      "ADdenemeDIYAMAN\n",
      "ESKİŞEHİR\n",
      "AFYONKARAHİSAR\n",
      "İSTANBUL\n",
      "\n"
     ]
    }
   ],
   "source": [
    "with open(\"bilgiler.txt\",\"r+\",encoding=\"utf-8\") as file:\n",
    "    print(file.read())"
   ]
  },
  {
   "cell_type": "code",
   "execution_count": 5,
   "id": "37060c71",
   "metadata": {},
   "outputs": [],
   "source": [
    "class Araba():\n",
    "    #sınıf özellikleri(attribute)\n",
    "    model = \"Renault Megane\"\n",
    "    renk = \"Gümüş\"\n",
    "    beygirGucu = 110\n",
    "    silindir = 4"
   ]
  },
  {
   "cell_type": "code",
   "execution_count": 4,
   "id": "03578c71",
   "metadata": {},
   "outputs": [
    {
     "name": "stdout",
     "output_type": "stream",
     "text": [
      "Renault Megane\n",
      "Gümüş\n",
      "110\n",
      "4\n"
     ]
    }
   ],
   "source": [
    "araba1 = Araba()\n",
    "print(araba1.model)\n",
    "print(araba1.renk)\n",
    "print(araba1.beygirGucu)\n",
    "print(araba1.silindir)"
   ]
  },
  {
   "cell_type": "code",
   "execution_count": null,
   "id": "b8e0970f",
   "metadata": {},
   "outputs": [
    {
     "name": "stdout",
     "output_type": "stream",
     "text": [
      "Kuş\n"
     ]
    }
   ],
   "source": [
    "class Hayvan():\n",
    "    isim = \"Kuş\"\n",
    "    print(isim)"
   ]
  },
  {
   "cell_type": "code",
   "execution_count": 7,
   "id": "904008b7",
   "metadata": {},
   "outputs": [
    {
     "name": "stdout",
     "output_type": "stream",
     "text": [
      "init fonksiyonu çalıştı\n"
     ]
    }
   ],
   "source": [
    "class Araba():\n",
    "    def __init__(self):\n",
    "        print(\"init fonksiyonu çalıştı\")\n",
    "    \n",
    "araba = Araba()"
   ]
  },
  {
   "cell_type": "code",
   "execution_count": 8,
   "id": "3c6e566b",
   "metadata": {},
   "outputs": [
    {
     "name": "stdout",
     "output_type": "stream",
     "text": [
      "Peugeot 301\n"
     ]
    }
   ],
   "source": [
    "class Araba():\n",
    "    def __init__(self,model,renk,beygirGücü,silindir):\n",
    "        self.model = model\n",
    "        self.renk = renk\n",
    "        self.beygirGücü = beygirGücü\n",
    "        self.silindir = silindir\n",
    "\n",
    "araba2 = Araba(\"Peugeot 301\",\"Beyaz\",90,4)\n",
    "print(araba2.model)"
   ]
  }
 ],
 "metadata": {
  "kernelspec": {
   "display_name": "Python 3",
   "language": "python",
   "name": "python3"
  },
  "language_info": {
   "codemirror_mode": {
    "name": "ipython",
    "version": 3
   },
   "file_extension": ".py",
   "mimetype": "text/x-python",
   "name": "python",
   "nbconvert_exporter": "python",
   "pygments_lexer": "ipython3",
   "version": "3.13.2"
  }
 },
 "nbformat": 4,
 "nbformat_minor": 5
}
