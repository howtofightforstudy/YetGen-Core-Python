{
 "cells": [
  {
   "cell_type": "code",
   "execution_count": 3,
   "id": "958522e7",
   "metadata": {},
   "outputs": [
    {
     "name": "stdout",
     "output_type": "stream",
     "text": [
      "<_io.TextIOWrapper name='bilgiler.txt' mode='r' encoding='cp1254'>\n"
     ]
    }
   ],
   "source": [
    "f = open(\"bilgiler.txt\")\n",
    "print(f)"
   ]
  },
  {
   "cell_type": "code",
   "execution_count": null,
   "id": "5b9f0d6a",
   "metadata": {},
   "outputs": [
    {
     "name": "stdout",
     "output_type": "stream",
     "text": [
      "<_io.TextIOWrapper name='bilgiler.txt' mode='r' encoding='utf-8'>\n"
     ]
    }
   ],
   "source": [
    "try: \n",
    "    file = open(\"bilgiler.txt\",\"r\",encoding=\"utf-8\")\n",
    "except:\n",
    "    print(\"ben bu dosyayı bulamadım\")"
   ]
  },
  {
   "cell_type": "code",
   "execution_count": 14,
   "id": "c44f7450",
   "metadata": {},
   "outputs": [
    {
     "name": "stdout",
     "output_type": "stream",
     "text": [
      "1 ADANA\n",
      "\n",
      "2 ADIYAMAN\n",
      "\n",
      "3 AFYONKARAHİSAR\n",
      "\n",
      "4 AĞRI\n",
      "\n",
      "5 AKSARAY\n",
      "\n",
      "6 AMASYA\n",
      "\n",
      "7 ANKARA\n",
      "\n",
      "8 ANTALYA\n",
      "\n",
      "9 ARDAHAN\n",
      "\n",
      "10 ARTVİN\n",
      "\n"
     ]
    }
   ],
   "source": [
    "file = open(\"bilgiler.txt\",\"r\",encoding=\"utf-8\")\n",
    "\n",
    "for i in file:\n",
    "    print(i)\n",
    "file.close()"
   ]
  },
  {
   "cell_type": "code",
   "execution_count": 15,
   "id": "d93dea80",
   "metadata": {},
   "outputs": [
    {
     "name": "stdout",
     "output_type": "stream",
     "text": [
      "1.okuma dosya içeriği\n",
      " ADANA\n",
      "ADIYAMAN\n",
      "AFYONKARAHİSAR\n",
      "\n",
      "2.okuma dosya içeriği\n",
      " ADANA\n",
      "ADIYAMAN\n",
      "AFYONKARAHİSAR\n",
      "\n"
     ]
    }
   ],
   "source": [
    "file = open(\"bilgiler.txt\",\"r\",encoding=\"utf-8\")\n",
    "icerik = file.read()\n",
    "print(\"1.okuma dosya içeriği\\n\", icerik)\n",
    "file.seek(0)  #!buraya dikkat\n",
    "icerik2 = file.read()\n",
    "print(\"2.okuma dosya içeriği\\n\", icerik2)\n",
    "file.close()"
   ]
  },
  {
   "cell_type": "code",
   "execution_count": 21,
   "id": "397312e4",
   "metadata": {},
   "outputs": [
    {
     "name": "stdout",
     "output_type": "stream",
     "text": [
      "ADANA\n",
      "\n",
      "ADIYAMAN\n",
      "\n",
      "AFYONKARAHİSAR\n",
      "\n",
      "\n"
     ]
    }
   ],
   "source": [
    "file = open(\"bilgiler.txt\",\"r\",encoding=\"utf-8\")\n",
    "print(file.readline())\n",
    "print(file.readline())\n",
    "print(file.readline())\n",
    "print(file.readline()) #burda boş döndü\n",
    "file.close()"
   ]
  },
  {
   "cell_type": "code",
   "execution_count": null,
   "id": "57818ccb",
   "metadata": {},
   "outputs": [
    {
     "name": "stdout",
     "output_type": "stream",
     "text": [
      "['ADANA\\n', 'ADIYAMAN\\n', 'AFYONKARAHİSAR\\n']\n"
     ]
    }
   ],
   "source": [
    "file = open(\"bilgiler.txt\",\"r\",encoding=\"utf-8\")\n",
    "print(file.readlines())\n",
    "file.close()"
   ]
  },
  {
   "cell_type": "code",
   "execution_count": 10,
   "id": "b168726c",
   "metadata": {},
   "outputs": [],
   "source": [
    "file = open(\"bilgiler.txt\",\"w\",encoding=\"utf-8\")\n",
    "file.write(\"İZMİR\\n\")\n",
    "file.close()"
   ]
  },
  {
   "cell_type": "code",
   "execution_count": 11,
   "id": "d6e06e14",
   "metadata": {},
   "outputs": [],
   "source": [
    "file = open(\"bilgiler.txt\",\"a\",encoding=\"utf-8\")\n",
    "file.write(\"İSTANBUL\\n\")\n",
    "file.close()"
   ]
  },
  {
   "cell_type": "code",
   "execution_count": 13,
   "id": "1770d4f5",
   "metadata": {},
   "outputs": [],
   "source": [
    "file = open(\"bilgiler.txt\",\"r+\",encoding=\"utf-8\")\n",
    "file.write(\"ANKARA\\n\")\n",
    "file.read()\n",
    "file.close()"
   ]
  }
 ],
 "metadata": {
  "kernelspec": {
   "display_name": "Python 3",
   "language": "python",
   "name": "python3"
  },
  "language_info": {
   "codemirror_mode": {
    "name": "ipython",
    "version": 3
   },
   "file_extension": ".py",
   "mimetype": "text/x-python",
   "name": "python",
   "nbconvert_exporter": "python",
   "pygments_lexer": "ipython3",
   "version": "3.13.2"
  }
 },
 "nbformat": 4,
 "nbformat_minor": 5
}
