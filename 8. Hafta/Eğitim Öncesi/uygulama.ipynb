{
 "cells": [
  {
   "cell_type": "code",
   "execution_count": 5,
   "id": "2939bf49",
   "metadata": {},
   "outputs": [
    {
     "name": "stdout",
     "output_type": "stream",
     "text": [
      "user123: Yeni güncellemeyi çok beğendim! yorumunu yapıp 45 like aldı, 3 dislike aldı\n",
      "animeFan99: Bir sonraki bölüm için sabırsızlanıyorum! yorumunu yapıp 78 like aldı, 2 dislike aldı\n",
      "techGuru_1: Yeni teknoloji bence oyunun kurallarını değiştirecek. yorumunu yapıp 120 like aldı, 7 dislike aldı\n",
      "movieBuff_07: Bu film harika sürprizlerle doluydu! yorumunu yapıp 63 like aldı, 5 dislike aldı\n",
      "gamerX_33: Yeni oyun gerçekten harika! yorumunu yapıp 150 like aldı, 10 dislike aldı\n"
     ]
    }
   ],
   "source": [
    "class Comment():\n",
    "    def __init__(self,username,text,likes,dislikes):\n",
    "        self.username = username\n",
    "        self.text = text\n",
    "        self.likes = likes\n",
    "        self.dislikes = dislikes\n",
    "\n",
    "comment1 = Comment(\"user123\", \"Yeni güncellemeyi çok beğendim!\", 45, 3)\n",
    "comment2 = Comment(\"animeFan99\", \"Bir sonraki bölüm için sabırsızlanıyorum!\", 78, 2)\n",
    "comment3 = Comment(\"techGuru_1\", \"Yeni teknoloji bence oyunun kurallarını değiştirecek.\", 120, 7)\n",
    "comment4 = Comment(\"movieBuff_07\", \"Bu film harika sürprizlerle doluydu!\", 63, 5)\n",
    "comment5 = Comment(\"gamerX_33\", \"Yeni oyun gerçekten harika!\", 150, 10)\n",
    "\n",
    "comments = [comment1,comment2,comment3,comment4,comment5]\n",
    "\n",
    "for i in comments:\n",
    "    #print(i.text)\n",
    "    print(f\"{i.username}: {i.text} yorumunu yapıp {i.likes} like aldı, {i.dislikes} dislike aldı\")"
   ]
  },
  {
   "cell_type": "code",
   "execution_count": null,
   "id": "6891c3f7",
   "metadata": {},
   "outputs": [],
   "source": [
    "\n",
    "\n",
    "\n"
   ]
  }
 ],
 "metadata": {
  "kernelspec": {
   "display_name": "Python 3",
   "language": "python",
   "name": "python3"
  },
  "language_info": {
   "codemirror_mode": {
    "name": "ipython",
    "version": 3
   },
   "file_extension": ".py",
   "mimetype": "text/x-python",
   "name": "python",
   "nbconvert_exporter": "python",
   "pygments_lexer": "ipython3",
   "version": "3.13.2"
  }
 },
 "nbformat": 4,
 "nbformat_minor": 5
}
